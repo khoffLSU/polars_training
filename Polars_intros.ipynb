{
 "cells": [
  {
   "cell_type": "markdown",
   "id": "c562e6cf-fca7-4673-81ee-9e3334ec84f0",
   "metadata": {},
   "source": [
    "# Polars Introductions\n",
    "This will be an attempt to learn the basic concepts and structures of the Polars library.  It has been heralded as a way to accelerate dataframe work.  The Documentation is quite detailed, so this is the starting point without reloading the entire documentation website. \n",
    "\n",
    "[Polars Documentation - Getting Started](https://docs.pola.rs/user-guide/getting-started/)"
   ]
  },
  {
   "cell_type": "code",
   "execution_count": 1,
   "id": "159f84c6-3ad2-4ae4-85d7-eeeb590a23ee",
   "metadata": {},
   "outputs": [],
   "source": [
    "import polars as pl\n",
    "import datetime as dt"
   ]
  },
  {
   "cell_type": "code",
   "execution_count": 2,
   "id": "3cce0ba5-b327-45a5-8071-5c575cd88803",
   "metadata": {},
   "outputs": [
    {
     "data": {
      "text/html": [
       "<i>naive plan: (run <b>LazyFrame.explain(optimized=True)</b> to see the optimized plan)</i>\n",
       "    <p></p>\n",
       "    <div>DF [\"name\", \"birthdate\", \"weight\", \"height\"]; PROJECT */4 COLUMNS</div>"
      ],
      "text/plain": [
       "<LazyFrame at 0x114E6C850>"
      ]
     },
     "execution_count": 2,
     "metadata": {},
     "output_type": "execute_result"
    }
   ],
   "source": [
    "lf = pl.LazyFrame(\n",
    "    {\n",
    "        \"name\": [\"Alice Archer\", \"Ben Brown\", \"Chloe Cooper\", \"Daniel Donovan\"],\n",
    "        \"birthdate\": [\n",
    "            dt.date(1997, 1, 10),\n",
    "            dt.date(1985, 2, 15),\n",
    "            dt.date(1983, 3, 22),\n",
    "            dt.date(1981, 4, 30),\n",
    "        ],\n",
    "        \"weight\": [57.9, 72.5, 53.6, 83.1],  # (kg)\n",
    "        \"height\": [1.56, 1.77, 1.65, 1.75],  # (m)\n",
    "    }\n",
    ") # nothing is returned in a Lazy frame without .collect() placed on the end\n",
    "\n",
    "lf"
   ]
  },
  {
   "cell_type": "code",
   "execution_count": 3,
   "id": "7ba2970d-47a4-4dfa-a0f3-5ff177ef81f5",
   "metadata": {},
   "outputs": [
    {
     "data": {
      "text/html": [
       "<div><style>\n",
       ".dataframe > thead > tr,\n",
       ".dataframe > tbody > tr {\n",
       "  text-align: right;\n",
       "  white-space: pre-wrap;\n",
       "}\n",
       "</style>\n",
       "<small>shape: (4, 4)</small><table border=\"1\" class=\"dataframe\"><thead><tr><th>name</th><th>birthdate</th><th>weight</th><th>height</th></tr><tr><td>str</td><td>date</td><td>f64</td><td>f64</td></tr></thead><tbody><tr><td>&quot;Alice Archer&quot;</td><td>1997-01-10</td><td>57.9</td><td>1.56</td></tr><tr><td>&quot;Ben Brown&quot;</td><td>1985-02-15</td><td>72.5</td><td>1.77</td></tr><tr><td>&quot;Chloe Cooper&quot;</td><td>1983-03-22</td><td>53.6</td><td>1.65</td></tr><tr><td>&quot;Daniel Donovan&quot;</td><td>1981-04-30</td><td>83.1</td><td>1.75</td></tr></tbody></table></div>"
      ],
      "text/plain": [
       "shape: (4, 4)\n",
       "┌────────────────┬────────────┬────────┬────────┐\n",
       "│ name           ┆ birthdate  ┆ weight ┆ height │\n",
       "│ ---            ┆ ---        ┆ ---    ┆ ---    │\n",
       "│ str            ┆ date       ┆ f64    ┆ f64    │\n",
       "╞════════════════╪════════════╪════════╪════════╡\n",
       "│ Alice Archer   ┆ 1997-01-10 ┆ 57.9   ┆ 1.56   │\n",
       "│ Ben Brown      ┆ 1985-02-15 ┆ 72.5   ┆ 1.77   │\n",
       "│ Chloe Cooper   ┆ 1983-03-22 ┆ 53.6   ┆ 1.65   │\n",
       "│ Daniel Donovan ┆ 1981-04-30 ┆ 83.1   ┆ 1.75   │\n",
       "└────────────────┴────────────┴────────┴────────┘"
      ]
     },
     "execution_count": 3,
     "metadata": {},
     "output_type": "execute_result"
    }
   ],
   "source": [
    "lf.collect() # this returns a Polars dataframe"
   ]
  },
  {
   "cell_type": "markdown",
   "id": "2d06babc-b9b4-4500-b811-c3da3d8bec29",
   "metadata": {},
   "source": [
    "## Importance of Lazy Frames\n",
    "They allow the entire dataset to be staged without loading it into memory until the collect function is called.  This means you can load the dataset, create all the queries and aggregations needed, and then call collect to only pull down the resultant data into memory.  An example:"
   ]
  },
  {
   "cell_type": "code",
   "execution_count": 4,
   "id": "ee3dd18b-f5b9-473b-a384-3522d08b08ec",
   "metadata": {},
   "outputs": [
    {
     "name": "stdout",
     "output_type": "stream",
     "text": [
      "shape: (2, 4)\n",
      "┌────────────────┬────────────┬────────┬────────┐\n",
      "│ name           ┆ birthdate  ┆ weight ┆ height │\n",
      "│ ---            ┆ ---        ┆ ---    ┆ ---    │\n",
      "│ str            ┆ date       ┆ f64    ┆ f64    │\n",
      "╞════════════════╪════════════╪════════╪════════╡\n",
      "│ Ben Brown      ┆ 1985-02-15 ┆ 72.5   ┆ 1.77   │\n",
      "│ Daniel Donovan ┆ 1981-04-30 ┆ 83.1   ┆ 1.75   │\n",
      "└────────────────┴────────────┴────────┴────────┘\n",
      "shape: (1, 2)\n",
      "┌────────────┬────────────┐\n",
      "│ avg_weight ┆ avg_height │\n",
      "│ ---        ┆ ---        │\n",
      "│ f64        ┆ f64        │\n",
      "╞════════════╪════════════╡\n",
      "│ 66.775     ┆ 1.6825     │\n",
      "└────────────┴────────────┘\n"
     ]
    }
   ],
   "source": [
    "print(lf.filter(pl.col('weight') > 60).collect())\n",
    "print(lf.select(pl.col('weight').mean().name.prefix('avg_'), \n",
    "                pl.col('height').mean().name.prefix('avg_'))\n",
    "    .collect())"
   ]
  },
  {
   "cell_type": "code",
   "execution_count": 5,
   "id": "ab0d5ded-93f9-4579-976c-0a7ad9ab6a7b",
   "metadata": {},
   "outputs": [
    {
     "name": "stdout",
     "output_type": "stream",
     "text": [
      "shape: (4, 4)\n",
      "┌────────────────┬────────────┬────────┬────────┐\n",
      "│ name           ┆ birthdate  ┆ weight ┆ height │\n",
      "│ ---            ┆ ---        ┆ ---    ┆ ---    │\n",
      "│ str            ┆ date       ┆ f64    ┆ f64    │\n",
      "╞════════════════╪════════════╪════════╪════════╡\n",
      "│ Alice Archer   ┆ 1997-01-10 ┆ 57.9   ┆ 1.56   │\n",
      "│ Ben Brown      ┆ 1985-02-15 ┆ 72.5   ┆ 1.77   │\n",
      "│ Chloe Cooper   ┆ 1983-03-22 ┆ 53.6   ┆ 1.65   │\n",
      "│ Daniel Donovan ┆ 1981-04-30 ┆ 83.1   ┆ 1.75   │\n",
      "└────────────────┴────────────┴────────┴────────┘\n"
     ]
    }
   ],
   "source": [
    "df = pl.DataFrame( # Straight to Dataframe\n",
    "    {\n",
    "        \"name\": [\"Alice Archer\", \"Ben Brown\", \"Chloe Cooper\", \"Daniel Donovan\"],\n",
    "        \"birthdate\": [\n",
    "            dt.date(1997, 1, 10),\n",
    "            dt.date(1985, 2, 15),\n",
    "            dt.date(1983, 3, 22),\n",
    "            dt.date(1981, 4, 30),\n",
    "        ],\n",
    "        \"weight\": [57.9, 72.5, 53.6, 83.1],  # (kg)\n",
    "        \"height\": [1.56, 1.77, 1.65, 1.75],  # (m)\n",
    "    }\n",
    ")\n",
    "\n",
    "print(df)"
   ]
  },
  {
   "cell_type": "markdown",
   "id": "ddc0d5e4-14b0-4447-b61a-eed4a520097b",
   "metadata": {},
   "source": [
    "## Standard Read and Write\n",
    "Polars has similar syntax to pandas for the read and write capabilities.\n",
    "\n",
    "- `df.write_csv(\"file_path\")`\n",
    "- `pl.read_scv(\"file_path\")`"
   ]
  },
  {
   "cell_type": "code",
   "execution_count": 6,
   "id": "f46b0b76-9126-4697-b623-037aebc7f25c",
   "metadata": {},
   "outputs": [
    {
     "name": "stdout",
     "output_type": "stream",
     "text": [
      "shape: (4, 4)\n",
      "┌────────────────┬────────────┬────────┬────────┐\n",
      "│ name           ┆ birthdate  ┆ weight ┆ height │\n",
      "│ ---            ┆ ---        ┆ ---    ┆ ---    │\n",
      "│ str            ┆ date       ┆ f64    ┆ f64    │\n",
      "╞════════════════╪════════════╪════════╪════════╡\n",
      "│ Alice Archer   ┆ 1997-01-10 ┆ 57.9   ┆ 1.56   │\n",
      "│ Ben Brown      ┆ 1985-02-15 ┆ 72.5   ┆ 1.77   │\n",
      "│ Chloe Cooper   ┆ 1983-03-22 ┆ 53.6   ┆ 1.65   │\n",
      "│ Daniel Donovan ┆ 1981-04-30 ┆ 83.1   ┆ 1.75   │\n",
      "└────────────────┴────────────┴────────┴────────┘\n"
     ]
    }
   ],
   "source": [
    "df.write_csv(\"output.csv\")\n",
    "df_csv = pl.read_csv(\"output.csv\", try_parse_dates=True,)\n",
    "print(df_csv)"
   ]
  },
  {
   "cell_type": "markdown",
   "id": "e3149281-b872-468d-96e7-a056f9449481",
   "metadata": {},
   "source": [
    "## Expressions and Contexts\n",
    "This is a Polars specific deviation.  Expressions are one of the main strengths of Polars because they provide a modular and flexible way of expressing data transformations.\n",
    "\n",
    "Here is an example of a Polars expression:\n",
    "`pl.col(\"weight\") / (pl.col(\"height\") ** 2)`"
   ]
  },
  {
   "cell_type": "code",
   "execution_count": 7,
   "id": "3e653447-bea4-433d-960f-d72dd5864df8",
   "metadata": {},
   "outputs": [
    {
     "data": {
      "text/html": [
       "[(col(\"weight\")) / (col(\"height\").pow([dyn int: 2]))]"
      ],
      "text/plain": [
       "<Expr ['[(col(\"weight\")) / (col(\"heigh…'] at 0x114E88D10>"
      ]
     },
     "execution_count": 7,
     "metadata": {},
     "output_type": "execute_result"
    }
   ],
   "source": [
    "pl.col(\"weight\") / (pl.col(\"height\") ** 2) # doesn't work alone, it needs a Polar context then it works"
   ]
  },
  {
   "cell_type": "markdown",
   "id": "af5d1daf-a3a4-4cfb-b6f2-df141628254a",
   "metadata": {},
   "source": [
    "---\n",
    "the four most common contexts that Polars provides1:\n",
    "\n",
    "- select\n",
    "- with_columns\n",
    "- filter\n",
    "- group_by\n",
    "\n",
    "\n",
    "Here is an example of some Polars expressions within a Polars context.  When these are executed they yeild results unlike those above without the context. \n",
    "\n",
    ">**select**: The select expression is essentially focusing the query at the start. The selection context select applies expressions over columns. The context select may produce new columns that are aggregations, combinations of other columns, or literals"
   ]
  },
  {
   "cell_type": "code",
   "execution_count": 8,
   "id": "3d267d3c-8612-4500-99bf-e0039d1b9cb3",
   "metadata": {},
   "outputs": [
    {
     "data": {
      "text/html": [
       "<div><style>\n",
       ".dataframe > thead > tr,\n",
       ".dataframe > tbody > tr {\n",
       "  text-align: right;\n",
       "  white-space: pre-wrap;\n",
       "}\n",
       "</style>\n",
       "<small>shape: (4, 3)</small><table border=\"1\" class=\"dataframe\"><thead><tr><th>name</th><th>birth_year</th><th>bmi</th></tr><tr><td>str</td><td>i32</td><td>f64</td></tr></thead><tbody><tr><td>&quot;Alice Archer&quot;</td><td>1997</td><td>23.791913</td></tr><tr><td>&quot;Ben Brown&quot;</td><td>1985</td><td>23.141498</td></tr><tr><td>&quot;Chloe Cooper&quot;</td><td>1983</td><td>19.687787</td></tr><tr><td>&quot;Daniel Donovan&quot;</td><td>1981</td><td>27.134694</td></tr></tbody></table></div>"
      ],
      "text/plain": [
       "shape: (4, 3)\n",
       "┌────────────────┬────────────┬───────────┐\n",
       "│ name           ┆ birth_year ┆ bmi       │\n",
       "│ ---            ┆ ---        ┆ ---       │\n",
       "│ str            ┆ i32        ┆ f64       │\n",
       "╞════════════════╪════════════╪═══════════╡\n",
       "│ Alice Archer   ┆ 1997       ┆ 23.791913 │\n",
       "│ Ben Brown      ┆ 1985       ┆ 23.141498 │\n",
       "│ Chloe Cooper   ┆ 1983       ┆ 19.687787 │\n",
       "│ Daniel Donovan ┆ 1981       ┆ 27.134694 │\n",
       "└────────────────┴────────────┴───────────┘"
      ]
     },
     "execution_count": 8,
     "metadata": {},
     "output_type": "execute_result"
    }
   ],
   "source": [
    "df.select(\n",
    "    pl.col(\"name\"), \n",
    "    pl.col(\"birthdate\").dt.year().alias(\"birth_year\"),\n",
    "    (pl.col(\"weight\")/(pl.col(\"height\")**2)).alias(\"bmi\"),\n",
    ")"
   ]
  },
  {
   "cell_type": "code",
   "execution_count": 9,
   "id": "1e64d0d5-054a-480d-9060-4230db3aeef2",
   "metadata": {},
   "outputs": [
    {
     "name": "stdout",
     "output_type": "stream",
     "text": [
      "shape: (4, 3)\n",
      "┌────────────────┬───────────┬───────────┐\n",
      "│ name           ┆ weight-5% ┆ height-5% │\n",
      "│ ---            ┆ ---       ┆ ---       │\n",
      "│ str            ┆ f64       ┆ f64       │\n",
      "╞════════════════╪═══════════╪═══════════╡\n",
      "│ Alice Archer   ┆ 55.0      ┆ 1.48      │\n",
      "│ Ben Brown      ┆ 68.88     ┆ 1.68      │\n",
      "│ Chloe Cooper   ┆ 50.92     ┆ 1.57      │\n",
      "│ Daniel Donovan ┆ 78.94     ┆ 1.66      │\n",
      "└────────────────┴───────────┴───────────┘\n"
     ]
    }
   ],
   "source": [
    "print(df.select(\n",
    "    pl.col('name'),\n",
    "    (pl.col('weight','height')*0.95).round(2).name.suffix('-5%'),\n",
    "))"
   ]
  },
  {
   "cell_type": "markdown",
   "id": "3af8a6d1-b5ff-4f81-ab77-fe7550377134",
   "metadata": {},
   "source": [
    ">**with_columns**: This adds columns to the original dataframe rather than filtering as in select.  Sort of like saying add columns versus with_columns, but same difference."
   ]
  },
  {
   "cell_type": "code",
   "execution_count": 10,
   "id": "8d03aa86-95d2-4868-a743-aa61f84dc387",
   "metadata": {},
   "outputs": [
    {
     "name": "stdout",
     "output_type": "stream",
     "text": [
      "shape: (4, 6)\n",
      "┌────────────────┬────────────┬────────┬────────┬────────────┬───────────┐\n",
      "│ name           ┆ birthdate  ┆ weight ┆ height ┆ birth_year ┆ bmi       │\n",
      "│ ---            ┆ ---        ┆ ---    ┆ ---    ┆ ---        ┆ ---       │\n",
      "│ str            ┆ date       ┆ f64    ┆ f64    ┆ i32        ┆ f64       │\n",
      "╞════════════════╪════════════╪════════╪════════╪════════════╪═══════════╡\n",
      "│ Alice Archer   ┆ 1997-01-10 ┆ 57.9   ┆ 1.56   ┆ 1997       ┆ 23.791913 │\n",
      "│ Ben Brown      ┆ 1985-02-15 ┆ 72.5   ┆ 1.77   ┆ 1985       ┆ 23.141498 │\n",
      "│ Chloe Cooper   ┆ 1983-03-22 ┆ 53.6   ┆ 1.65   ┆ 1983       ┆ 19.687787 │\n",
      "│ Daniel Donovan ┆ 1981-04-30 ┆ 83.1   ┆ 1.75   ┆ 1981       ┆ 27.134694 │\n",
      "└────────────────┴────────────┴────────┴────────┴────────────┴───────────┘\n"
     ]
    }
   ],
   "source": [
    "print(\n",
    "    df.with_columns(\n",
    "        birth_year = pl.col(\"birthdate\").dt.year(), # named expressions are an alternate to aliasing\n",
    "        bmi = (pl.col('weight')/pl.col('height')**2),\n",
    "    )\n",
    ")"
   ]
  },
  {
   "cell_type": "markdown",
   "id": "bcc2d3eb-89b2-4b99-a28f-3f79c057023b",
   "metadata": {},
   "source": [
    ">**filter**: Allow expressions to filter the broader frame based on specified criteria"
   ]
  },
  {
   "cell_type": "code",
   "execution_count": 11,
   "id": "d858f62a-06b3-40b3-8b6c-1a046032ee49",
   "metadata": {},
   "outputs": [
    {
     "name": "stdout",
     "output_type": "stream",
     "text": [
      "shape: (3, 4)\n",
      "┌────────────────┬────────────┬────────┬────────┐\n",
      "│ name           ┆ birthdate  ┆ weight ┆ height │\n",
      "│ ---            ┆ ---        ┆ ---    ┆ ---    │\n",
      "│ str            ┆ date       ┆ f64    ┆ f64    │\n",
      "╞════════════════╪════════════╪════════╪════════╡\n",
      "│ Ben Brown      ┆ 1985-02-15 ┆ 72.5   ┆ 1.77   │\n",
      "│ Chloe Cooper   ┆ 1983-03-22 ┆ 53.6   ┆ 1.65   │\n",
      "│ Daniel Donovan ┆ 1981-04-30 ┆ 83.1   ┆ 1.75   │\n",
      "└────────────────┴────────────┴────────┴────────┘\n"
     ]
    }
   ],
   "source": [
    "print(\n",
    "    df.filter(\n",
    "        pl.col('birthdate').dt.year() < 1990\n",
    "    )\n",
    ")"
   ]
  },
  {
   "cell_type": "code",
   "execution_count": 12,
   "id": "7e749576-725d-4901-85cb-9e77ad2a6731",
   "metadata": {},
   "outputs": [
    {
     "name": "stdout",
     "output_type": "stream",
     "text": [
      "shape: (1, 4)\n",
      "┌───────────┬────────────┬────────┬────────┐\n",
      "│ name      ┆ birthdate  ┆ weight ┆ height │\n",
      "│ ---       ┆ ---        ┆ ---    ┆ ---    │\n",
      "│ str       ┆ date       ┆ f64    ┆ f64    │\n",
      "╞═══════════╪════════════╪════════╪════════╡\n",
      "│ Ben Brown ┆ 1985-02-15 ┆ 72.5   ┆ 1.77   │\n",
      "└───────────┴────────────┴────────┴────────┘\n"
     ]
    }
   ],
   "source": [
    "print(\n",
    "    df.filter(\n",
    "        pl.col(\"birthdate\").is_between(dt.date(1982, 12, 31), dt.date(1996, 1, 1)),\n",
    "        pl.col(\"height\") > 1.7,\n",
    "    )\n",
    ")"
   ]
  },
  {
   "cell_type": "markdown",
   "id": "498397ee-99ff-42b3-a9c5-1ebebb54fe7a",
   "metadata": {},
   "source": [
    ">**group_by**: In context the `df.group_by(pl.col('name'))` can aggregate the call dataframe based on the columns specified."
   ]
  },
  {
   "cell_type": "code",
   "execution_count": 13,
   "id": "a201864a-dc4c-48d6-a9bb-2ad14de0b2da",
   "metadata": {},
   "outputs": [
    {
     "name": "stdout",
     "output_type": "stream",
     "text": [
      "shape: (2, 2)\n",
      "┌────────┬─────────────┐\n",
      "│ decade ┆ sample_size │\n",
      "│ ---    ┆ ---         │\n",
      "│ i32    ┆ u32         │\n",
      "╞════════╪═════════════╡\n",
      "│ 1990   ┆ 1           │\n",
      "│ 1980   ┆ 3           │\n",
      "└────────┴─────────────┘\n"
     ]
    }
   ],
   "source": [
    "print(\n",
    "    df.group_by(\n",
    "        decade = (pl.col('birthdate').dt.year()//10*10),\n",
    "        maintain_order=True\n",
    "    ).agg(\n",
    "        pl.len().alias('sample_size')\n",
    "    )\n",
    ")"
   ]
  },
  {
   "cell_type": "code",
   "execution_count": 14,
   "id": "651d7445-4efc-494d-a934-93ba6c5ce7a7",
   "metadata": {},
   "outputs": [
    {
     "name": "stdout",
     "output_type": "stream",
     "text": [
      "shape: (2, 4)\n",
      "┌────────┬─────────────┬────────────┬─────────┐\n",
      "│ decade ┆ sample_size ┆ avg_weight ┆ tallest │\n",
      "│ ---    ┆ ---         ┆ ---        ┆ ---     │\n",
      "│ i32    ┆ u32         ┆ f64        ┆ f64     │\n",
      "╞════════╪═════════════╪════════════╪═════════╡\n",
      "│ 1990   ┆ 1           ┆ 57.9       ┆ 1.56    │\n",
      "│ 1980   ┆ 3           ┆ 69.73      ┆ 1.77    │\n",
      "└────────┴─────────────┴────────────┴─────────┘\n"
     ]
    }
   ],
   "source": [
    "print(\n",
    "    df.group_by(\n",
    "        (pl.col(\"birthdate\").dt.year() // 10 * 10).alias(\"decade\"),\n",
    "        maintain_order=True,\n",
    "    ).agg(\n",
    "        pl.len().alias(\"sample_size\"),\n",
    "        pl.col(\"weight\").mean().round(2).alias(\"avg_weight\"),\n",
    "        pl.col(\"height\").max().alias(\"tallest\"),\n",
    "    )\n",
    "     )"
   ]
  },
  {
   "cell_type": "code",
   "execution_count": 15,
   "id": "810803c4-612a-44e7-8545-d8fedf241a12",
   "metadata": {},
   "outputs": [
    {
     "data": {
      "text/plain": [
       "['name', 'birthdate', 'weight', 'height']"
      ]
     },
     "execution_count": 15,
     "metadata": {},
     "output_type": "execute_result"
    }
   ],
   "source": [
    "df.columns"
   ]
  },
  {
   "cell_type": "markdown",
   "id": "83a452f4-667f-4849-8f7e-fa9f9cdcda8b",
   "metadata": {},
   "source": [
    "# Chaining\n",
    "This is available in pandas as well.  The concept is to pass the output of the last operation to the next step in the pipeline.  Polars is designed to work this way, and has the ability to optimize the processing under the hood to improve performance even if you call for the steps in a less ideal order.  \n",
    "\n",
    ">**NOTE**: You cannot use an assignment in the chain since a positional argument cannot follow a keyword argument."
   ]
  },
  {
   "cell_type": "code",
   "execution_count": 16,
   "id": "747d2097-3748-459c-97c7-50100c8855c7",
   "metadata": {},
   "outputs": [
    {
     "name": "stdout",
     "output_type": "stream",
     "text": [
      "shape: (2, 4)\n",
      "┌────────┬────────────────────────────┬────────────┬────────────┐\n",
      "│ decade ┆ name                       ┆ avg_weight ┆ avg_height │\n",
      "│ ---    ┆ ---                        ┆ ---        ┆ ---        │\n",
      "│ i32    ┆ list[str]                  ┆ f64        ┆ f64        │\n",
      "╞════════╪════════════════════════════╪════════════╪════════════╡\n",
      "│ 1990   ┆ [\"Alice\"]                  ┆ 57.9       ┆ 1.56       │\n",
      "│ 1980   ┆ [\"Ben\", \"Chloe\", \"Daniel\"] ┆ 69.73      ┆ 1.72       │\n",
      "└────────┴────────────────────────────┴────────────┴────────────┘\n"
     ]
    }
   ],
   "source": [
    "print(\n",
    "    df.with_columns(\n",
    "    (pl.col('birthdate').dt.year()//10*10).alias('decade'),\n",
    "    pl.col('name').str.split(\" \").list.first(),\n",
    ").select(\n",
    "    pl.all().exclude('birthdate'),\n",
    ").group_by(\n",
    "    pl.col('decade'),\n",
    "    maintain_order=True,\n",
    ").agg(\n",
    "    pl.col('name'),\n",
    "    pl.col('weight','height').mean().round(2).name.prefix('avg_')\n",
    ")\n",
    ")"
   ]
  },
  {
   "cell_type": "markdown",
   "id": "b2edd07e-3495-4385-8da6-0b985edd1553",
   "metadata": {},
   "source": [
    "## Combining DataFrames\n",
    "Polars has a number of tools to combine two dataframes.  A join and a concatenation call will be shown in this section as an introduction to this topic."
   ]
  },
  {
   "cell_type": "code",
   "execution_count": 17,
   "id": "847fa24b-4c33-4f32-b1e3-1490720f8df7",
   "metadata": {},
   "outputs": [],
   "source": [
    "df2 = pl.DataFrame(\n",
    "    {\n",
    "        \"name\": [\"Ben Brown\", \"Daniel Donovan\", \"Alice Archer\", \"Chloe Cooper\"],\n",
    "        \"parent\": [True, False, False, False],\n",
    "        \"siblings\": [1, 2, 3, 4],\n",
    "    }\n",
    ")"
   ]
  },
  {
   "cell_type": "code",
   "execution_count": 18,
   "id": "f9df1619-bcd2-4bd2-8ad4-df9add50da6d",
   "metadata": {},
   "outputs": [
    {
     "name": "stdout",
     "output_type": "stream",
     "text": [
      "shape: (4, 3)\n",
      "┌────────────────┬────────┬──────────┐\n",
      "│ name           ┆ parent ┆ siblings │\n",
      "│ ---            ┆ ---    ┆ ---      │\n",
      "│ str            ┆ bool   ┆ i64      │\n",
      "╞════════════════╪════════╪══════════╡\n",
      "│ Ben Brown      ┆ true   ┆ 1        │\n",
      "│ Daniel Donovan ┆ false  ┆ 2        │\n",
      "│ Alice Archer   ┆ false  ┆ 3        │\n",
      "│ Chloe Cooper   ┆ false  ┆ 4        │\n",
      "└────────────────┴────────┴──────────┘\n"
     ]
    }
   ],
   "source": [
    "print(df2)"
   ]
  },
  {
   "cell_type": "code",
   "execution_count": 19,
   "id": "46d2576b-20a3-4af9-9ed5-35dd844cce71",
   "metadata": {},
   "outputs": [
    {
     "name": "stdout",
     "output_type": "stream",
     "text": [
      "shape: (4, 6)\n",
      "┌────────────────┬────────────┬────────┬────────┬────────┬──────────┐\n",
      "│ name           ┆ birthdate  ┆ weight ┆ height ┆ parent ┆ siblings │\n",
      "│ ---            ┆ ---        ┆ ---    ┆ ---    ┆ ---    ┆ ---      │\n",
      "│ str            ┆ date       ┆ f64    ┆ f64    ┆ bool   ┆ i64      │\n",
      "╞════════════════╪════════════╪════════╪════════╪════════╪══════════╡\n",
      "│ Alice Archer   ┆ 1997-01-10 ┆ 57.9   ┆ 1.56   ┆ false  ┆ 3        │\n",
      "│ Ben Brown      ┆ 1985-02-15 ┆ 72.5   ┆ 1.77   ┆ true   ┆ 1        │\n",
      "│ Chloe Cooper   ┆ 1983-03-22 ┆ 53.6   ┆ 1.65   ┆ false  ┆ 4        │\n",
      "│ Daniel Donovan ┆ 1981-04-30 ┆ 83.1   ┆ 1.75   ┆ false  ┆ 2        │\n",
      "└────────────────┴────────────┴────────┴────────┴────────┴──────────┘\n"
     ]
    }
   ],
   "source": [
    "print(df.join(df2, on=\"name\", how=\"left\"))"
   ]
  },
  {
   "cell_type": "code",
   "execution_count": 20,
   "id": "06bb9c44-df8f-4f21-939f-9fb3bca58063",
   "metadata": {},
   "outputs": [
    {
     "name": "stdout",
     "output_type": "stream",
     "text": [
      "shape: (4, 4)\n",
      "┌───────────────┬────────────┬────────┬────────┐\n",
      "│ name          ┆ birthdate  ┆ weight ┆ height │\n",
      "│ ---           ┆ ---        ┆ ---    ┆ ---    │\n",
      "│ str           ┆ date       ┆ f64    ┆ f64    │\n",
      "╞═══════════════╪════════════╪════════╪════════╡\n",
      "│ Ethan Edwards ┆ 1977-05-10 ┆ 67.9   ┆ 1.76   │\n",
      "│ Fiona Foster  ┆ 1975-06-23 ┆ 72.5   ┆ 1.6    │\n",
      "│ Grace Gibson  ┆ 1973-07-22 ┆ 57.6   ┆ 1.66   │\n",
      "│ Henry Harris  ┆ 1971-08-03 ┆ 93.1   ┆ 1.8    │\n",
      "└───────────────┴────────────┴────────┴────────┘\n"
     ]
    }
   ],
   "source": [
    "df3 = pl.DataFrame(\n",
    "    {\n",
    "        \"name\": [\"Ethan Edwards\", \"Fiona Foster\", \"Grace Gibson\", \"Henry Harris\"],\n",
    "        \"birthdate\": [\n",
    "            dt.date(1977, 5, 10),\n",
    "            dt.date(1975, 6, 23),\n",
    "            dt.date(1973, 7, 22),\n",
    "            dt.date(1971, 8, 3),\n",
    "        ],\n",
    "        \"weight\": [67.9, 72.5, 57.6, 93.1],  # (kg)\n",
    "        \"height\": [1.76, 1.6, 1.66, 1.8],  # (m)\n",
    "    }\n",
    ")\n",
    "\n",
    "print(df3)"
   ]
  },
  {
   "cell_type": "code",
   "execution_count": 21,
   "id": "7a7b024f-37d0-453e-a888-78dae22fdf97",
   "metadata": {},
   "outputs": [
    {
     "name": "stdout",
     "output_type": "stream",
     "text": [
      "shape: (8, 4)\n",
      "┌────────────────┬────────────┬────────┬────────┐\n",
      "│ name           ┆ birthdate  ┆ weight ┆ height │\n",
      "│ ---            ┆ ---        ┆ ---    ┆ ---    │\n",
      "│ str            ┆ date       ┆ f64    ┆ f64    │\n",
      "╞════════════════╪════════════╪════════╪════════╡\n",
      "│ Alice Archer   ┆ 1997-01-10 ┆ 57.9   ┆ 1.56   │\n",
      "│ Ben Brown      ┆ 1985-02-15 ┆ 72.5   ┆ 1.77   │\n",
      "│ Chloe Cooper   ┆ 1983-03-22 ┆ 53.6   ┆ 1.65   │\n",
      "│ Daniel Donovan ┆ 1981-04-30 ┆ 83.1   ┆ 1.75   │\n",
      "│ Ethan Edwards  ┆ 1977-05-10 ┆ 67.9   ┆ 1.76   │\n",
      "│ Fiona Foster   ┆ 1975-06-23 ┆ 72.5   ┆ 1.6    │\n",
      "│ Grace Gibson   ┆ 1973-07-22 ┆ 57.6   ┆ 1.66   │\n",
      "│ Henry Harris   ┆ 1971-08-03 ┆ 93.1   ┆ 1.8    │\n",
      "└────────────────┴────────────┴────────┴────────┘\n"
     ]
    }
   ],
   "source": [
    "print(pl.concat([df, df3], how=\"vertical\"))"
   ]
  },
  {
   "cell_type": "code",
   "execution_count": 22,
   "id": "b62ca096-7a93-4cad-a17c-ebdd11d848d1",
   "metadata": {},
   "outputs": [],
   "source": [
    "df4 = pl.concat([df, df3], how=\"vertical\")"
   ]
  },
  {
   "cell_type": "code",
   "execution_count": 23,
   "id": "df1acd38-09be-4b20-bbf4-40473cb982aa",
   "metadata": {},
   "outputs": [
    {
     "name": "stdout",
     "output_type": "stream",
     "text": [
      "shape: (5, 4)\n",
      "┌────────────────┬────────────┬────────┬────────┐\n",
      "│ name           ┆ birthdate  ┆ weight ┆ height │\n",
      "│ ---            ┆ ---        ┆ ---    ┆ ---    │\n",
      "│ str            ┆ date       ┆ f64    ┆ f64    │\n",
      "╞════════════════╪════════════╪════════╪════════╡\n",
      "│ Alice Archer   ┆ 1997-01-10 ┆ 57.9   ┆ 1.56   │\n",
      "│ Ben Brown      ┆ 1985-02-15 ┆ 72.5   ┆ 1.77   │\n",
      "│ Chloe Cooper   ┆ 1983-03-22 ┆ 53.6   ┆ 1.65   │\n",
      "│ Daniel Donovan ┆ 1981-04-30 ┆ 83.1   ┆ 1.75   │\n",
      "│ Ethan Edwards  ┆ 1977-05-10 ┆ 67.9   ┆ 1.76   │\n",
      "└────────────────┴────────────┴────────┴────────┘ shape: (5, 4)\n",
      "┌────────────────┬────────────┬────────┬────────┐\n",
      "│ name           ┆ birthdate  ┆ weight ┆ height │\n",
      "│ ---            ┆ ---        ┆ ---    ┆ ---    │\n",
      "│ str            ┆ date       ┆ f64    ┆ f64    │\n",
      "╞════════════════╪════════════╪════════╪════════╡\n",
      "│ Daniel Donovan ┆ 1981-04-30 ┆ 83.1   ┆ 1.75   │\n",
      "│ Ethan Edwards  ┆ 1977-05-10 ┆ 67.9   ┆ 1.76   │\n",
      "│ Fiona Foster   ┆ 1975-06-23 ┆ 72.5   ┆ 1.6    │\n",
      "│ Grace Gibson   ┆ 1973-07-22 ┆ 57.6   ┆ 1.66   │\n",
      "│ Henry Harris   ┆ 1971-08-03 ┆ 93.1   ┆ 1.8    │\n",
      "└────────────────┴────────────┴────────┴────────┘ shape: (2, 4)\n",
      "┌───────────────┬────────────┬────────┬────────┐\n",
      "│ name          ┆ birthdate  ┆ weight ┆ height │\n",
      "│ ---           ┆ ---        ┆ ---    ┆ ---    │\n",
      "│ str           ┆ date       ┆ f64    ┆ f64    │\n",
      "╞═══════════════╪════════════╪════════╪════════╡\n",
      "│ Ethan Edwards ┆ 1977-05-10 ┆ 67.9   ┆ 1.76   │\n",
      "│ Fiona Foster  ┆ 1975-06-23 ┆ 72.5   ┆ 1.6    │\n",
      "└───────────────┴────────────┴────────┴────────┘\n"
     ]
    }
   ],
   "source": [
    "print(df4.head(), df4.tail(), df4.sample(2))"
   ]
  },
  {
   "cell_type": "code",
   "execution_count": 24,
   "id": "5d41778e-03be-4a34-aae8-755e3dffc666",
   "metadata": {},
   "outputs": [
    {
     "name": "stdout",
     "output_type": "stream",
     "text": [
      "Rows: 8\n",
      "Columns: 4\n",
      "$ name       <str> 'Alice Archer', 'Ben Brown', 'Chloe Cooper', 'Daniel Donovan', 'Ethan Edwards', 'Fiona Foster', 'Grace Gibson', 'Henry Harris'\n",
      "$ birthdate <date> 1997-01-10, 1985-02-15, 1983-03-22, 1981-04-30, 1977-05-10, 1975-06-23, 1973-07-22, 1971-08-03\n",
      "$ weight     <f64> 57.9, 72.5, 53.6, 83.1, 67.9, 72.5, 57.6, 93.1\n",
      "$ height     <f64> 1.56, 1.77, 1.65, 1.75, 1.76, 1.6, 1.66, 1.8\n",
      "\n"
     ]
    }
   ],
   "source": [
    "df4.glimpse()"
   ]
  },
  {
   "cell_type": "code",
   "execution_count": 25,
   "id": "014f74fd-c872-4c5a-8145-7a8dc29f4b0a",
   "metadata": {},
   "outputs": [
    {
     "name": "stdout",
     "output_type": "stream",
     "text": [
      "shape: (9, 5)\n",
      "┌────────────┬──────────────┬─────────────────────┬───────────┬──────────┐\n",
      "│ statistic  ┆ name         ┆ birthdate           ┆ weight    ┆ height   │\n",
      "│ ---        ┆ ---          ┆ ---                 ┆ ---       ┆ ---      │\n",
      "│ str        ┆ str          ┆ str                 ┆ f64       ┆ f64      │\n",
      "╞════════════╪══════════════╪═════════════════════╪═══════════╪══════════╡\n",
      "│ count      ┆ 8            ┆ 8                   ┆ 8.0       ┆ 8.0      │\n",
      "│ null_count ┆ 0            ┆ 0                   ┆ 0.0       ┆ 0.0      │\n",
      "│ mean       ┆ null         ┆ 1980-08-01 06:00:00 ┆ 69.775    ┆ 1.69375  │\n",
      "│ std        ┆ null         ┆ null                ┆ 13.579685 ┆ 0.088146 │\n",
      "│ min        ┆ Alice Archer ┆ 1971-08-03          ┆ 53.6      ┆ 1.56     │\n",
      "│ 25%        ┆ null         ┆ 1975-06-23          ┆ 57.9      ┆ 1.65     │\n",
      "│ 50%        ┆ null         ┆ 1981-04-30          ┆ 72.5      ┆ 1.75     │\n",
      "│ 75%        ┆ null         ┆ 1983-03-22          ┆ 72.5      ┆ 1.76     │\n",
      "│ max        ┆ Henry Harris ┆ 1997-01-10          ┆ 93.1      ┆ 1.8      │\n",
      "└────────────┴──────────────┴─────────────────────┴───────────┴──────────┘\n"
     ]
    }
   ],
   "source": [
    "print(df4.describe())"
   ]
  },
  {
   "cell_type": "code",
   "execution_count": 26,
   "id": "7d25c0d1-5fd9-48f9-8149-e6846de6b0d3",
   "metadata": {},
   "outputs": [
    {
     "name": "stdout",
     "output_type": "stream",
     "text": [
      "Schema([('name', String), ('birthdate', Date), ('weight', Float64), ('height', Float64)])\n"
     ]
    }
   ],
   "source": [
    "print(df4.schema)"
   ]
  },
  {
   "cell_type": "code",
   "execution_count": 27,
   "id": "07798009-1a3a-4c15-81cc-64421ca31f10",
   "metadata": {},
   "outputs": [
    {
     "name": "stdout",
     "output_type": "stream",
     "text": [
      "shape: (4, 2)\n",
      "┌────────┬─────┐\n",
      "│ name   ┆ age │\n",
      "│ ---    ┆ --- │\n",
      "│ str    ┆ u8  │\n",
      "╞════════╪═════╡\n",
      "│ Alice  ┆ 27  │\n",
      "│ Ben    ┆ 39  │\n",
      "│ Chloe  ┆ 41  │\n",
      "│ Daniel ┆ 43  │\n",
      "└────────┴─────┘\n"
     ]
    }
   ],
   "source": [
    "df = pl.DataFrame(\n",
    "    {\n",
    "        \"name\": [\"Alice\", \"Ben\", \"Chloe\", \"Daniel\"],\n",
    "        \"age\": [27, 39, 41, 43],\n",
    "    },\n",
    "    schema={\"name\": None, \"age\": pl.UInt8}, # specified to override age data type\n",
    ")\n",
    "\n",
    "print(df)"
   ]
  },
  {
   "cell_type": "markdown",
   "id": "e1d89bba-1d29-42af-bcd8-de12bf4b8e89",
   "metadata": {},
   "source": [
    "# Playing with data\n",
    "Basica operations ranges from arithmatic to conditionals, and is the bread and butter of data wrangling.  Here a example world cup results will be leveraged to analyze some sample data.  The entire data processing recipe is designed with a lazy frame to reduce the load when actually processing the data.  In this instance, dtypes are modified and new columns are added.  "
   ]
  },
  {
   "cell_type": "code",
   "execution_count": 28,
   "id": "4bf4006c-5956-457b-83e4-5cdc01ecfef6",
   "metadata": {},
   "outputs": [],
   "source": [
    "lf_wc_results = pl.LazyFrame(\n",
    "    pl.read_csv('./World+Cup/world_cup_matches.csv').with_columns(\n",
    "        pl.col('Date').str.to_datetime('%Y-%m-%d', time_unit=None),\n",
    "        pl.col('Year').cast(pl.Int16),\n",
    "        pl.col('Stage').cast(pl.Categorical),\n",
    "        pl.col('Home Goals').cast(pl.Int8).alias('HGF'),\n",
    "        pl.col('Away Goals').cast(pl.Int8).alias('AGF'),\n",
    "        pl.col('Home Goals').cast(pl.Int8).alias('AGA'),\n",
    "        pl.col('Away Goals').cast(pl.Int8).alias('HGA'),\n",
    "        (pl.col('Home Goals') - pl.col('Away Goals')).cast(pl.Int8).alias('HGD'),\n",
    "        (pl.col('Away Goals') - pl.col('Home Goals')).cast(pl.Int8).alias('AGD'),\n",
    "        pl.when(pl.col('Home Goals') > pl.col('Away Goals'))\n",
    "            .then(pl.col('Home Team'))\n",
    "            .when(pl.col('Away Goals') > pl.col('Home Goals'))\n",
    "            .then(pl.col('Away Team'))\n",
    "            .when(pl.col('Home Goals') == pl.col('Away Goals'))\n",
    "            .then(pl.lit('Draw'))\n",
    "            .alias('Winner'),\n",
    "    )\n",
    ")"
   ]
  },
  {
   "cell_type": "code",
   "execution_count": 29,
   "id": "ebda1bd5-15c4-4a28-9c4d-7767e25eeb8e",
   "metadata": {},
   "outputs": [
    {
     "data": {
      "text/html": [
       "<div><style>\n",
       ".dataframe > thead > tr,\n",
       ".dataframe > tbody > tr {\n",
       "  text-align: right;\n",
       "  white-space: pre-wrap;\n",
       "}\n",
       "</style>\n",
       "<small>shape: (5, 17)</small><table border=\"1\" class=\"dataframe\"><thead><tr><th>ID</th><th>Year</th><th>Date</th><th>Stage</th><th>Home Team</th><th>Home Goals</th><th>Away Goals</th><th>Away Team</th><th>Win Conditions</th><th>Host Team</th><th>HGF</th><th>AGF</th><th>AGA</th><th>HGA</th><th>HGD</th><th>AGD</th><th>Winner</th></tr><tr><td>i64</td><td>i16</td><td>datetime[μs]</td><td>cat</td><td>str</td><td>i64</td><td>i64</td><td>str</td><td>str</td><td>bool</td><td>i8</td><td>i8</td><td>i8</td><td>i8</td><td>i8</td><td>i8</td><td>str</td></tr></thead><tbody><tr><td>1</td><td>1930</td><td>1930-07-13 00:00:00</td><td>&quot;Group stage&quot;</td><td>&quot;France&quot;</td><td>4</td><td>1</td><td>&quot;Mexico&quot;</td><td>null</td><td>false</td><td>4</td><td>1</td><td>4</td><td>1</td><td>3</td><td>-3</td><td>&quot;France&quot;</td></tr><tr><td>2</td><td>1930</td><td>1930-07-13 00:00:00</td><td>&quot;Group stage&quot;</td><td>&quot;United States&quot;</td><td>3</td><td>0</td><td>&quot;Belgium&quot;</td><td>null</td><td>false</td><td>3</td><td>0</td><td>3</td><td>0</td><td>3</td><td>-3</td><td>&quot;United States&quot;</td></tr><tr><td>3</td><td>1930</td><td>1930-07-14 00:00:00</td><td>&quot;Group stage&quot;</td><td>&quot;Yugoslavia&quot;</td><td>2</td><td>1</td><td>&quot;Brazil&quot;</td><td>null</td><td>false</td><td>2</td><td>1</td><td>2</td><td>1</td><td>1</td><td>-1</td><td>&quot;Yugoslavia&quot;</td></tr><tr><td>4</td><td>1930</td><td>1930-07-14 00:00:00</td><td>&quot;Group stage&quot;</td><td>&quot;Romania&quot;</td><td>3</td><td>1</td><td>&quot;Peru&quot;</td><td>null</td><td>false</td><td>3</td><td>1</td><td>3</td><td>1</td><td>2</td><td>-2</td><td>&quot;Romania&quot;</td></tr><tr><td>5</td><td>1930</td><td>1930-07-15 00:00:00</td><td>&quot;Group stage&quot;</td><td>&quot;Argentina&quot;</td><td>1</td><td>0</td><td>&quot;France&quot;</td><td>null</td><td>false</td><td>1</td><td>0</td><td>1</td><td>0</td><td>1</td><td>-1</td><td>&quot;Argentina&quot;</td></tr></tbody></table></div>"
      ],
      "text/plain": [
       "shape: (5, 17)\n",
       "┌─────┬──────┬─────────────────────┬─────────────┬───┬─────┬─────┬─────┬───────────────┐\n",
       "│ ID  ┆ Year ┆ Date                ┆ Stage       ┆ … ┆ HGA ┆ HGD ┆ AGD ┆ Winner        │\n",
       "│ --- ┆ ---  ┆ ---                 ┆ ---         ┆   ┆ --- ┆ --- ┆ --- ┆ ---           │\n",
       "│ i64 ┆ i16  ┆ datetime[μs]        ┆ cat         ┆   ┆ i8  ┆ i8  ┆ i8  ┆ str           │\n",
       "╞═════╪══════╪═════════════════════╪═════════════╪═══╪═════╪═════╪═════╪═══════════════╡\n",
       "│ 1   ┆ 1930 ┆ 1930-07-13 00:00:00 ┆ Group stage ┆ … ┆ 1   ┆ 3   ┆ -3  ┆ France        │\n",
       "│ 2   ┆ 1930 ┆ 1930-07-13 00:00:00 ┆ Group stage ┆ … ┆ 0   ┆ 3   ┆ -3  ┆ United States │\n",
       "│ 3   ┆ 1930 ┆ 1930-07-14 00:00:00 ┆ Group stage ┆ … ┆ 1   ┆ 1   ┆ -1  ┆ Yugoslavia    │\n",
       "│ 4   ┆ 1930 ┆ 1930-07-14 00:00:00 ┆ Group stage ┆ … ┆ 1   ┆ 2   ┆ -2  ┆ Romania       │\n",
       "│ 5   ┆ 1930 ┆ 1930-07-15 00:00:00 ┆ Group stage ┆ … ┆ 0   ┆ 1   ┆ -1  ┆ Argentina     │\n",
       "└─────┴──────┴─────────────────────┴─────────────┴───┴─────┴─────┴─────┴───────────────┘"
      ]
     },
     "execution_count": 29,
     "metadata": {},
     "output_type": "execute_result"
    }
   ],
   "source": [
    "lf_wc_results.collect().head()"
   ]
  },
  {
   "cell_type": "markdown",
   "id": "3952e914-d2b2-4b9f-a311-e1f1544280cd",
   "metadata": {},
   "source": [
    "### Winners\n",
    "Here the data is groupped by the Winning team, and aggregated.  Because Polars can optimize across processes the Lazy frame filter out unused data to improve the analysis."
   ]
  },
  {
   "cell_type": "code",
   "execution_count": 30,
   "id": "ced8036e-aa89-448d-8e91-9a1807914190",
   "metadata": {},
   "outputs": [
    {
     "data": {
      "text/html": [
       "<div><style>\n",
       ".dataframe > thead > tr,\n",
       ".dataframe > tbody > tr {\n",
       "  text-align: right;\n",
       "  white-space: pre-wrap;\n",
       "}\n",
       "</style>\n",
       "<small>shape: (5, 4)</small><table border=\"1\" class=\"dataframe\"><thead><tr><th>Winner</th><th>wins</th><th>HGF_avg</th><th>HGA_avg</th></tr><tr><td>str</td><td>u32</td><td>f64</td><td>f64</td></tr></thead><tbody><tr><td>&quot;Draw&quot;</td><td>199</td><td>0.894472</td><td>0.894472</td></tr><tr><td>&quot;Brazil&quot;</td><td>73</td><td>2.410959</td><td>1.068493</td></tr><tr><td>&quot;Germany&quot;</td><td>67</td><td>2.373134</td><td>1.029851</td></tr><tr><td>&quot;Italy&quot;</td><td>45</td><td>1.888889</td><td>0.955556</td></tr><tr><td>&quot;Argentina&quot;</td><td>43</td><td>2.418605</td><td>0.697674</td></tr></tbody></table></div>"
      ],
      "text/plain": [
       "shape: (5, 4)\n",
       "┌───────────┬──────┬──────────┬──────────┐\n",
       "│ Winner    ┆ wins ┆ HGF_avg  ┆ HGA_avg  │\n",
       "│ ---       ┆ ---  ┆ ---      ┆ ---      │\n",
       "│ str       ┆ u32  ┆ f64      ┆ f64      │\n",
       "╞═══════════╪══════╪══════════╪══════════╡\n",
       "│ Draw      ┆ 199  ┆ 0.894472 ┆ 0.894472 │\n",
       "│ Brazil    ┆ 73   ┆ 2.410959 ┆ 1.068493 │\n",
       "│ Germany   ┆ 67   ┆ 2.373134 ┆ 1.029851 │\n",
       "│ Italy     ┆ 45   ┆ 1.888889 ┆ 0.955556 │\n",
       "│ Argentina ┆ 43   ┆ 2.418605 ┆ 0.697674 │\n",
       "└───────────┴──────┴──────────┴──────────┘"
      ]
     },
     "execution_count": 30,
     "metadata": {},
     "output_type": "execute_result"
    }
   ],
   "source": [
    "lf_wc_results.collect().group_by(pl.col('Winner')).agg(\n",
    "    pl.len().alias('wins'),\n",
    "    pl.col('HGF').mean().name.suffix('_avg'),\n",
    "    pl.col('HGA').mean().name.suffix('_avg'),\n",
    ").sort(pl.col('wins'),descending=True).top_k(by=pl.col('wins'),k=5)"
   ]
  },
  {
   "cell_type": "markdown",
   "id": "281ebaf1-d2e4-4454-9ba4-77772c8d728e",
   "metadata": {},
   "source": [
    "### Extracting records and stats\n",
    "To extract the records for each team across numerous world cups their is a need to groupby the Home and Away team.  This will create to seperate groupings which need to be combined to achieve one continuous record view for all teams."
   ]
  },
  {
   "cell_type": "code",
   "execution_count": 31,
   "id": "8e1d1d89-8cdf-4a58-b39a-9f90a4f26cd2",
   "metadata": {},
   "outputs": [],
   "source": [
    "home = lf_wc_results.select(\n",
    "    [\"Home Team\",'HGF','HGA','HGD','Winner']\n",
    ").rename(\n",
    "    {\"Home Team\":'Team','HGF':'GF','HGA':'GA','HGD':'GD'}\n",
    ").with_columns(\n",
    "    pl.when(pl.col('Team') == pl.col('Winner')).then(1).otherwise(0).alias('W'),\n",
    "    pl.when((pl.col('Team') != pl.col('Winner'))&(pl.col('Winner') != pl.lit('Draw'))).then(1).otherwise(0).alias('L'),\n",
    "    pl.when(pl.col('Winner') == pl.lit('Draw')).then(1).otherwise(0).alias('D'),\n",
    ").group_by(\n",
    "    'Team'\n",
    ").agg(\n",
    "    pl.len().alias('Matches'),\n",
    "    pl.col(['GF','GA','GD']).sum(),\n",
    "    pl.col(['GF','GA','GD']).mean().round(2).name.suffix('_avg'),\n",
    "    pl.col(['W','L','D']).sum(),\n",
    ").sort(\n",
    "    by='Matches',descending=True\n",
    ").collect()"
   ]
  },
  {
   "cell_type": "code",
   "execution_count": 32,
   "id": "1da42880-d289-4d86-9a8c-37e111efa66b",
   "metadata": {},
   "outputs": [],
   "source": [
    "away = lf_wc_results.select(\n",
    "    [\"Away Team\",'AGF','AGA','AGD','Winner']\n",
    ").rename(\n",
    "    {\"Away Team\":'Team','AGF':'GF','AGA':'GA','AGD':'GD'}\n",
    ").with_columns(\n",
    "    pl.when(pl.col('Team') == pl.col('Winner')).then(1).otherwise(0).alias('W'),\n",
    "    pl.when((pl.col('Team') != pl.col('Winner'))&(pl.col('Winner') != pl.lit('Draw'))).then(1).otherwise(0).alias('L'),\n",
    "    pl.when(pl.col('Winner') == pl.lit('Draw')).then(1).otherwise(0).alias('D'),\n",
    ").group_by(\n",
    "    'Team'\n",
    ").agg(\n",
    "    pl.len().alias('Matches'),\n",
    "    pl.col(['GF','GA','GD']).sum(),\n",
    "    pl.col(['GF','GA','GD']).mean().round(2).name.suffix('_avg'),\n",
    "    pl.col(['W','L','D']).sum(),\n",
    ").sort(\n",
    "    by='Matches',descending=True\n",
    ").collect()"
   ]
  },
  {
   "cell_type": "code",
   "execution_count": 33,
   "id": "6b242459-1d17-4c59-8ed4-34f80f0b7269",
   "metadata": {},
   "outputs": [
    {
     "name": "stdout",
     "output_type": "stream",
     "text": [
      "shape: (30, 11)\n",
      "┌────────────────┬─────────┬─────┬─────┬─────┬─────┬─────┬─────┬────────┬────────┬────────┐\n",
      "│ Team           ┆ Matches ┆ GF  ┆ GA  ┆ GD  ┆ W   ┆ L   ┆ D   ┆ GF_avg ┆ GA_avg ┆ GD_avg │\n",
      "│ ---            ┆ ---     ┆ --- ┆ --- ┆ --- ┆ --- ┆ --- ┆ --- ┆ ---    ┆ ---    ┆ ---    │\n",
      "│ str            ┆ u32     ┆ i64 ┆ i64 ┆ i64 ┆ i32 ┆ i32 ┆ i32 ┆ f64    ┆ f64    ┆ f64    │\n",
      "╞════════════════╪═════════╪═════╪═════╪═════╪═════╪═════╪═════╪════════╪════════╪════════╡\n",
      "│ Brazil         ┆ 109     ┆ 229 ┆ 105 ┆ 124 ┆ 73  ┆ 18  ┆ 18  ┆ 2.0    ┆ 1.1    ┆ 0.9    │\n",
      "│ Germany        ┆ 109     ┆ 226 ┆ 125 ┆ 101 ┆ 67  ┆ 22  ┆ 20  ┆ 1.98   ┆ 1.36   ┆ 0.62   │\n",
      "│ Italy          ┆ 83      ┆ 128 ┆ 77  ┆ 51  ┆ 45  ┆ 17  ┆ 21  ┆ 1.48   ┆ 1.0    ┆ 0.48   │\n",
      "│ Argentina      ┆ 81      ┆ 137 ┆ 93  ┆ 44  ┆ 43  ┆ 23  ┆ 15  ┆ 1.52   ┆ 1.29   ┆ 0.23   │\n",
      "│ France         ┆ 66      ┆ 120 ┆ 77  ┆ 43  ┆ 34  ┆ 19  ┆ 13  ┆ 1.78   ┆ 1.18   ┆ 0.6    │\n",
      "│ Spain          ┆ 63      ┆ 99  ┆ 72  ┆ 27  ┆ 30  ┆ 18  ┆ 15  ┆ 1.57   ┆ 1.14   ┆ 0.43   │\n",
      "│ England        ┆ 69      ┆ 91  ┆ 64  ┆ 27  ┆ 29  ┆ 19  ┆ 21  ┆ 1.31   ┆ 0.94   ┆ 0.36   │\n",
      "│ Netherlands    ┆ 50      ┆ 86  ┆ 48  ┆ 38  ┆ 27  ┆ 11  ┆ 12  ┆ 1.72   ┆ 1.0    ┆ 0.72   │\n",
      "│ Uruguay        ┆ 56      ┆ 87  ┆ 74  ┆ 13  ┆ 24  ┆ 20  ┆ 12  ┆ 1.49   ┆ 1.36   ┆ 0.13   │\n",
      "│ Belgium        ┆ 48      ┆ 68  ┆ 72  ┆ -4  ┆ 20  ┆ 19  ┆ 9   ┆ 1.48   ┆ 1.4    ┆ 0.07   │\n",
      "│ Sweden         ┆ 51      ┆ 80  ┆ 73  ┆ 7   ┆ 19  ┆ 19  ┆ 13  ┆ 1.5    ┆ 1.54   ┆ -0.04  │\n",
      "│ Russia         ┆ 45      ┆ 77  ┆ 54  ┆ 23  ┆ 19  ┆ 16  ┆ 10  ┆ 1.58   ┆ 1.23   ┆ 0.35   │\n",
      "│ Yugoslavia     ┆ 37      ┆ 60  ┆ 46  ┆ 14  ┆ 16  ┆ 13  ┆ 8   ┆ 1.74   ┆ 1.15   ┆ 0.6    │\n",
      "│ Poland         ┆ 34      ┆ 46  ┆ 45  ┆ 1   ┆ 16  ┆ 13  ┆ 5   ┆ 1.36   ┆ 1.33   ┆ 0.03   │\n",
      "│ Mexico         ┆ 57      ┆ 60  ┆ 98  ┆ -38 ┆ 16  ┆ 27  ┆ 14  ┆ 1.09   ┆ 1.54   ┆ -0.46  │\n",
      "│ Hungary        ┆ 32      ┆ 87  ┆ 57  ┆ 30  ┆ 15  ┆ 14  ┆ 3   ┆ 2.53   ┆ 1.88   ┆ 0.64   │\n",
      "│ Portugal       ┆ 30      ┆ 49  ┆ 35  ┆ 14  ┆ 14  ┆ 10  ┆ 6   ┆ 1.52   ┆ 1.21   ┆ 0.31   │\n",
      "│ Austria        ┆ 29      ┆ 43  ┆ 47  ┆ -4  ┆ 12  ┆ 13  ┆ 4   ┆ 1.56   ┆ 1.53   ┆ 0.03   │\n",
      "│ Switzerland    ┆ 37      ┆ 50  ┆ 64  ┆ -14 ┆ 12  ┆ 17  ┆ 8   ┆ 1.44   ┆ 1.74   ┆ -0.3   │\n",
      "│ Chile          ┆ 33      ┆ 40  ┆ 49  ┆ -9  ┆ 11  ┆ 15  ┆ 7   ┆ 1.23   ┆ 1.47   ┆ -0.25  │\n",
      "│ Czechoslovakia ┆ 30      ┆ 44  ┆ 45  ┆ -1  ┆ 11  ┆ 14  ┆ 5   ┆ 1.78   ┆ 1.33   ┆ 0.45   │\n",
      "│ Croatia        ┆ 23      ┆ 35  ┆ 26  ┆ 9   ┆ 11  ┆ 8   ┆ 4   ┆ 1.46   ┆ 1.2    ┆ 0.26   │\n",
      "│ Denmark        ┆ 20      ┆ 30  ┆ 26  ┆ 4   ┆ 9   ┆ 6   ┆ 5   ┆ 1.5    ┆ 1.33   ┆ 0.18   │\n",
      "│ Colombia       ┆ 22      ┆ 32  ┆ 30  ┆ 2   ┆ 9   ┆ 10  ┆ 3   ┆ 1.44   ┆ 1.31   ┆ 0.12   │\n",
      "│ Romania        ┆ 21      ┆ 30  ┆ 32  ┆ -2  ┆ 8   ┆ 8   ┆ 5   ┆ 1.46   ┆ 1.51   ┆ -0.06  │\n",
      "│ United States  ┆ 33      ┆ 37  ┆ 62  ┆ -25 ┆ 8   ┆ 19  ┆ 6   ┆ 1.12   ┆ 1.86   ┆ -0.74  │\n",
      "│ Paraguay       ┆ 27      ┆ 30  ┆ 38  ┆ -8  ┆ 7   ┆ 10  ┆ 10  ┆ 1.14   ┆ 1.33   ┆ -0.2   │\n",
      "│ Nigeria        ┆ 21      ┆ 23  ┆ 30  ┆ -7  ┆ 6   ┆ 12  ┆ 3   ┆ 1.08   ┆ 1.42   ┆ -0.34  │\n",
      "│ South Korea    ┆ 34      ┆ 34  ┆ 70  ┆ -36 ┆ 6   ┆ 19  ┆ 9   ┆ 0.98   ┆ 2.16   ┆ -1.18  │\n",
      "│ Costa Rica     ┆ 18      ┆ 19  ┆ 28  ┆ -9  ┆ 5   ┆ 8   ┆ 5   ┆ 1.02   ┆ 1.54   ┆ -0.51  │\n",
      "└────────────────┴─────────┴─────┴─────┴─────┴─────┴─────┴─────┴────────┴────────┴────────┘\n"
     ]
    }
   ],
   "source": [
    "# Just for this display\n",
    "with pl.Config(tbl_rows=-1, tbl_cols=-1):\n",
    "    print(pl.LazyFrame(\n",
    "        pl.concat([home, away])\n",
    "        .group_by(\n",
    "            'Team'\n",
    "        ).agg(\n",
    "            pl.col(['Matches','GF','GA','GD','W','L','D']).sum(),\n",
    "            pl.col(['GF_avg', 'GA_avg', 'GD_avg']).mean().round(2),\n",
    "        )\n",
    "    ).sort(\n",
    "        by=pl.col('W'), descending=True\n",
    "    ).top_k(\n",
    "        by=pl.col('W'),k=30\n",
    "    ).collect()\n",
    "         )"
   ]
  },
  {
   "cell_type": "code",
   "execution_count": 34,
   "id": "f338ebe4-8d29-4a2f-8b2a-87a8eb0927ff",
   "metadata": {},
   "outputs": [],
   "source": [
    "lf_team_recs_top = pl.LazyFrame(\n",
    "    pl.concat([home, away])\n",
    "        .group_by(\n",
    "        'Team'\n",
    "        ).agg(\n",
    "        pl.col(['Matches','GF','GA','GD','W','L','D']).sum(),\n",
    "        pl.col(['GF_avg', 'GA_avg', 'GD_avg']).mean().round(2),\n",
    "        )\n",
    ").with_columns(\n",
    "    ((pl.col('W')/pl.col('Matches'))*100).alias('win_perc'),\n",
    ").sort(\n",
    "    by=pl.col('W'), descending=True\n",
    ").top_k(\n",
    "    by=pl.col('W'),k=30\n",
    ")"
   ]
  },
  {
   "cell_type": "code",
   "execution_count": 35,
   "id": "9d9510c1-b714-48c8-9aa7-9f8892386e15",
   "metadata": {},
   "outputs": [
    {
     "name": "stdout",
     "output_type": "stream",
     "text": [
      "shape: (30, 12)\n",
      "┌─────────────┬─────────┬─────┬─────┬─────┬─────┬─────┬─────┬────────┬────────┬────────┬───────────┐\n",
      "│ Team        ┆ Matches ┆ GF  ┆ GA  ┆ GD  ┆ W   ┆ L   ┆ D   ┆ GF_avg ┆ GA_avg ┆ GD_avg ┆ win_perc  │\n",
      "│ ---         ┆ ---     ┆ --- ┆ --- ┆ --- ┆ --- ┆ --- ┆ --- ┆ ---    ┆ ---    ┆ ---    ┆ ---       │\n",
      "│ str         ┆ u32     ┆ i64 ┆ i64 ┆ i64 ┆ i32 ┆ i32 ┆ i32 ┆ f64    ┆ f64    ┆ f64    ┆ f64       │\n",
      "╞═════════════╪═════════╪═════╪═════╪═════╪═════╪═════╪═════╪════════╪════════╪════════╪═══════════╡\n",
      "│ Brazil      ┆ 109     ┆ 229 ┆ 105 ┆ 124 ┆ 73  ┆ 18  ┆ 18  ┆ 2.0    ┆ 1.1    ┆ 0.9    ┆ 66.972477 │\n",
      "│ Germany     ┆ 109     ┆ 226 ┆ 125 ┆ 101 ┆ 67  ┆ 22  ┆ 20  ┆ 1.98   ┆ 1.36   ┆ 0.62   ┆ 61.46789  │\n",
      "│ Italy       ┆ 83      ┆ 128 ┆ 77  ┆ 51  ┆ 45  ┆ 17  ┆ 21  ┆ 1.48   ┆ 1.0    ┆ 0.48   ┆ 54.216867 │\n",
      "│ Argentina   ┆ 81      ┆ 137 ┆ 93  ┆ 44  ┆ 43  ┆ 23  ┆ 15  ┆ 1.52   ┆ 1.29   ┆ 0.23   ┆ 53.08642  │\n",
      "│ France      ┆ 66      ┆ 120 ┆ 77  ┆ 43  ┆ 34  ┆ 19  ┆ 13  ┆ 1.78   ┆ 1.18   ┆ 0.6    ┆ 51.515152 │\n",
      "│ Spain       ┆ 63      ┆ 99  ┆ 72  ┆ 27  ┆ 30  ┆ 18  ┆ 15  ┆ 1.57   ┆ 1.14   ┆ 0.43   ┆ 47.619048 │\n",
      "│ England     ┆ 69      ┆ 91  ┆ 64  ┆ 27  ┆ 29  ┆ 19  ┆ 21  ┆ 1.31   ┆ 0.94   ┆ 0.36   ┆ 42.028986 │\n",
      "│ Netherlands ┆ 50      ┆ 86  ┆ 48  ┆ 38  ┆ 27  ┆ 11  ┆ 12  ┆ 1.72   ┆ 1.0    ┆ 0.72   ┆ 54.0      │\n",
      "│ Uruguay     ┆ 56      ┆ 87  ┆ 74  ┆ 13  ┆ 24  ┆ 20  ┆ 12  ┆ 1.49   ┆ 1.36   ┆ 0.13   ┆ 42.857143 │\n",
      "│ Belgium     ┆ 48      ┆ 68  ┆ 72  ┆ -4  ┆ 20  ┆ 19  ┆ 9   ┆ 1.48   ┆ 1.4    ┆ 0.07   ┆ 41.666667 │\n",
      "│ Russia      ┆ 45      ┆ 77  ┆ 54  ┆ 23  ┆ 19  ┆ 16  ┆ 10  ┆ 1.58   ┆ 1.23   ┆ 0.35   ┆ 42.222222 │\n",
      "│ Sweden      ┆ 51      ┆ 80  ┆ 73  ┆ 7   ┆ 19  ┆ 19  ┆ 13  ┆ 1.5    ┆ 1.54   ┆ -0.04  ┆ 37.254902 │\n",
      "│ Poland      ┆ 34      ┆ 46  ┆ 45  ┆ 1   ┆ 16  ┆ 13  ┆ 5   ┆ 1.36   ┆ 1.33   ┆ 0.03   ┆ 47.058824 │\n",
      "│ Yugoslavia  ┆ 37      ┆ 60  ┆ 46  ┆ 14  ┆ 16  ┆ 13  ┆ 8   ┆ 1.74   ┆ 1.15   ┆ 0.6    ┆ 43.243243 │\n",
      "│ Mexico      ┆ 57      ┆ 60  ┆ 98  ┆ -38 ┆ 16  ┆ 27  ┆ 14  ┆ 1.09   ┆ 1.54   ┆ -0.46  ┆ 28.070175 │\n",
      "│ Hungary     ┆ 32      ┆ 87  ┆ 57  ┆ 30  ┆ 15  ┆ 14  ┆ 3   ┆ 2.53   ┆ 1.88   ┆ 0.64   ┆ 46.875    │\n",
      "│ Portugal    ┆ 30      ┆ 49  ┆ 35  ┆ 14  ┆ 14  ┆ 10  ┆ 6   ┆ 1.52   ┆ 1.21   ┆ 0.31   ┆ 46.666667 │\n",
      "│ Switzerland ┆ 37      ┆ 50  ┆ 64  ┆ -14 ┆ 12  ┆ 17  ┆ 8   ┆ 1.44   ┆ 1.74   ┆ -0.3   ┆ 32.432432 │\n",
      "│ Austria     ┆ 29      ┆ 43  ┆ 47  ┆ -4  ┆ 12  ┆ 13  ┆ 4   ┆ 1.56   ┆ 1.53   ┆ 0.03   ┆ 41.37931  │\n",
      "│ Croatia     ┆ 23      ┆ 35  ┆ 26  ┆ 9   ┆ 11  ┆ 8   ┆ 4   ┆ 1.46   ┆ 1.2    ┆ 0.26   ┆ 47.826087 │\n",
      "│ Chile       ┆ 33      ┆ 40  ┆ 49  ┆ -9  ┆ 11  ┆ 15  ┆ 7   ┆ 1.23   ┆ 1.47   ┆ -0.25  ┆ 33.333333 │\n",
      "│ Czechoslova ┆ 30      ┆ 44  ┆ 45  ┆ -1  ┆ 11  ┆ 14  ┆ 5   ┆ 1.78   ┆ 1.33   ┆ 0.45   ┆ 36.666667 │\n",
      "│ kia         ┆         ┆     ┆     ┆     ┆     ┆     ┆     ┆        ┆        ┆        ┆           │\n",
      "│ Denmark     ┆ 20      ┆ 30  ┆ 26  ┆ 4   ┆ 9   ┆ 6   ┆ 5   ┆ 1.5    ┆ 1.33   ┆ 0.18   ┆ 45.0      │\n",
      "│ Colombia    ┆ 22      ┆ 32  ┆ 30  ┆ 2   ┆ 9   ┆ 10  ┆ 3   ┆ 1.44   ┆ 1.31   ┆ 0.12   ┆ 40.909091 │\n",
      "│ Romania     ┆ 21      ┆ 30  ┆ 32  ┆ -2  ┆ 8   ┆ 8   ┆ 5   ┆ 1.46   ┆ 1.51   ┆ -0.06  ┆ 38.095238 │\n",
      "│ United      ┆ 33      ┆ 37  ┆ 62  ┆ -25 ┆ 8   ┆ 19  ┆ 6   ┆ 1.12   ┆ 1.86   ┆ -0.74  ┆ 24.242424 │\n",
      "│ States      ┆         ┆     ┆     ┆     ┆     ┆     ┆     ┆        ┆        ┆        ┆           │\n",
      "│ Paraguay    ┆ 27      ┆ 30  ┆ 38  ┆ -8  ┆ 7   ┆ 10  ┆ 10  ┆ 1.14   ┆ 1.33   ┆ -0.2   ┆ 25.925926 │\n",
      "│ South Korea ┆ 34      ┆ 34  ┆ 70  ┆ -36 ┆ 6   ┆ 19  ┆ 9   ┆ 0.98   ┆ 2.16   ┆ -1.18  ┆ 17.647059 │\n",
      "│ Nigeria     ┆ 21      ┆ 23  ┆ 30  ┆ -7  ┆ 6   ┆ 12  ┆ 3   ┆ 1.08   ┆ 1.42   ┆ -0.34  ┆ 28.571429 │\n",
      "│ Japan       ┆ 21      ┆ 20  ┆ 29  ┆ -9  ┆ 5   ┆ 11  ┆ 5   ┆ 0.99   ┆ 1.4    ┆ -0.42  ┆ 23.809524 │\n",
      "└─────────────┴─────────┴─────┴─────┴─────┴─────┴─────┴─────┴────────┴────────┴────────┴───────────┘\n"
     ]
    }
   ],
   "source": [
    "# Just for this display\n",
    "with pl.Config(tbl_rows=-1, tbl_cols=-1):\n",
    "    print(lf_team_recs_top.collect())"
   ]
  },
  {
   "cell_type": "code",
   "execution_count": 36,
   "id": "bfe1dd63-bf02-440f-804c-ad840b7dba9a",
   "metadata": {},
   "outputs": [],
   "source": [
    "import seaborn as sns\n",
    "import matplotlib.pyplot as plt"
   ]
  },
  {
   "cell_type": "code",
   "execution_count": 37,
   "id": "0fccd927-d6cd-438a-aebc-fcd7e0a9a749",
   "metadata": {},
   "outputs": [],
   "source": [
    "import pandas as pd\n",
    "import numpy as np"
   ]
  },
  {
   "cell_type": "code",
   "execution_count": 38,
   "id": "a359b1a8-6447-4e80-a7a0-bafb54abeb65",
   "metadata": {},
   "outputs": [
    {
     "data": {
      "image/png": "[encoded data removed]",
      "text/plain": [
       "<Figure size 640x480 with 1 Axes>"
      ]
     },
     "metadata": {},
     "output_type": "display_data"
    }
   ],
   "source": [
    "fig, ax = plt.subplots()\n",
    "sns.scatterplot(\n",
    "    lf_team_recs_top.collect().to_pandas(),\n",
    "    x=\"GD\",\n",
    "    y=\"win_perc\",\n",
    "    hue=\"W\",\n",
    "    ax=ax,\n",
    ")\n",
    "ax.set_title('GD vs win_perc')\n",
    "ax.set_ylabel('win_perc')\n",
    "ax.set_xlabel('Goal Differential');"
   ]
  },
  {
   "cell_type": "code",
   "execution_count": 39,
   "id": "d3926fe4-1130-4c50-8978-4e75df255789",
   "metadata": {},
   "outputs": [],
   "source": [
    "lf_team_recs_top.collect().write_csv('top_team_record.csv')"
   ]
  },
  {
   "cell_type": "code",
   "execution_count": 40,
   "id": "09b7bde5-914a-42e0-9e1f-3b461c88ce19",
   "metadata": {},
   "outputs": [],
   "source": [
    "lf_team_recs = pl.LazyFrame(\n",
    "    pl.concat([home, away])\n",
    "        .group_by(\n",
    "        'Team'\n",
    "        ).agg(\n",
    "        pl.col(['Matches','GF','GA','GD','W','L','D']).sum(),\n",
    "        pl.col(['GF_avg', 'GA_avg', 'GD_avg']).mean().round(2),\n",
    "        )\n",
    ").with_columns(\n",
    "    ((pl.col('W')/pl.col('Matches'))*100).alias('win_perc'),\n",
    ").sort(\n",
    "    by=pl.col('W'), descending=True\n",
    ")"
   ]
  },
  {
   "cell_type": "code",
   "execution_count": 41,
   "id": "bb966173-ca38-433b-a9c3-20c6862f08d2",
   "metadata": {},
   "outputs": [],
   "source": [
    "lf_team_recs.collect().write_csv('team_record.csv')"
   ]
  },
  {
   "cell_type": "code",
   "execution_count": 42,
   "id": "1974b78e-4153-4f9b-8aec-ac782b616517",
   "metadata": {},
   "outputs": [],
   "source": [
    "import altair as alt"
   ]
  },
  {
   "cell_type": "code",
   "execution_count": 43,
   "id": "9efa416b-218e-4f6e-aaf8-6a4252428980",
   "metadata": {},
   "outputs": [
    {
     "data": {
      "text/html": [
       "\n",
       "<style>\n",
       "  #altair-viz-a705e0d997724838be0d90f4abd63359.vega-embed {\n",
       "    width: 100%;\n",
       "    display: flex;\n",
       "  }\n",
       "\n",
       "  #altair-viz-a705e0d997724838be0d90f4abd63359.vega-embed details,\n",
       "  #altair-viz-a705e0d997724838be0d90f4abd63359.vega-embed details summary {\n",
       "    position: relative;\n",
       "  }\n",
       "</style>\n",
       "<div id=\"altair-viz-a705e0d997724838be0d90f4abd63359\"></div>\n",
       "<script type=\"text/javascript\">\n",
       "  var VEGA_DEBUG = (typeof VEGA_DEBUG == \"undefined\") ? {} : VEGA_DEBUG;\n",
       "  (function(spec, embedOpt){\n",
       "    let outputDiv = document.currentScript.previousElementSibling;\n",
       "    if (outputDiv.id !== \"altair-viz-a705e0d997724838be0d90f4abd63359\") {\n",
       "      outputDiv = document.getElementById(\"altair-viz-a705e0d997724838be0d90f4abd63359\");\n",
       "    }\n",
       "\n",
       "    const paths = {\n",
       "      \"vega\": \"https://cdn.jsdelivr.net/npm/vega@5?noext\",\n",
       "      \"vega-lib\": \"https://cdn.jsdelivr.net/npm/vega-lib?noext\",\n",
       "      \"vega-lite\": \"https://cdn.jsdelivr.net/npm/vega-lite@5.20.1?noext\",\n",
       "      \"vega-embed\": \"https://cdn.jsdelivr.net/npm/vega-embed@6?noext\",\n",
       "    };\n",
       "\n",
       "    function maybeLoadScript(lib, version) {\n",
       "      var key = `${lib.replace(\"-\", \"\")}_version`;\n",
       "      return (VEGA_DEBUG[key] == version) ?\n",
       "        Promise.resolve(paths[lib]) :\n",
       "        new Promise(function(resolve, reject) {\n",
       "          var s = document.createElement('script');\n",
       "          document.getElementsByTagName(\"head\")[0].appendChild(s);\n",
       "          s.async = true;\n",
       "          s.onload = () => {\n",
       "            VEGA_DEBUG[key] = version;\n",
       "            return resolve(paths[lib]);\n",
       "          };\n",
       "          s.onerror = () => reject(`Error loading script: ${paths[lib]}`);\n",
       "          s.src = paths[lib];\n",
       "        });\n",
       "    }\n",
       "\n",
       "    function showError(err) {\n",
       "      outputDiv.innerHTML = `<div class=\"error\" style=\"color:red;\">${err}</div>`;\n",
       "      throw err;\n",
       "    }\n",
       "\n",
       "    function displayChart(vegaEmbed) {\n",
       "      vegaEmbed(outputDiv, spec, embedOpt)\n",
       "        .catch(err => showError(`Javascript Error: ${err.message}<br>This usually means there's a typo in your chart specification. See the javascript console for the full traceback.`));\n",
       "    }\n",
       "\n",
       "    if(typeof define === \"function\" && define.amd) {\n",
       "      requirejs.config({paths});\n",
       "      let deps = [\"vega-embed\"];\n",
       "      require(deps, displayChart, err => showError(`Error loading script: ${err.message}`));\n",
       "    } else {\n",
       "      maybeLoadScript(\"vega\", \"5\")\n",
       "        .then(() => maybeLoadScript(\"vega-lite\", \"5.20.1\"))\n",
       "        .then(() => maybeLoadScript(\"vega-embed\", \"6\"))\n",
       "        .catch(showError)\n",
       "        .then(() => displayChart(vegaEmbed));\n",
       "    }\n",
       "  })({\"config\": {\"view\": {\"continuousWidth\": 300, \"continuousHeight\": 300}, \"axisX\": {\"tickMinStep\": 1}, \"axisY\": {\"tickMinStep\": 1}, \"point\": {\"color\": \"red\", \"filled\": true, \"opacity\": 0.5, \"size\": 200}, \"scale\": {\"zero\": false}}, \"data\": {\"name\": \"data-bc0c4c722c7e7268767d9135071c8e9f\"}, \"mark\": {\"type\": \"point\", \"tooltip\": true}, \"encoding\": {\"color\": {\"field\": \"W\", \"type\": \"quantitative\"}, \"x\": {\"field\": \"GA\", \"type\": \"quantitative\"}, \"y\": {\"field\": \"scoring ratio\", \"type\": \"quantitative\"}}, \"params\": [{\"name\": \"param_1\", \"select\": {\"type\": \"interval\", \"encodings\": [\"x\", \"y\"]}, \"bind\": \"scales\"}], \"title\": \"GA vs scoring ratio with wins\", \"width\": 500, \"$schema\": \"https://vega.github.io/schema/vega-lite/v5.20.1.json\", \"datasets\": {\"data-bc0c4c722c7e7268767d9135071c8e9f\": [{\"Team\": \"Brazil\", \"Matches\": 109, \"GF\": 229, \"GA\": 105, \"GD\": 124, \"W\": 73, \"L\": 18, \"D\": 18, \"GF_avg\": 2.0, \"GA_avg\": 1.1, \"GD_avg\": 0.9, \"win_perc\": 66.97247706422019, \"scoring ratio\": 2.1809523809523808}, {\"Team\": \"Germany\", \"Matches\": 109, \"GF\": 226, \"GA\": 125, \"GD\": 101, \"W\": 67, \"L\": 22, \"D\": 20, \"GF_avg\": 1.98, \"GA_avg\": 1.36, \"GD_avg\": 0.62, \"win_perc\": 61.46788990825688, \"scoring ratio\": 1.808}, {\"Team\": \"Italy\", \"Matches\": 83, \"GF\": 128, \"GA\": 77, \"GD\": 51, \"W\": 45, \"L\": 17, \"D\": 21, \"GF_avg\": 1.48, \"GA_avg\": 1.0, \"GD_avg\": 0.48, \"win_perc\": 54.21686746987952, \"scoring ratio\": 1.6623376623376624}, {\"Team\": \"Argentina\", \"Matches\": 81, \"GF\": 137, \"GA\": 93, \"GD\": 44, \"W\": 43, \"L\": 23, \"D\": 15, \"GF_avg\": 1.52, \"GA_avg\": 1.29, \"GD_avg\": 0.23, \"win_perc\": 53.086419753086425, \"scoring ratio\": 1.4731182795698925}, {\"Team\": \"France\", \"Matches\": 66, \"GF\": 120, \"GA\": 77, \"GD\": 43, \"W\": 34, \"L\": 19, \"D\": 13, \"GF_avg\": 1.78, \"GA_avg\": 1.18, \"GD_avg\": 0.6, \"win_perc\": 51.515151515151516, \"scoring ratio\": 1.5584415584415585}, {\"Team\": \"Spain\", \"Matches\": 63, \"GF\": 99, \"GA\": 72, \"GD\": 27, \"W\": 30, \"L\": 18, \"D\": 15, \"GF_avg\": 1.57, \"GA_avg\": 1.14, \"GD_avg\": 0.43, \"win_perc\": 47.61904761904761, \"scoring ratio\": 1.375}, {\"Team\": \"England\", \"Matches\": 69, \"GF\": 91, \"GA\": 64, \"GD\": 27, \"W\": 29, \"L\": 19, \"D\": 21, \"GF_avg\": 1.31, \"GA_avg\": 0.94, \"GD_avg\": 0.36, \"win_perc\": 42.028985507246375, \"scoring ratio\": 1.421875}, {\"Team\": \"Netherlands\", \"Matches\": 50, \"GF\": 86, \"GA\": 48, \"GD\": 38, \"W\": 27, \"L\": 11, \"D\": 12, \"GF_avg\": 1.72, \"GA_avg\": 1.0, \"GD_avg\": 0.72, \"win_perc\": 54.0, \"scoring ratio\": 1.7916666666666667}, {\"Team\": \"Uruguay\", \"Matches\": 56, \"GF\": 87, \"GA\": 74, \"GD\": 13, \"W\": 24, \"L\": 20, \"D\": 12, \"GF_avg\": 1.49, \"GA_avg\": 1.36, \"GD_avg\": 0.13, \"win_perc\": 42.857142857142854, \"scoring ratio\": 1.1756756756756757}, {\"Team\": \"Belgium\", \"Matches\": 48, \"GF\": 68, \"GA\": 72, \"GD\": -4, \"W\": 20, \"L\": 19, \"D\": 9, \"GF_avg\": 1.48, \"GA_avg\": 1.4, \"GD_avg\": 0.07, \"win_perc\": 41.66666666666667, \"scoring ratio\": 0.9444444444444444}, {\"Team\": \"Russia\", \"Matches\": 45, \"GF\": 77, \"GA\": 54, \"GD\": 23, \"W\": 19, \"L\": 16, \"D\": 10, \"GF_avg\": 1.58, \"GA_avg\": 1.23, \"GD_avg\": 0.35, \"win_perc\": 42.22222222222222, \"scoring ratio\": 1.4259259259259258}, {\"Team\": \"Sweden\", \"Matches\": 51, \"GF\": 80, \"GA\": 73, \"GD\": 7, \"W\": 19, \"L\": 19, \"D\": 13, \"GF_avg\": 1.5, \"GA_avg\": 1.54, \"GD_avg\": -0.04, \"win_perc\": 37.254901960784316, \"scoring ratio\": 1.095890410958904}, {\"Team\": \"Yugoslavia\", \"Matches\": 37, \"GF\": 60, \"GA\": 46, \"GD\": 14, \"W\": 16, \"L\": 13, \"D\": 8, \"GF_avg\": 1.74, \"GA_avg\": 1.15, \"GD_avg\": 0.6, \"win_perc\": 43.24324324324324, \"scoring ratio\": 1.3043478260869565}, {\"Team\": \"Poland\", \"Matches\": 34, \"GF\": 46, \"GA\": 45, \"GD\": 1, \"W\": 16, \"L\": 13, \"D\": 5, \"GF_avg\": 1.36, \"GA_avg\": 1.33, \"GD_avg\": 0.03, \"win_perc\": 47.05882352941176, \"scoring ratio\": 1.0222222222222221}, {\"Team\": \"Mexico\", \"Matches\": 57, \"GF\": 60, \"GA\": 98, \"GD\": -38, \"W\": 16, \"L\": 27, \"D\": 14, \"GF_avg\": 1.09, \"GA_avg\": 1.54, \"GD_avg\": -0.46, \"win_perc\": 28.07017543859649, \"scoring ratio\": 0.6122448979591837}, {\"Team\": \"Hungary\", \"Matches\": 32, \"GF\": 87, \"GA\": 57, \"GD\": 30, \"W\": 15, \"L\": 14, \"D\": 3, \"GF_avg\": 2.53, \"GA_avg\": 1.88, \"GD_avg\": 0.64, \"win_perc\": 46.875, \"scoring ratio\": 1.5263157894736843}, {\"Team\": \"Portugal\", \"Matches\": 30, \"GF\": 49, \"GA\": 35, \"GD\": 14, \"W\": 14, \"L\": 10, \"D\": 6, \"GF_avg\": 1.52, \"GA_avg\": 1.21, \"GD_avg\": 0.31, \"win_perc\": 46.666666666666664, \"scoring ratio\": 1.4}, {\"Team\": \"Switzerland\", \"Matches\": 37, \"GF\": 50, \"GA\": 64, \"GD\": -14, \"W\": 12, \"L\": 17, \"D\": 8, \"GF_avg\": 1.44, \"GA_avg\": 1.74, \"GD_avg\": -0.3, \"win_perc\": 32.432432432432435, \"scoring ratio\": 0.78125}, {\"Team\": \"Austria\", \"Matches\": 29, \"GF\": 43, \"GA\": 47, \"GD\": -4, \"W\": 12, \"L\": 13, \"D\": 4, \"GF_avg\": 1.56, \"GA_avg\": 1.53, \"GD_avg\": 0.03, \"win_perc\": 41.37931034482759, \"scoring ratio\": 0.9148936170212766}, {\"Team\": \"Croatia\", \"Matches\": 23, \"GF\": 35, \"GA\": 26, \"GD\": 9, \"W\": 11, \"L\": 8, \"D\": 4, \"GF_avg\": 1.46, \"GA_avg\": 1.2, \"GD_avg\": 0.26, \"win_perc\": 47.82608695652174, \"scoring ratio\": 1.3461538461538463}, {\"Team\": \"Czechoslovakia\", \"Matches\": 30, \"GF\": 44, \"GA\": 45, \"GD\": -1, \"W\": 11, \"L\": 14, \"D\": 5, \"GF_avg\": 1.78, \"GA_avg\": 1.33, \"GD_avg\": 0.45, \"win_perc\": 36.666666666666664, \"scoring ratio\": 0.9777777777777777}, {\"Team\": \"Chile\", \"Matches\": 33, \"GF\": 40, \"GA\": 49, \"GD\": -9, \"W\": 11, \"L\": 15, \"D\": 7, \"GF_avg\": 1.23, \"GA_avg\": 1.47, \"GD_avg\": -0.25, \"win_perc\": 33.33333333333333, \"scoring ratio\": 0.8163265306122449}, {\"Team\": \"Colombia\", \"Matches\": 22, \"GF\": 32, \"GA\": 30, \"GD\": 2, \"W\": 9, \"L\": 10, \"D\": 3, \"GF_avg\": 1.44, \"GA_avg\": 1.31, \"GD_avg\": 0.12, \"win_perc\": 40.909090909090914, \"scoring ratio\": 1.0666666666666667}, {\"Team\": \"Denmark\", \"Matches\": 20, \"GF\": 30, \"GA\": 26, \"GD\": 4, \"W\": 9, \"L\": 6, \"D\": 5, \"GF_avg\": 1.5, \"GA_avg\": 1.33, \"GD_avg\": 0.18, \"win_perc\": 45.0, \"scoring ratio\": 1.1538461538461537}, {\"Team\": \"United States\", \"Matches\": 33, \"GF\": 37, \"GA\": 62, \"GD\": -25, \"W\": 8, \"L\": 19, \"D\": 6, \"GF_avg\": 1.12, \"GA_avg\": 1.86, \"GD_avg\": -0.74, \"win_perc\": 24.242424242424242, \"scoring ratio\": 0.5967741935483871}, {\"Team\": \"Romania\", \"Matches\": 21, \"GF\": 30, \"GA\": 32, \"GD\": -2, \"W\": 8, \"L\": 8, \"D\": 5, \"GF_avg\": 1.46, \"GA_avg\": 1.51, \"GD_avg\": -0.06, \"win_perc\": 38.095238095238095, \"scoring ratio\": 0.9375}, {\"Team\": \"Paraguay\", \"Matches\": 27, \"GF\": 30, \"GA\": 38, \"GD\": -8, \"W\": 7, \"L\": 10, \"D\": 10, \"GF_avg\": 1.14, \"GA_avg\": 1.33, \"GD_avg\": -0.2, \"win_perc\": 25.925925925925924, \"scoring ratio\": 0.7894736842105263}, {\"Team\": \"Nigeria\", \"Matches\": 21, \"GF\": 23, \"GA\": 30, \"GD\": -7, \"W\": 6, \"L\": 12, \"D\": 3, \"GF_avg\": 1.08, \"GA_avg\": 1.42, \"GD_avg\": -0.34, \"win_perc\": 28.57142857142857, \"scoring ratio\": 0.7666666666666667}, {\"Team\": \"South Korea\", \"Matches\": 34, \"GF\": 34, \"GA\": 70, \"GD\": -36, \"W\": 6, \"L\": 19, \"D\": 9, \"GF_avg\": 0.98, \"GA_avg\": 2.16, \"GD_avg\": -1.18, \"win_perc\": 17.647058823529413, \"scoring ratio\": 0.4857142857142857}, {\"Team\": \"Japan\", \"Matches\": 21, \"GF\": 20, \"GA\": 29, \"GD\": -9, \"W\": 5, \"L\": 11, \"D\": 5, \"GF_avg\": 0.99, \"GA_avg\": 1.4, \"GD_avg\": -0.42, \"win_perc\": 23.809523809523807, \"scoring ratio\": 0.6896551724137931}, {\"Team\": \"Costa Rica\", \"Matches\": 18, \"GF\": 19, \"GA\": 28, \"GD\": -9, \"W\": 5, \"L\": 8, \"D\": 5, \"GF_avg\": 1.02, \"GA_avg\": 1.54, \"GD_avg\": -0.51, \"win_perc\": 27.77777777777778, \"scoring ratio\": 0.6785714285714286}, {\"Team\": \"Peru\", \"Matches\": 18, \"GF\": 21, \"GA\": 33, \"GD\": -12, \"W\": 5, \"L\": 10, \"D\": 3, \"GF_avg\": 1.42, \"GA_avg\": 1.58, \"GD_avg\": -0.17, \"win_perc\": 27.77777777777778, \"scoring ratio\": 0.6363636363636364}, {\"Team\": \"Turkey\", \"Matches\": 10, \"GF\": 20, \"GA\": 17, \"GD\": 3, \"W\": 5, \"L\": 4, \"D\": 1, \"GF_avg\": 3.12, \"GA_avg\": 1.06, \"GD_avg\": 2.06, \"win_perc\": 50.0, \"scoring ratio\": 1.1764705882352942}, {\"Team\": \"Scotland\", \"Matches\": 23, \"GF\": 25, \"GA\": 41, \"GD\": -16, \"W\": 4, \"L\": 12, \"D\": 7, \"GF_avg\": 1.11, \"GA_avg\": 1.68, \"GD_avg\": -0.57, \"win_perc\": 17.391304347826086, \"scoring ratio\": 0.6097560975609756}, {\"Team\": \"Ecuador\", \"Matches\": 10, \"GF\": 10, \"GA\": 11, \"GD\": -1, \"W\": 4, \"L\": 5, \"D\": 1, \"GF_avg\": 1.1, \"GA_avg\": 0.78, \"GD_avg\": 0.31, \"win_perc\": 40.0, \"scoring ratio\": 0.9090909090909091}, {\"Team\": \"Cameroon\", \"Matches\": 23, \"GF\": 18, \"GA\": 43, \"GD\": -25, \"W\": 4, \"L\": 12, \"D\": 7, \"GF_avg\": 0.81, \"GA_avg\": 1.88, \"GD_avg\": -1.06, \"win_perc\": 17.391304347826086, \"scoring ratio\": 0.4186046511627907}, {\"Team\": \"Ghana\", \"Matches\": 12, \"GF\": 13, \"GA\": 16, \"GD\": -3, \"W\": 4, \"L\": 5, \"D\": 3, \"GF_avg\": 1.06, \"GA_avg\": 1.32, \"GD_avg\": -0.25, \"win_perc\": 33.33333333333333, \"scoring ratio\": 0.8125}, {\"Team\": \"Ivory Coast\", \"Matches\": 9, \"GF\": 13, \"GA\": 14, \"GD\": -1, \"W\": 3, \"L\": 5, \"D\": 1, \"GF_avg\": 1.5, \"GA_avg\": 1.42, \"GD_avg\": 0.09, \"win_perc\": 33.33333333333333, \"scoring ratio\": 0.9285714285714286}, {\"Team\": \"Saudi Arabia\", \"Matches\": 16, \"GF\": 11, \"GA\": 39, \"GD\": -28, \"W\": 3, \"L\": 11, \"D\": 2, \"GF_avg\": 0.69, \"GA_avg\": 2.39, \"GD_avg\": -1.7, \"win_perc\": 18.75, \"scoring ratio\": 0.28205128205128205}, {\"Team\": \"Senegal\", \"Matches\": 8, \"GF\": 11, \"GA\": 10, \"GD\": 1, \"W\": 3, \"L\": 2, \"D\": 3, \"GF_avg\": 1.3, \"GA_avg\": 1.34, \"GD_avg\": -0.04, \"win_perc\": 37.5, \"scoring ratio\": 1.1}, {\"Team\": \"Northern Ireland\", \"Matches\": 13, \"GF\": 13, \"GA\": 23, \"GD\": -10, \"W\": 3, \"L\": 5, \"D\": 5, \"GF_avg\": 1.0, \"GA_avg\": 1.69, \"GD_avg\": -0.7, \"win_perc\": 23.076923076923077, \"scoring ratio\": 0.5652173913043478}, {\"Team\": \"Algeria\", \"Matches\": 13, \"GF\": 13, \"GA\": 19, \"GD\": -6, \"W\": 3, \"L\": 7, \"D\": 3, \"GF_avg\": 0.98, \"GA_avg\": 1.48, \"GD_avg\": -0.48, \"win_perc\": 23.076923076923077, \"scoring ratio\": 0.6842105263157895}, {\"Team\": \"Bulgaria\", \"Matches\": 26, \"GF\": 22, \"GA\": 53, \"GD\": -31, \"W\": 3, \"L\": 15, \"D\": 8, \"GF_avg\": 1.08, \"GA_avg\": 1.84, \"GD_avg\": -0.77, \"win_perc\": 11.538461538461538, \"scoring ratio\": 0.41509433962264153}, {\"Team\": \"Tunisia\", \"Matches\": 15, \"GF\": 13, \"GA\": 25, \"GD\": -12, \"W\": 2, \"L\": 9, \"D\": 4, \"GF_avg\": 1.15, \"GA_avg\": 1.62, \"GD_avg\": -0.46, \"win_perc\": 13.333333333333334, \"scoring ratio\": 0.52}, {\"Team\": \"Greece\", \"Matches\": 10, \"GF\": 5, \"GA\": 20, \"GD\": -15, \"W\": 2, \"L\": 6, \"D\": 2, \"GF_avg\": 0.58, \"GA_avg\": 1.92, \"GD_avg\": -1.34, \"win_perc\": 20.0, \"scoring ratio\": 0.25}, {\"Team\": \"Ukraine\", \"Matches\": 5, \"GF\": 5, \"GA\": 7, \"GD\": -2, \"W\": 2, \"L\": 2, \"D\": 1, \"GF_avg\": 1.0, \"GA_avg\": 0.88, \"GD_avg\": 0.12, \"win_perc\": 40.0, \"scoring ratio\": 0.7142857142857143}, {\"Team\": \"Republic of Ireland\", \"Matches\": 13, \"GF\": 10, \"GA\": 10, \"GD\": 0, \"W\": 2, \"L\": 3, \"D\": 8, \"GF_avg\": 0.7, \"GA_avg\": 0.7, \"GD_avg\": 0.0, \"win_perc\": 15.384615384615385, \"scoring ratio\": 1.0}, {\"Team\": \"Australia\", \"Matches\": 16, \"GF\": 13, \"GA\": 31, \"GD\": -18, \"W\": 2, \"L\": 10, \"D\": 4, \"GF_avg\": 0.88, \"GA_avg\": 1.88, \"GD_avg\": -1.0, \"win_perc\": 12.5, \"scoring ratio\": 0.41935483870967744}, {\"Team\": \"Morocco\", \"Matches\": 16, \"GF\": 14, \"GA\": 22, \"GD\": -8, \"W\": 2, \"L\": 9, \"D\": 5, \"GF_avg\": 0.8, \"GA_avg\": 1.32, \"GD_avg\": -0.52, \"win_perc\": 12.5, \"scoring ratio\": 0.6363636363636364}, {\"Team\": \"Iran\", \"Matches\": 15, \"GF\": 9, \"GA\": 24, \"GD\": -15, \"W\": 2, \"L\": 9, \"D\": 4, \"GF_avg\": 0.57, \"GA_avg\": 1.33, \"GD_avg\": -0.76, \"win_perc\": 13.333333333333334, \"scoring ratio\": 0.375}, {\"Team\": \"Serbia\", \"Matches\": 9, \"GF\": 6, \"GA\": 17, \"GD\": -11, \"W\": 2, \"L\": 7, \"D\": 0, \"GF_avg\": 0.62, \"GA_avg\": 1.85, \"GD_avg\": -1.23, \"win_perc\": 22.22222222222222, \"scoring ratio\": 0.35294117647058826}, {\"Team\": \"East Germany\", \"Matches\": 6, \"GF\": 5, \"GA\": 5, \"GD\": 0, \"W\": 2, \"L\": 2, \"D\": 2, \"GF_avg\": 0.88, \"GA_avg\": 0.88, \"GD_avg\": 0.0, \"win_perc\": 33.33333333333333, \"scoring ratio\": 1.0}, {\"Team\": \"Norway\", \"Matches\": 8, \"GF\": 7, \"GA\": 8, \"GD\": -1, \"W\": 2, \"L\": 3, \"D\": 3, \"GF_avg\": 0.93, \"GA_avg\": 0.57, \"GD_avg\": 0.36, \"win_perc\": 25.0, \"scoring ratio\": 0.875}, {\"Team\": \"South Africa\", \"Matches\": 9, \"GF\": 11, \"GA\": 16, \"GD\": -5, \"W\": 2, \"L\": 3, \"D\": 4, \"GF_avg\": 1.14, \"GA_avg\": 2.04, \"GD_avg\": -0.9, \"win_perc\": 22.22222222222222, \"scoring ratio\": 0.6875}, {\"Team\": \"Slovenia\", \"Matches\": 6, \"GF\": 5, \"GA\": 10, \"GD\": -5, \"W\": 1, \"L\": 4, \"D\": 1, \"GF_avg\": 0.84, \"GA_avg\": 1.66, \"GD_avg\": -0.84, \"win_perc\": 16.666666666666664, \"scoring ratio\": 0.5}, {\"Team\": \"Czech Republic\", \"Matches\": 3, \"GF\": 3, \"GA\": 4, \"GD\": -1, \"W\": 1, \"L\": 2, \"D\": 0, \"GF_avg\": 1.5, \"GA_avg\": 1.0, \"GD_avg\": 0.5, \"win_perc\": 33.33333333333333, \"scoring ratio\": 0.75}, {\"Team\": \"Slovakia\", \"Matches\": 4, \"GF\": 5, \"GA\": 7, \"GD\": -2, \"W\": 1, \"L\": 2, \"D\": 1, \"GF_avg\": 1.25, \"GA_avg\": 1.75, \"GD_avg\": -0.5, \"win_perc\": 25.0, \"scoring ratio\": 0.7142857142857143}, {\"Team\": \"Bosnia and Herzegovina\", \"Matches\": 3, \"GF\": 4, \"GA\": 4, \"GD\": 0, \"W\": 1, \"L\": 2, \"D\": 0, \"GF_avg\": 1.75, \"GA_avg\": 1.25, \"GD_avg\": 0.5, \"win_perc\": 33.33333333333333, \"scoring ratio\": 1.0}, {\"Team\": \"North Korea\", \"Matches\": 7, \"GF\": 6, \"GA\": 21, \"GD\": -15, \"W\": 1, \"L\": 5, \"D\": 1, \"GF_avg\": 0.84, \"GA_avg\": 2.79, \"GD_avg\": -1.96, \"win_perc\": 14.285714285714285, \"scoring ratio\": 0.2857142857142857}, {\"Team\": \"Jamaica\", \"Matches\": 3, \"GF\": 3, \"GA\": 9, \"GD\": -6, \"W\": 1, \"L\": 2, \"D\": 0, \"GF_avg\": 1.0, \"GA_avg\": 3.0, \"GD_avg\": -2.0, \"win_perc\": 33.33333333333333, \"scoring ratio\": 0.3333333333333333}, {\"Team\": \"Wales\", \"Matches\": 5, \"GF\": 4, \"GA\": 4, \"GD\": 0, \"W\": 1, \"L\": 1, \"D\": 3, \"GF_avg\": 1.25, \"GA_avg\": 0.88, \"GD_avg\": 0.38, \"win_perc\": 20.0, \"scoring ratio\": 1.0}, {\"Team\": \"Cuba\", \"Matches\": 3, \"GF\": 5, \"GA\": 12, \"GD\": -7, \"W\": 1, \"L\": 1, \"D\": 1, \"GF_avg\": 1.25, \"GA_avg\": 5.0, \"GD_avg\": -3.75, \"win_perc\": 33.33333333333333, \"scoring ratio\": 0.4166666666666667}, {\"Team\": \"Indonesia\", \"Matches\": 1, \"GF\": 0, \"GA\": 6, \"GD\": -6, \"W\": 0, \"L\": 1, \"D\": 0, \"GF_avg\": 0.0, \"GA_avg\": 6.0, \"GD_avg\": -6.0, \"win_perc\": 0.0, \"scoring ratio\": 0.0}, {\"Team\": \"China\", \"Matches\": 3, \"GF\": 0, \"GA\": 9, \"GD\": -9, \"W\": 0, \"L\": 3, \"D\": 0, \"GF_avg\": 0.0, \"GA_avg\": 2.75, \"GD_avg\": -2.75, \"win_perc\": 0.0, \"scoring ratio\": 0.0}, {\"Team\": \"Angola\", \"Matches\": 3, \"GF\": 1, \"GA\": 2, \"GD\": -1, \"W\": 0, \"L\": 1, \"D\": 2, \"GF_avg\": 0.25, \"GA_avg\": 0.75, \"GD_avg\": -0.5, \"win_perc\": 0.0, \"scoring ratio\": 0.5}, {\"Team\": \"Iceland\", \"Matches\": 3, \"GF\": 2, \"GA\": 5, \"GD\": -3, \"W\": 0, \"L\": 2, \"D\": 1, \"GF_avg\": 0.75, \"GA_avg\": 1.75, \"GD_avg\": -1.0, \"win_perc\": 0.0, \"scoring ratio\": 0.4}, {\"Team\": \"United Arab Emirates\", \"Matches\": 3, \"GF\": 2, \"GA\": 11, \"GD\": -9, \"W\": 0, \"L\": 3, \"D\": 0, \"GF_avg\": 0.5, \"GA_avg\": 3.25, \"GD_avg\": -2.75, \"win_perc\": 0.0, \"scoring ratio\": 0.18181818181818182}, {\"Team\": \"Honduras\", \"Matches\": 9, \"GF\": 3, \"GA\": 14, \"GD\": -11, \"W\": 0, \"L\": 6, \"D\": 3, \"GF_avg\": 0.32, \"GA_avg\": 1.55, \"GD_avg\": -1.23, \"win_perc\": 0.0, \"scoring ratio\": 0.21428571428571427}, {\"Team\": \"Iraq\", \"Matches\": 3, \"GF\": 1, \"GA\": 4, \"GD\": -3, \"W\": 0, \"L\": 3, \"D\": 0, \"GF_avg\": 0.5, \"GA_avg\": 1.5, \"GD_avg\": -1.0, \"win_perc\": 0.0, \"scoring ratio\": 0.25}, {\"Team\": \"Togo\", \"Matches\": 3, \"GF\": 1, \"GA\": 6, \"GD\": -5, \"W\": 0, \"L\": 3, \"D\": 0, \"GF_avg\": 0.5, \"GA_avg\": 2.0, \"GD_avg\": -1.5, \"win_perc\": 0.0, \"scoring ratio\": 0.16666666666666666}, {\"Team\": \"Egypt\", \"Matches\": 7, \"GF\": 5, \"GA\": 12, \"GD\": -7, \"W\": 0, \"L\": 5, \"D\": 2, \"GF_avg\": 0.42, \"GA_avg\": 1.42, \"GD_avg\": -1.0, \"win_perc\": 0.0, \"scoring ratio\": 0.4166666666666667}, {\"Team\": \"Canada\", \"Matches\": 3, \"GF\": 0, \"GA\": 5, \"GD\": -5, \"W\": 0, \"L\": 3, \"D\": 0, \"GF_avg\": 0.0, \"GA_avg\": 1.5, \"GD_avg\": -1.5, \"win_perc\": 0.0, \"scoring ratio\": 0.0}, {\"Team\": \"DR Congo\", \"Matches\": 3, \"GF\": 0, \"GA\": 14, \"GD\": -14, \"W\": 0, \"L\": 3, \"D\": 0, \"GF_avg\": 0.0, \"GA_avg\": 5.75, \"GD_avg\": -5.75, \"win_perc\": 0.0, \"scoring ratio\": 0.0}, {\"Team\": \"Kuwait\", \"Matches\": 3, \"GF\": 2, \"GA\": 6, \"GD\": -4, \"W\": 0, \"L\": 2, \"D\": 1, \"GF_avg\": 0.67, \"GA_avg\": 2.0, \"GD_avg\": -1.33, \"win_perc\": 0.0, \"scoring ratio\": 0.3333333333333333}, {\"Team\": \"El Salvador\", \"Matches\": 6, \"GF\": 1, \"GA\": 22, \"GD\": -21, \"W\": 0, \"L\": 6, \"D\": 0, \"GF_avg\": 0.17, \"GA_avg\": 3.67, \"GD_avg\": -3.5, \"win_perc\": 0.0, \"scoring ratio\": 0.045454545454545456}, {\"Team\": \"Israel\", \"Matches\": 3, \"GF\": 1, \"GA\": 3, \"GD\": -2, \"W\": 0, \"L\": 1, \"D\": 2, \"GF_avg\": 0.33, \"GA_avg\": 1.0, \"GD_avg\": -0.67, \"win_perc\": 0.0, \"scoring ratio\": 0.3333333333333333}, {\"Team\": \"Panama\", \"Matches\": 3, \"GF\": 2, \"GA\": 11, \"GD\": -9, \"W\": 0, \"L\": 3, \"D\": 0, \"GF_avg\": 0.75, \"GA_avg\": 3.25, \"GD_avg\": -2.5, \"win_perc\": 0.0, \"scoring ratio\": 0.18181818181818182}, {\"Team\": \"Haiti\", \"Matches\": 3, \"GF\": 2, \"GA\": 14, \"GD\": -12, \"W\": 0, \"L\": 3, \"D\": 0, \"GF_avg\": 0.5, \"GA_avg\": 5.25, \"GD_avg\": -4.75, \"win_perc\": 0.0, \"scoring ratio\": 0.14285714285714285}, {\"Team\": \"Bolivia\", \"Matches\": 6, \"GF\": 1, \"GA\": 20, \"GD\": -19, \"W\": 0, \"L\": 5, \"D\": 1, \"GF_avg\": 0.5, \"GA_avg\": 3.2, \"GD_avg\": -2.7, \"win_perc\": 0.0, \"scoring ratio\": 0.05}, {\"Team\": \"New Zealand\", \"Matches\": 6, \"GF\": 4, \"GA\": 14, \"GD\": -10, \"W\": 0, \"L\": 3, \"D\": 3, \"GF_avg\": 0.8, \"GA_avg\": 1.8, \"GD_avg\": -1.0, \"win_perc\": 0.0, \"scoring ratio\": 0.2857142857142857}, {\"Team\": \"Trinidad and Tobago\", \"Matches\": 3, \"GF\": 0, \"GA\": 4, \"GD\": -4, \"W\": 0, \"L\": 2, \"D\": 1, \"GF_avg\": 0.0, \"GA_avg\": 1.0, \"GD_avg\": -1.0, \"win_perc\": 0.0, \"scoring ratio\": 0.0}]}}, {\"mode\": \"vega-lite\"});\n",
       "</script>"
      ],
      "text/plain": [
       "alt.Chart(...)"
      ]
     },
     "execution_count": 43,
     "metadata": {},
     "output_type": "execute_result"
    }
   ],
   "source": [
    "((lf_team_recs\n",
    "    .collect()\n",
    "    .with_columns(\n",
    "        (pl.col('GF')/('GA')).alias('scoring ratio')\n",
    "    )\n",
    "    .plot.point(\n",
    "        x=\"GA\",\n",
    "        y=\"scoring ratio\",\n",
    "        color = \"W\",\n",
    "    )\n",
    ").properties(width=500, title=\"GA vs scoring ratio with wins\")\n",
    "    .configure_point(size=200, color='red', filled=True, opacity=0.5)\n",
    "    .configure_scale(zero=False)\n",
    "    .configure_axisX(tickMinStep=1)\n",
    "    .configure_axisY(tickMinStep=1)\n",
    ")"
   ]
  },
  {
   "cell_type": "code",
   "execution_count": 44,
   "id": "8d02854c-589c-48d1-b12e-1381430c1edd",
   "metadata": {},
   "outputs": [
    {
     "data": {
      "text/html": [
       "\n",
       "<style>\n",
       "  #altair-viz-4affcde2099e449b972eeab07d0a9f26.vega-embed {\n",
       "    width: 100%;\n",
       "    display: flex;\n",
       "  }\n",
       "\n",
       "  #altair-viz-4affcde2099e449b972eeab07d0a9f26.vega-embed details,\n",
       "  #altair-viz-4affcde2099e449b972eeab07d0a9f26.vega-embed details summary {\n",
       "    position: relative;\n",
       "  }\n",
       "</style>\n",
       "<div id=\"altair-viz-4affcde2099e449b972eeab07d0a9f26\"></div>\n",
       "<script type=\"text/javascript\">\n",
       "  var VEGA_DEBUG = (typeof VEGA_DEBUG == \"undefined\") ? {} : VEGA_DEBUG;\n",
       "  (function(spec, embedOpt){\n",
       "    let outputDiv = document.currentScript.previousElementSibling;\n",
       "    if (outputDiv.id !== \"altair-viz-4affcde2099e449b972eeab07d0a9f26\") {\n",
       "      outputDiv = document.getElementById(\"altair-viz-4affcde2099e449b972eeab07d0a9f26\");\n",
       "    }\n",
       "\n",
       "    const paths = {\n",
       "      \"vega\": \"https://cdn.jsdelivr.net/npm/vega@5?noext\",\n",
       "      \"vega-lib\": \"https://cdn.jsdelivr.net/npm/vega-lib?noext\",\n",
       "      \"vega-lite\": \"https://cdn.jsdelivr.net/npm/vega-lite@5.20.1?noext\",\n",
       "      \"vega-embed\": \"https://cdn.jsdelivr.net/npm/vega-embed@6?noext\",\n",
       "    };\n",
       "\n",
       "    function maybeLoadScript(lib, version) {\n",
       "      var key = `${lib.replace(\"-\", \"\")}_version`;\n",
       "      return (VEGA_DEBUG[key] == version) ?\n",
       "        Promise.resolve(paths[lib]) :\n",
       "        new Promise(function(resolve, reject) {\n",
       "          var s = document.createElement('script');\n",
       "          document.getElementsByTagName(\"head\")[0].appendChild(s);\n",
       "          s.async = true;\n",
       "          s.onload = () => {\n",
       "            VEGA_DEBUG[key] = version;\n",
       "            return resolve(paths[lib]);\n",
       "          };\n",
       "          s.onerror = () => reject(`Error loading script: ${paths[lib]}`);\n",
       "          s.src = paths[lib];\n",
       "        });\n",
       "    }\n",
       "\n",
       "    function showError(err) {\n",
       "      outputDiv.innerHTML = `<div class=\"error\" style=\"color:red;\">${err}</div>`;\n",
       "      throw err;\n",
       "    }\n",
       "\n",
       "    function displayChart(vegaEmbed) {\n",
       "      vegaEmbed(outputDiv, spec, embedOpt)\n",
       "        .catch(err => showError(`Javascript Error: ${err.message}<br>This usually means there's a typo in your chart specification. See the javascript console for the full traceback.`));\n",
       "    }\n",
       "\n",
       "    if(typeof define === \"function\" && define.amd) {\n",
       "      requirejs.config({paths});\n",
       "      let deps = [\"vega-embed\"];\n",
       "      require(deps, displayChart, err => showError(`Error loading script: ${err.message}`));\n",
       "    } else {\n",
       "      maybeLoadScript(\"vega\", \"5\")\n",
       "        .then(() => maybeLoadScript(\"vega-lite\", \"5.20.1\"))\n",
       "        .then(() => maybeLoadScript(\"vega-embed\", \"6\"))\n",
       "        .catch(showError)\n",
       "        .then(() => displayChart(vegaEmbed));\n",
       "    }\n",
       "  })({\"config\": {\"view\": {\"continuousWidth\": 300, \"continuousHeight\": 300}}, \"data\": {\"name\": \"data-bc0c4c722c7e7268767d9135071c8e9f\"}, \"mark\": {\"type\": \"point\"}, \"encoding\": {\"color\": {\"field\": \"W\", \"scale\": {\"scheme\": \"dark2\"}, \"type\": \"quantitative\"}, \"x\": {\"field\": \"GF\", \"type\": \"quantitative\"}, \"y\": {\"field\": \"scoring ratio\", \"type\": \"quantitative\"}}, \"$schema\": \"https://vega.github.io/schema/vega-lite/v5.20.1.json\", \"datasets\": {\"data-bc0c4c722c7e7268767d9135071c8e9f\": [{\"Team\": \"Brazil\", \"Matches\": 109, \"GF\": 229, \"GA\": 105, \"GD\": 124, \"W\": 73, \"L\": 18, \"D\": 18, \"GF_avg\": 2.0, \"GA_avg\": 1.1, \"GD_avg\": 0.9, \"win_perc\": 66.97247706422019, \"scoring ratio\": 2.1809523809523808}, {\"Team\": \"Germany\", \"Matches\": 109, \"GF\": 226, \"GA\": 125, \"GD\": 101, \"W\": 67, \"L\": 22, \"D\": 20, \"GF_avg\": 1.98, \"GA_avg\": 1.36, \"GD_avg\": 0.62, \"win_perc\": 61.46788990825688, \"scoring ratio\": 1.808}, {\"Team\": \"Italy\", \"Matches\": 83, \"GF\": 128, \"GA\": 77, \"GD\": 51, \"W\": 45, \"L\": 17, \"D\": 21, \"GF_avg\": 1.48, \"GA_avg\": 1.0, \"GD_avg\": 0.48, \"win_perc\": 54.21686746987952, \"scoring ratio\": 1.6623376623376624}, {\"Team\": \"Argentina\", \"Matches\": 81, \"GF\": 137, \"GA\": 93, \"GD\": 44, \"W\": 43, \"L\": 23, \"D\": 15, \"GF_avg\": 1.52, \"GA_avg\": 1.29, \"GD_avg\": 0.23, \"win_perc\": 53.086419753086425, \"scoring ratio\": 1.4731182795698925}, {\"Team\": \"France\", \"Matches\": 66, \"GF\": 120, \"GA\": 77, \"GD\": 43, \"W\": 34, \"L\": 19, \"D\": 13, \"GF_avg\": 1.78, \"GA_avg\": 1.18, \"GD_avg\": 0.6, \"win_perc\": 51.515151515151516, \"scoring ratio\": 1.5584415584415585}, {\"Team\": \"Spain\", \"Matches\": 63, \"GF\": 99, \"GA\": 72, \"GD\": 27, \"W\": 30, \"L\": 18, \"D\": 15, \"GF_avg\": 1.57, \"GA_avg\": 1.14, \"GD_avg\": 0.43, \"win_perc\": 47.61904761904761, \"scoring ratio\": 1.375}, {\"Team\": \"England\", \"Matches\": 69, \"GF\": 91, \"GA\": 64, \"GD\": 27, \"W\": 29, \"L\": 19, \"D\": 21, \"GF_avg\": 1.31, \"GA_avg\": 0.94, \"GD_avg\": 0.36, \"win_perc\": 42.028985507246375, \"scoring ratio\": 1.421875}, {\"Team\": \"Netherlands\", \"Matches\": 50, \"GF\": 86, \"GA\": 48, \"GD\": 38, \"W\": 27, \"L\": 11, \"D\": 12, \"GF_avg\": 1.72, \"GA_avg\": 1.0, \"GD_avg\": 0.72, \"win_perc\": 54.0, \"scoring ratio\": 1.7916666666666667}, {\"Team\": \"Uruguay\", \"Matches\": 56, \"GF\": 87, \"GA\": 74, \"GD\": 13, \"W\": 24, \"L\": 20, \"D\": 12, \"GF_avg\": 1.49, \"GA_avg\": 1.36, \"GD_avg\": 0.13, \"win_perc\": 42.857142857142854, \"scoring ratio\": 1.1756756756756757}, {\"Team\": \"Belgium\", \"Matches\": 48, \"GF\": 68, \"GA\": 72, \"GD\": -4, \"W\": 20, \"L\": 19, \"D\": 9, \"GF_avg\": 1.48, \"GA_avg\": 1.4, \"GD_avg\": 0.07, \"win_perc\": 41.66666666666667, \"scoring ratio\": 0.9444444444444444}, {\"Team\": \"Russia\", \"Matches\": 45, \"GF\": 77, \"GA\": 54, \"GD\": 23, \"W\": 19, \"L\": 16, \"D\": 10, \"GF_avg\": 1.58, \"GA_avg\": 1.23, \"GD_avg\": 0.35, \"win_perc\": 42.22222222222222, \"scoring ratio\": 1.4259259259259258}, {\"Team\": \"Sweden\", \"Matches\": 51, \"GF\": 80, \"GA\": 73, \"GD\": 7, \"W\": 19, \"L\": 19, \"D\": 13, \"GF_avg\": 1.5, \"GA_avg\": 1.54, \"GD_avg\": -0.04, \"win_perc\": 37.254901960784316, \"scoring ratio\": 1.095890410958904}, {\"Team\": \"Yugoslavia\", \"Matches\": 37, \"GF\": 60, \"GA\": 46, \"GD\": 14, \"W\": 16, \"L\": 13, \"D\": 8, \"GF_avg\": 1.74, \"GA_avg\": 1.15, \"GD_avg\": 0.6, \"win_perc\": 43.24324324324324, \"scoring ratio\": 1.3043478260869565}, {\"Team\": \"Poland\", \"Matches\": 34, \"GF\": 46, \"GA\": 45, \"GD\": 1, \"W\": 16, \"L\": 13, \"D\": 5, \"GF_avg\": 1.36, \"GA_avg\": 1.33, \"GD_avg\": 0.03, \"win_perc\": 47.05882352941176, \"scoring ratio\": 1.0222222222222221}, {\"Team\": \"Mexico\", \"Matches\": 57, \"GF\": 60, \"GA\": 98, \"GD\": -38, \"W\": 16, \"L\": 27, \"D\": 14, \"GF_avg\": 1.09, \"GA_avg\": 1.54, \"GD_avg\": -0.46, \"win_perc\": 28.07017543859649, \"scoring ratio\": 0.6122448979591837}, {\"Team\": \"Hungary\", \"Matches\": 32, \"GF\": 87, \"GA\": 57, \"GD\": 30, \"W\": 15, \"L\": 14, \"D\": 3, \"GF_avg\": 2.53, \"GA_avg\": 1.88, \"GD_avg\": 0.64, \"win_perc\": 46.875, \"scoring ratio\": 1.5263157894736843}, {\"Team\": \"Portugal\", \"Matches\": 30, \"GF\": 49, \"GA\": 35, \"GD\": 14, \"W\": 14, \"L\": 10, \"D\": 6, \"GF_avg\": 1.52, \"GA_avg\": 1.21, \"GD_avg\": 0.31, \"win_perc\": 46.666666666666664, \"scoring ratio\": 1.4}, {\"Team\": \"Switzerland\", \"Matches\": 37, \"GF\": 50, \"GA\": 64, \"GD\": -14, \"W\": 12, \"L\": 17, \"D\": 8, \"GF_avg\": 1.44, \"GA_avg\": 1.74, \"GD_avg\": -0.3, \"win_perc\": 32.432432432432435, \"scoring ratio\": 0.78125}, {\"Team\": \"Austria\", \"Matches\": 29, \"GF\": 43, \"GA\": 47, \"GD\": -4, \"W\": 12, \"L\": 13, \"D\": 4, \"GF_avg\": 1.56, \"GA_avg\": 1.53, \"GD_avg\": 0.03, \"win_perc\": 41.37931034482759, \"scoring ratio\": 0.9148936170212766}, {\"Team\": \"Croatia\", \"Matches\": 23, \"GF\": 35, \"GA\": 26, \"GD\": 9, \"W\": 11, \"L\": 8, \"D\": 4, \"GF_avg\": 1.46, \"GA_avg\": 1.2, \"GD_avg\": 0.26, \"win_perc\": 47.82608695652174, \"scoring ratio\": 1.3461538461538463}, {\"Team\": \"Czechoslovakia\", \"Matches\": 30, \"GF\": 44, \"GA\": 45, \"GD\": -1, \"W\": 11, \"L\": 14, \"D\": 5, \"GF_avg\": 1.78, \"GA_avg\": 1.33, \"GD_avg\": 0.45, \"win_perc\": 36.666666666666664, \"scoring ratio\": 0.9777777777777777}, {\"Team\": \"Chile\", \"Matches\": 33, \"GF\": 40, \"GA\": 49, \"GD\": -9, \"W\": 11, \"L\": 15, \"D\": 7, \"GF_avg\": 1.23, \"GA_avg\": 1.47, \"GD_avg\": -0.25, \"win_perc\": 33.33333333333333, \"scoring ratio\": 0.8163265306122449}, {\"Team\": \"Colombia\", \"Matches\": 22, \"GF\": 32, \"GA\": 30, \"GD\": 2, \"W\": 9, \"L\": 10, \"D\": 3, \"GF_avg\": 1.44, \"GA_avg\": 1.31, \"GD_avg\": 0.12, \"win_perc\": 40.909090909090914, \"scoring ratio\": 1.0666666666666667}, {\"Team\": \"Denmark\", \"Matches\": 20, \"GF\": 30, \"GA\": 26, \"GD\": 4, \"W\": 9, \"L\": 6, \"D\": 5, \"GF_avg\": 1.5, \"GA_avg\": 1.33, \"GD_avg\": 0.18, \"win_perc\": 45.0, \"scoring ratio\": 1.1538461538461537}, {\"Team\": \"United States\", \"Matches\": 33, \"GF\": 37, \"GA\": 62, \"GD\": -25, \"W\": 8, \"L\": 19, \"D\": 6, \"GF_avg\": 1.12, \"GA_avg\": 1.86, \"GD_avg\": -0.74, \"win_perc\": 24.242424242424242, \"scoring ratio\": 0.5967741935483871}, {\"Team\": \"Romania\", \"Matches\": 21, \"GF\": 30, \"GA\": 32, \"GD\": -2, \"W\": 8, \"L\": 8, \"D\": 5, \"GF_avg\": 1.46, \"GA_avg\": 1.51, \"GD_avg\": -0.06, \"win_perc\": 38.095238095238095, \"scoring ratio\": 0.9375}, {\"Team\": \"Paraguay\", \"Matches\": 27, \"GF\": 30, \"GA\": 38, \"GD\": -8, \"W\": 7, \"L\": 10, \"D\": 10, \"GF_avg\": 1.14, \"GA_avg\": 1.33, \"GD_avg\": -0.2, \"win_perc\": 25.925925925925924, \"scoring ratio\": 0.7894736842105263}, {\"Team\": \"Nigeria\", \"Matches\": 21, \"GF\": 23, \"GA\": 30, \"GD\": -7, \"W\": 6, \"L\": 12, \"D\": 3, \"GF_avg\": 1.08, \"GA_avg\": 1.42, \"GD_avg\": -0.34, \"win_perc\": 28.57142857142857, \"scoring ratio\": 0.7666666666666667}, {\"Team\": \"South Korea\", \"Matches\": 34, \"GF\": 34, \"GA\": 70, \"GD\": -36, \"W\": 6, \"L\": 19, \"D\": 9, \"GF_avg\": 0.98, \"GA_avg\": 2.16, \"GD_avg\": -1.18, \"win_perc\": 17.647058823529413, \"scoring ratio\": 0.4857142857142857}, {\"Team\": \"Japan\", \"Matches\": 21, \"GF\": 20, \"GA\": 29, \"GD\": -9, \"W\": 5, \"L\": 11, \"D\": 5, \"GF_avg\": 0.99, \"GA_avg\": 1.4, \"GD_avg\": -0.42, \"win_perc\": 23.809523809523807, \"scoring ratio\": 0.6896551724137931}, {\"Team\": \"Costa Rica\", \"Matches\": 18, \"GF\": 19, \"GA\": 28, \"GD\": -9, \"W\": 5, \"L\": 8, \"D\": 5, \"GF_avg\": 1.02, \"GA_avg\": 1.54, \"GD_avg\": -0.51, \"win_perc\": 27.77777777777778, \"scoring ratio\": 0.6785714285714286}, {\"Team\": \"Peru\", \"Matches\": 18, \"GF\": 21, \"GA\": 33, \"GD\": -12, \"W\": 5, \"L\": 10, \"D\": 3, \"GF_avg\": 1.42, \"GA_avg\": 1.58, \"GD_avg\": -0.17, \"win_perc\": 27.77777777777778, \"scoring ratio\": 0.6363636363636364}, {\"Team\": \"Turkey\", \"Matches\": 10, \"GF\": 20, \"GA\": 17, \"GD\": 3, \"W\": 5, \"L\": 4, \"D\": 1, \"GF_avg\": 3.12, \"GA_avg\": 1.06, \"GD_avg\": 2.06, \"win_perc\": 50.0, \"scoring ratio\": 1.1764705882352942}, {\"Team\": \"Scotland\", \"Matches\": 23, \"GF\": 25, \"GA\": 41, \"GD\": -16, \"W\": 4, \"L\": 12, \"D\": 7, \"GF_avg\": 1.11, \"GA_avg\": 1.68, \"GD_avg\": -0.57, \"win_perc\": 17.391304347826086, \"scoring ratio\": 0.6097560975609756}, {\"Team\": \"Ecuador\", \"Matches\": 10, \"GF\": 10, \"GA\": 11, \"GD\": -1, \"W\": 4, \"L\": 5, \"D\": 1, \"GF_avg\": 1.1, \"GA_avg\": 0.78, \"GD_avg\": 0.31, \"win_perc\": 40.0, \"scoring ratio\": 0.9090909090909091}, {\"Team\": \"Cameroon\", \"Matches\": 23, \"GF\": 18, \"GA\": 43, \"GD\": -25, \"W\": 4, \"L\": 12, \"D\": 7, \"GF_avg\": 0.81, \"GA_avg\": 1.88, \"GD_avg\": -1.06, \"win_perc\": 17.391304347826086, \"scoring ratio\": 0.4186046511627907}, {\"Team\": \"Ghana\", \"Matches\": 12, \"GF\": 13, \"GA\": 16, \"GD\": -3, \"W\": 4, \"L\": 5, \"D\": 3, \"GF_avg\": 1.06, \"GA_avg\": 1.32, \"GD_avg\": -0.25, \"win_perc\": 33.33333333333333, \"scoring ratio\": 0.8125}, {\"Team\": \"Ivory Coast\", \"Matches\": 9, \"GF\": 13, \"GA\": 14, \"GD\": -1, \"W\": 3, \"L\": 5, \"D\": 1, \"GF_avg\": 1.5, \"GA_avg\": 1.42, \"GD_avg\": 0.09, \"win_perc\": 33.33333333333333, \"scoring ratio\": 0.9285714285714286}, {\"Team\": \"Saudi Arabia\", \"Matches\": 16, \"GF\": 11, \"GA\": 39, \"GD\": -28, \"W\": 3, \"L\": 11, \"D\": 2, \"GF_avg\": 0.69, \"GA_avg\": 2.39, \"GD_avg\": -1.7, \"win_perc\": 18.75, \"scoring ratio\": 0.28205128205128205}, {\"Team\": \"Senegal\", \"Matches\": 8, \"GF\": 11, \"GA\": 10, \"GD\": 1, \"W\": 3, \"L\": 2, \"D\": 3, \"GF_avg\": 1.3, \"GA_avg\": 1.34, \"GD_avg\": -0.04, \"win_perc\": 37.5, \"scoring ratio\": 1.1}, {\"Team\": \"Northern Ireland\", \"Matches\": 13, \"GF\": 13, \"GA\": 23, \"GD\": -10, \"W\": 3, \"L\": 5, \"D\": 5, \"GF_avg\": 1.0, \"GA_avg\": 1.69, \"GD_avg\": -0.7, \"win_perc\": 23.076923076923077, \"scoring ratio\": 0.5652173913043478}, {\"Team\": \"Algeria\", \"Matches\": 13, \"GF\": 13, \"GA\": 19, \"GD\": -6, \"W\": 3, \"L\": 7, \"D\": 3, \"GF_avg\": 0.98, \"GA_avg\": 1.48, \"GD_avg\": -0.48, \"win_perc\": 23.076923076923077, \"scoring ratio\": 0.6842105263157895}, {\"Team\": \"Bulgaria\", \"Matches\": 26, \"GF\": 22, \"GA\": 53, \"GD\": -31, \"W\": 3, \"L\": 15, \"D\": 8, \"GF_avg\": 1.08, \"GA_avg\": 1.84, \"GD_avg\": -0.77, \"win_perc\": 11.538461538461538, \"scoring ratio\": 0.41509433962264153}, {\"Team\": \"Tunisia\", \"Matches\": 15, \"GF\": 13, \"GA\": 25, \"GD\": -12, \"W\": 2, \"L\": 9, \"D\": 4, \"GF_avg\": 1.15, \"GA_avg\": 1.62, \"GD_avg\": -0.46, \"win_perc\": 13.333333333333334, \"scoring ratio\": 0.52}, {\"Team\": \"Greece\", \"Matches\": 10, \"GF\": 5, \"GA\": 20, \"GD\": -15, \"W\": 2, \"L\": 6, \"D\": 2, \"GF_avg\": 0.58, \"GA_avg\": 1.92, \"GD_avg\": -1.34, \"win_perc\": 20.0, \"scoring ratio\": 0.25}, {\"Team\": \"Ukraine\", \"Matches\": 5, \"GF\": 5, \"GA\": 7, \"GD\": -2, \"W\": 2, \"L\": 2, \"D\": 1, \"GF_avg\": 1.0, \"GA_avg\": 0.88, \"GD_avg\": 0.12, \"win_perc\": 40.0, \"scoring ratio\": 0.7142857142857143}, {\"Team\": \"Republic of Ireland\", \"Matches\": 13, \"GF\": 10, \"GA\": 10, \"GD\": 0, \"W\": 2, \"L\": 3, \"D\": 8, \"GF_avg\": 0.7, \"GA_avg\": 0.7, \"GD_avg\": 0.0, \"win_perc\": 15.384615384615385, \"scoring ratio\": 1.0}, {\"Team\": \"Australia\", \"Matches\": 16, \"GF\": 13, \"GA\": 31, \"GD\": -18, \"W\": 2, \"L\": 10, \"D\": 4, \"GF_avg\": 0.88, \"GA_avg\": 1.88, \"GD_avg\": -1.0, \"win_perc\": 12.5, \"scoring ratio\": 0.41935483870967744}, {\"Team\": \"Morocco\", \"Matches\": 16, \"GF\": 14, \"GA\": 22, \"GD\": -8, \"W\": 2, \"L\": 9, \"D\": 5, \"GF_avg\": 0.8, \"GA_avg\": 1.32, \"GD_avg\": -0.52, \"win_perc\": 12.5, \"scoring ratio\": 0.6363636363636364}, {\"Team\": \"Iran\", \"Matches\": 15, \"GF\": 9, \"GA\": 24, \"GD\": -15, \"W\": 2, \"L\": 9, \"D\": 4, \"GF_avg\": 0.57, \"GA_avg\": 1.33, \"GD_avg\": -0.76, \"win_perc\": 13.333333333333334, \"scoring ratio\": 0.375}, {\"Team\": \"Serbia\", \"Matches\": 9, \"GF\": 6, \"GA\": 17, \"GD\": -11, \"W\": 2, \"L\": 7, \"D\": 0, \"GF_avg\": 0.62, \"GA_avg\": 1.85, \"GD_avg\": -1.23, \"win_perc\": 22.22222222222222, \"scoring ratio\": 0.35294117647058826}, {\"Team\": \"East Germany\", \"Matches\": 6, \"GF\": 5, \"GA\": 5, \"GD\": 0, \"W\": 2, \"L\": 2, \"D\": 2, \"GF_avg\": 0.88, \"GA_avg\": 0.88, \"GD_avg\": 0.0, \"win_perc\": 33.33333333333333, \"scoring ratio\": 1.0}, {\"Team\": \"Norway\", \"Matches\": 8, \"GF\": 7, \"GA\": 8, \"GD\": -1, \"W\": 2, \"L\": 3, \"D\": 3, \"GF_avg\": 0.93, \"GA_avg\": 0.57, \"GD_avg\": 0.36, \"win_perc\": 25.0, \"scoring ratio\": 0.875}, {\"Team\": \"South Africa\", \"Matches\": 9, \"GF\": 11, \"GA\": 16, \"GD\": -5, \"W\": 2, \"L\": 3, \"D\": 4, \"GF_avg\": 1.14, \"GA_avg\": 2.04, \"GD_avg\": -0.9, \"win_perc\": 22.22222222222222, \"scoring ratio\": 0.6875}, {\"Team\": \"Slovenia\", \"Matches\": 6, \"GF\": 5, \"GA\": 10, \"GD\": -5, \"W\": 1, \"L\": 4, \"D\": 1, \"GF_avg\": 0.84, \"GA_avg\": 1.66, \"GD_avg\": -0.84, \"win_perc\": 16.666666666666664, \"scoring ratio\": 0.5}, {\"Team\": \"Czech Republic\", \"Matches\": 3, \"GF\": 3, \"GA\": 4, \"GD\": -1, \"W\": 1, \"L\": 2, \"D\": 0, \"GF_avg\": 1.5, \"GA_avg\": 1.0, \"GD_avg\": 0.5, \"win_perc\": 33.33333333333333, \"scoring ratio\": 0.75}, {\"Team\": \"Slovakia\", \"Matches\": 4, \"GF\": 5, \"GA\": 7, \"GD\": -2, \"W\": 1, \"L\": 2, \"D\": 1, \"GF_avg\": 1.25, \"GA_avg\": 1.75, \"GD_avg\": -0.5, \"win_perc\": 25.0, \"scoring ratio\": 0.7142857142857143}, {\"Team\": \"Bosnia and Herzegovina\", \"Matches\": 3, \"GF\": 4, \"GA\": 4, \"GD\": 0, \"W\": 1, \"L\": 2, \"D\": 0, \"GF_avg\": 1.75, \"GA_avg\": 1.25, \"GD_avg\": 0.5, \"win_perc\": 33.33333333333333, \"scoring ratio\": 1.0}, {\"Team\": \"North Korea\", \"Matches\": 7, \"GF\": 6, \"GA\": 21, \"GD\": -15, \"W\": 1, \"L\": 5, \"D\": 1, \"GF_avg\": 0.84, \"GA_avg\": 2.79, \"GD_avg\": -1.96, \"win_perc\": 14.285714285714285, \"scoring ratio\": 0.2857142857142857}, {\"Team\": \"Jamaica\", \"Matches\": 3, \"GF\": 3, \"GA\": 9, \"GD\": -6, \"W\": 1, \"L\": 2, \"D\": 0, \"GF_avg\": 1.0, \"GA_avg\": 3.0, \"GD_avg\": -2.0, \"win_perc\": 33.33333333333333, \"scoring ratio\": 0.3333333333333333}, {\"Team\": \"Wales\", \"Matches\": 5, \"GF\": 4, \"GA\": 4, \"GD\": 0, \"W\": 1, \"L\": 1, \"D\": 3, \"GF_avg\": 1.25, \"GA_avg\": 0.88, \"GD_avg\": 0.38, \"win_perc\": 20.0, \"scoring ratio\": 1.0}, {\"Team\": \"Cuba\", \"Matches\": 3, \"GF\": 5, \"GA\": 12, \"GD\": -7, \"W\": 1, \"L\": 1, \"D\": 1, \"GF_avg\": 1.25, \"GA_avg\": 5.0, \"GD_avg\": -3.75, \"win_perc\": 33.33333333333333, \"scoring ratio\": 0.4166666666666667}, {\"Team\": \"Indonesia\", \"Matches\": 1, \"GF\": 0, \"GA\": 6, \"GD\": -6, \"W\": 0, \"L\": 1, \"D\": 0, \"GF_avg\": 0.0, \"GA_avg\": 6.0, \"GD_avg\": -6.0, \"win_perc\": 0.0, \"scoring ratio\": 0.0}, {\"Team\": \"China\", \"Matches\": 3, \"GF\": 0, \"GA\": 9, \"GD\": -9, \"W\": 0, \"L\": 3, \"D\": 0, \"GF_avg\": 0.0, \"GA_avg\": 2.75, \"GD_avg\": -2.75, \"win_perc\": 0.0, \"scoring ratio\": 0.0}, {\"Team\": \"Angola\", \"Matches\": 3, \"GF\": 1, \"GA\": 2, \"GD\": -1, \"W\": 0, \"L\": 1, \"D\": 2, \"GF_avg\": 0.25, \"GA_avg\": 0.75, \"GD_avg\": -0.5, \"win_perc\": 0.0, \"scoring ratio\": 0.5}, {\"Team\": \"Iceland\", \"Matches\": 3, \"GF\": 2, \"GA\": 5, \"GD\": -3, \"W\": 0, \"L\": 2, \"D\": 1, \"GF_avg\": 0.75, \"GA_avg\": 1.75, \"GD_avg\": -1.0, \"win_perc\": 0.0, \"scoring ratio\": 0.4}, {\"Team\": \"United Arab Emirates\", \"Matches\": 3, \"GF\": 2, \"GA\": 11, \"GD\": -9, \"W\": 0, \"L\": 3, \"D\": 0, \"GF_avg\": 0.5, \"GA_avg\": 3.25, \"GD_avg\": -2.75, \"win_perc\": 0.0, \"scoring ratio\": 0.18181818181818182}, {\"Team\": \"Honduras\", \"Matches\": 9, \"GF\": 3, \"GA\": 14, \"GD\": -11, \"W\": 0, \"L\": 6, \"D\": 3, \"GF_avg\": 0.32, \"GA_avg\": 1.55, \"GD_avg\": -1.23, \"win_perc\": 0.0, \"scoring ratio\": 0.21428571428571427}, {\"Team\": \"Iraq\", \"Matches\": 3, \"GF\": 1, \"GA\": 4, \"GD\": -3, \"W\": 0, \"L\": 3, \"D\": 0, \"GF_avg\": 0.5, \"GA_avg\": 1.5, \"GD_avg\": -1.0, \"win_perc\": 0.0, \"scoring ratio\": 0.25}, {\"Team\": \"Togo\", \"Matches\": 3, \"GF\": 1, \"GA\": 6, \"GD\": -5, \"W\": 0, \"L\": 3, \"D\": 0, \"GF_avg\": 0.5, \"GA_avg\": 2.0, \"GD_avg\": -1.5, \"win_perc\": 0.0, \"scoring ratio\": 0.16666666666666666}, {\"Team\": \"Egypt\", \"Matches\": 7, \"GF\": 5, \"GA\": 12, \"GD\": -7, \"W\": 0, \"L\": 5, \"D\": 2, \"GF_avg\": 0.42, \"GA_avg\": 1.42, \"GD_avg\": -1.0, \"win_perc\": 0.0, \"scoring ratio\": 0.4166666666666667}, {\"Team\": \"Canada\", \"Matches\": 3, \"GF\": 0, \"GA\": 5, \"GD\": -5, \"W\": 0, \"L\": 3, \"D\": 0, \"GF_avg\": 0.0, \"GA_avg\": 1.5, \"GD_avg\": -1.5, \"win_perc\": 0.0, \"scoring ratio\": 0.0}, {\"Team\": \"DR Congo\", \"Matches\": 3, \"GF\": 0, \"GA\": 14, \"GD\": -14, \"W\": 0, \"L\": 3, \"D\": 0, \"GF_avg\": 0.0, \"GA_avg\": 5.75, \"GD_avg\": -5.75, \"win_perc\": 0.0, \"scoring ratio\": 0.0}, {\"Team\": \"Kuwait\", \"Matches\": 3, \"GF\": 2, \"GA\": 6, \"GD\": -4, \"W\": 0, \"L\": 2, \"D\": 1, \"GF_avg\": 0.67, \"GA_avg\": 2.0, \"GD_avg\": -1.33, \"win_perc\": 0.0, \"scoring ratio\": 0.3333333333333333}, {\"Team\": \"El Salvador\", \"Matches\": 6, \"GF\": 1, \"GA\": 22, \"GD\": -21, \"W\": 0, \"L\": 6, \"D\": 0, \"GF_avg\": 0.17, \"GA_avg\": 3.67, \"GD_avg\": -3.5, \"win_perc\": 0.0, \"scoring ratio\": 0.045454545454545456}, {\"Team\": \"Israel\", \"Matches\": 3, \"GF\": 1, \"GA\": 3, \"GD\": -2, \"W\": 0, \"L\": 1, \"D\": 2, \"GF_avg\": 0.33, \"GA_avg\": 1.0, \"GD_avg\": -0.67, \"win_perc\": 0.0, \"scoring ratio\": 0.3333333333333333}, {\"Team\": \"Panama\", \"Matches\": 3, \"GF\": 2, \"GA\": 11, \"GD\": -9, \"W\": 0, \"L\": 3, \"D\": 0, \"GF_avg\": 0.75, \"GA_avg\": 3.25, \"GD_avg\": -2.5, \"win_perc\": 0.0, \"scoring ratio\": 0.18181818181818182}, {\"Team\": \"Haiti\", \"Matches\": 3, \"GF\": 2, \"GA\": 14, \"GD\": -12, \"W\": 0, \"L\": 3, \"D\": 0, \"GF_avg\": 0.5, \"GA_avg\": 5.25, \"GD_avg\": -4.75, \"win_perc\": 0.0, \"scoring ratio\": 0.14285714285714285}, {\"Team\": \"Bolivia\", \"Matches\": 6, \"GF\": 1, \"GA\": 20, \"GD\": -19, \"W\": 0, \"L\": 5, \"D\": 1, \"GF_avg\": 0.5, \"GA_avg\": 3.2, \"GD_avg\": -2.7, \"win_perc\": 0.0, \"scoring ratio\": 0.05}, {\"Team\": \"New Zealand\", \"Matches\": 6, \"GF\": 4, \"GA\": 14, \"GD\": -10, \"W\": 0, \"L\": 3, \"D\": 3, \"GF_avg\": 0.8, \"GA_avg\": 1.8, \"GD_avg\": -1.0, \"win_perc\": 0.0, \"scoring ratio\": 0.2857142857142857}, {\"Team\": \"Trinidad and Tobago\", \"Matches\": 3, \"GF\": 0, \"GA\": 4, \"GD\": -4, \"W\": 0, \"L\": 2, \"D\": 1, \"GF_avg\": 0.0, \"GA_avg\": 1.0, \"GD_avg\": -1.0, \"win_perc\": 0.0, \"scoring ratio\": 0.0}]}}, {\"mode\": \"vega-lite\"});\n",
       "</script>"
      ],
      "text/plain": [
       "alt.Chart(...)"
      ]
     },
     "execution_count": 44,
     "metadata": {},
     "output_type": "execute_result"
    }
   ],
   "source": [
    "alt.Chart(lf_team_recs.collect().with_columns(\n",
    "    (pl.col('GF')/pl.col('GA')).alias('scoring ratio')\n",
    ")).mark_point().encode(\n",
    "    x='GF',\n",
    "    y='scoring ratio',\n",
    "    color=alt.Color('W', scale=alt.Scale(scheme=\"dark2\"))\n",
    ")"
   ]
  },
  {
   "cell_type": "markdown",
   "id": "14a32164-47d4-4bff-a772-40a641d5c285",
   "metadata": {},
   "source": [
    "# International Matches\n",
    "This differ distinctly from World cup games since the teams do not always bring their best players nor are they always available for international duty.  This is also a much larger dataset to review because it includes friendly matches between teams.  The dominance of World cup winners should be present since they have to qualify via these matches, but the overarching theme would be one of general information. \n",
    "\n",
    "The same algorithm can be used which was leveraged for the World Cup data records. Modifications to the data structure should be minimal, although the devil is always in teh details."
   ]
  },
  {
   "cell_type": "code",
   "execution_count": 46,
   "id": "70b69da1-a9b2-4917-a574-dce5297be020",
   "metadata": {},
   "outputs": [
    {
     "data": {
      "text/html": [
       "<div><style>\n",
       ".dataframe > thead > tr,\n",
       ".dataframe > tbody > tr {\n",
       "  text-align: right;\n",
       "  white-space: pre-wrap;\n",
       "}\n",
       "</style>\n",
       "<small>shape: (5, 9)</small><table border=\"1\" class=\"dataframe\"><thead><tr><th>ID</th><th>Tournament</th><th>Date</th><th>Home Team</th><th>Home Goals</th><th>Away Goals</th><th>Away Team</th><th>Win Conditions</th><th>Home Stadium</th></tr><tr><td>i64</td><td>str</td><td>str</td><td>str</td><td>i64</td><td>i64</td><td>str</td><td>str</td><td>bool</td></tr></thead><tbody><tr><td>1</td><td>&quot;Friendly&quot;</td><td>&quot;1872-11-30&quot;</td><td>&quot;Scotland&quot;</td><td>0</td><td>0</td><td>&quot;England&quot;</td><td>null</td><td>true</td></tr><tr><td>2</td><td>&quot;Friendly&quot;</td><td>&quot;1873-03-08&quot;</td><td>&quot;England&quot;</td><td>4</td><td>2</td><td>&quot;Scotland&quot;</td><td>null</td><td>true</td></tr><tr><td>3</td><td>&quot;Friendly&quot;</td><td>&quot;1874-03-07&quot;</td><td>&quot;Scotland&quot;</td><td>2</td><td>1</td><td>&quot;England&quot;</td><td>null</td><td>true</td></tr><tr><td>4</td><td>&quot;Friendly&quot;</td><td>&quot;1875-03-06&quot;</td><td>&quot;England&quot;</td><td>2</td><td>2</td><td>&quot;Scotland&quot;</td><td>null</td><td>true</td></tr><tr><td>5</td><td>&quot;Friendly&quot;</td><td>&quot;1876-03-04&quot;</td><td>&quot;Scotland&quot;</td><td>3</td><td>0</td><td>&quot;England&quot;</td><td>null</td><td>true</td></tr></tbody></table></div>"
      ],
      "text/plain": [
       "shape: (5, 9)\n",
       "┌─────┬────────────┬────────────┬───────────┬───┬────────────┬───────────┬────────────┬─────────┐\n",
       "│ ID  ┆ Tournament ┆ Date       ┆ Home Team ┆ … ┆ Away Goals ┆ Away Team ┆ Win        ┆ Home    │\n",
       "│ --- ┆ ---        ┆ ---        ┆ ---       ┆   ┆ ---        ┆ ---       ┆ Conditions ┆ Stadium │\n",
       "│ i64 ┆ str        ┆ str        ┆ str       ┆   ┆ i64        ┆ str       ┆ ---        ┆ ---     │\n",
       "│     ┆            ┆            ┆           ┆   ┆            ┆           ┆ str        ┆ bool    │\n",
       "╞═════╪════════════╪════════════╪═══════════╪═══╪════════════╪═══════════╪════════════╪═════════╡\n",
       "│ 1   ┆ Friendly   ┆ 1872-11-30 ┆ Scotland  ┆ … ┆ 0          ┆ England   ┆ null       ┆ true    │\n",
       "│ 2   ┆ Friendly   ┆ 1873-03-08 ┆ England   ┆ … ┆ 2          ┆ Scotland  ┆ null       ┆ true    │\n",
       "│ 3   ┆ Friendly   ┆ 1874-03-07 ┆ Scotland  ┆ … ┆ 1          ┆ England   ┆ null       ┆ true    │\n",
       "│ 4   ┆ Friendly   ┆ 1875-03-06 ┆ England   ┆ … ┆ 2          ┆ Scotland  ┆ null       ┆ true    │\n",
       "│ 5   ┆ Friendly   ┆ 1876-03-04 ┆ Scotland  ┆ … ┆ 0          ┆ England   ┆ null       ┆ true    │\n",
       "└─────┴────────────┴────────────┴───────────┴───┴────────────┴───────────┴────────────┴─────────┘"
      ]
     },
     "execution_count": 46,
     "metadata": {},
     "output_type": "execute_result"
    }
   ],
   "source": [
    "pl.read_csv('./World+Cup/international_matches.csv').head(5)"
   ]
  },
  {
   "cell_type": "code",
   "execution_count": 83,
   "id": "9b957e34-b60f-4265-9d1b-a7420a7f66aa",
   "metadata": {},
   "outputs": [],
   "source": [
    "lf_int_results = pl.LazyFrame(\n",
    "    pl.read_csv('./World+Cup/international_matches.csv').with_columns(\n",
    "        pl.col('Date').str.to_datetime('%Y-%m-%d', time_unit=None),\n",
    "        pl.col('Date').str.to_datetime('%Y-%m-%d', time_unit=None).dt.year().cast(pl.Int16).alias('Year'),\n",
    "        pl.col('Tournament').cast(pl.Categorical),\n",
    "        pl.col('Home Goals').cast(pl.Int8).alias('HGF'),\n",
    "        pl.col('Away Goals').cast(pl.Int8).alias('AGF'),\n",
    "        pl.col('Home Goals').cast(pl.Int8).alias('AGA'),\n",
    "        pl.col('Away Goals').cast(pl.Int8).alias('HGA'),\n",
    "        (pl.col('Home Goals') - pl.col('Away Goals')).cast(pl.Int8).alias('HGD'),\n",
    "        (pl.col('Away Goals') - pl.col('Home Goals')).cast(pl.Int8).alias('AGD'),\n",
    "        (pl.col('Away Goals') + pl.col('Home Goals')).cast(pl.Int8).alias('Match_goals'),\n",
    "        pl.when(pl.col('Home Goals') > pl.col('Away Goals'))\n",
    "            .then(pl.col('Home Team'))\n",
    "            .when(pl.col('Away Goals') > pl.col('Home Goals'))\n",
    "            .then(pl.col('Away Team'))\n",
    "            .when(pl.col('Home Goals') == pl.col('Away Goals'))\n",
    "            .then(pl.lit('Draw'))\n",
    "            .alias('Winner'),\n",
    "    )\n",
    ")"
   ]
  },
  {
   "cell_type": "code",
   "execution_count": 84,
   "id": "8a4feded-3c78-44cc-b442-6105d1882332",
   "metadata": {},
   "outputs": [
    {
     "data": {
      "text/html": [
       "<div><style>\n",
       ".dataframe > thead > tr,\n",
       ".dataframe > tbody > tr {\n",
       "  text-align: right;\n",
       "  white-space: pre-wrap;\n",
       "}\n",
       "</style>\n",
       "<small>shape: (5, 18)</small><table border=\"1\" class=\"dataframe\"><thead><tr><th>ID</th><th>Tournament</th><th>Date</th><th>Home Team</th><th>Home Goals</th><th>Away Goals</th><th>Away Team</th><th>Win Conditions</th><th>Home Stadium</th><th>Year</th><th>HGF</th><th>AGF</th><th>AGA</th><th>HGA</th><th>HGD</th><th>AGD</th><th>Match_goals</th><th>Winner</th></tr><tr><td>i64</td><td>cat</td><td>datetime[μs]</td><td>str</td><td>i64</td><td>i64</td><td>str</td><td>str</td><td>bool</td><td>i16</td><td>i8</td><td>i8</td><td>i8</td><td>i8</td><td>i8</td><td>i8</td><td>i8</td><td>str</td></tr></thead><tbody><tr><td>1</td><td>&quot;Friendly&quot;</td><td>1872-11-30 00:00:00</td><td>&quot;Scotland&quot;</td><td>0</td><td>0</td><td>&quot;England&quot;</td><td>null</td><td>true</td><td>1872</td><td>0</td><td>0</td><td>0</td><td>0</td><td>0</td><td>0</td><td>0</td><td>&quot;Draw&quot;</td></tr><tr><td>2</td><td>&quot;Friendly&quot;</td><td>1873-03-08 00:00:00</td><td>&quot;England&quot;</td><td>4</td><td>2</td><td>&quot;Scotland&quot;</td><td>null</td><td>true</td><td>1873</td><td>4</td><td>2</td><td>4</td><td>2</td><td>2</td><td>-2</td><td>6</td><td>&quot;England&quot;</td></tr><tr><td>3</td><td>&quot;Friendly&quot;</td><td>1874-03-07 00:00:00</td><td>&quot;Scotland&quot;</td><td>2</td><td>1</td><td>&quot;England&quot;</td><td>null</td><td>true</td><td>1874</td><td>2</td><td>1</td><td>2</td><td>1</td><td>1</td><td>-1</td><td>3</td><td>&quot;Scotland&quot;</td></tr><tr><td>4</td><td>&quot;Friendly&quot;</td><td>1875-03-06 00:00:00</td><td>&quot;England&quot;</td><td>2</td><td>2</td><td>&quot;Scotland&quot;</td><td>null</td><td>true</td><td>1875</td><td>2</td><td>2</td><td>2</td><td>2</td><td>0</td><td>0</td><td>4</td><td>&quot;Draw&quot;</td></tr><tr><td>5</td><td>&quot;Friendly&quot;</td><td>1876-03-04 00:00:00</td><td>&quot;Scotland&quot;</td><td>3</td><td>0</td><td>&quot;England&quot;</td><td>null</td><td>true</td><td>1876</td><td>3</td><td>0</td><td>3</td><td>0</td><td>3</td><td>-3</td><td>3</td><td>&quot;Scotland&quot;</td></tr></tbody></table></div>"
      ],
      "text/plain": [
       "shape: (5, 18)\n",
       "┌─────┬────────────┬─────────────────────┬───────────┬───┬─────┬─────┬─────────────┬──────────┐\n",
       "│ ID  ┆ Tournament ┆ Date                ┆ Home Team ┆ … ┆ HGD ┆ AGD ┆ Match_goals ┆ Winner   │\n",
       "│ --- ┆ ---        ┆ ---                 ┆ ---       ┆   ┆ --- ┆ --- ┆ ---         ┆ ---      │\n",
       "│ i64 ┆ cat        ┆ datetime[μs]        ┆ str       ┆   ┆ i8  ┆ i8  ┆ i8          ┆ str      │\n",
       "╞═════╪════════════╪═════════════════════╪═══════════╪═══╪═════╪═════╪═════════════╪══════════╡\n",
       "│ 1   ┆ Friendly   ┆ 1872-11-30 00:00:00 ┆ Scotland  ┆ … ┆ 0   ┆ 0   ┆ 0           ┆ Draw     │\n",
       "│ 2   ┆ Friendly   ┆ 1873-03-08 00:00:00 ┆ England   ┆ … ┆ 2   ┆ -2  ┆ 6           ┆ England  │\n",
       "│ 3   ┆ Friendly   ┆ 1874-03-07 00:00:00 ┆ Scotland  ┆ … ┆ 1   ┆ -1  ┆ 3           ┆ Scotland │\n",
       "│ 4   ┆ Friendly   ┆ 1875-03-06 00:00:00 ┆ England   ┆ … ┆ 0   ┆ 0   ┆ 4           ┆ Draw     │\n",
       "│ 5   ┆ Friendly   ┆ 1876-03-04 00:00:00 ┆ Scotland  ┆ … ┆ 3   ┆ -3  ┆ 3           ┆ Scotland │\n",
       "└─────┴────────────┴─────────────────────┴───────────┴───┴─────┴─────┴─────────────┴──────────┘"
      ]
     },
     "execution_count": 84,
     "metadata": {},
     "output_type": "execute_result"
    }
   ],
   "source": [
    "lf_int_results.collect().head(5)"
   ]
  },
  {
   "cell_type": "code",
   "execution_count": 86,
   "id": "d7dc3cae-0416-4ff0-8393-a55beeea9290",
   "metadata": {},
   "outputs": [],
   "source": [
    "home = lf_int_results.select(\n",
    "    [\"Home Team\",'HGF','HGA','HGD','Winner', 'Match_goals']\n",
    ").rename(\n",
    "    {\"Home Team\":'Team','HGF':'GF','HGA':'GA','HGD':'GD', 'Match_goals':'TMG'}\n",
    ").with_columns(\n",
    "    pl.when(pl.col('Team') == pl.col('Winner')).then(1).otherwise(0).alias('W'),\n",
    "    pl.when((pl.col('Team') != pl.col('Winner'))&(pl.col('Winner') != pl.lit('Draw'))).then(1).otherwise(0).alias('L'),\n",
    "    pl.when(pl.col('Winner') == pl.lit('Draw')).then(1).otherwise(0).alias('D'),\n",
    ").group_by(\n",
    "    'Team'\n",
    ").agg(\n",
    "    pl.len().alias('Matches'),\n",
    "    pl.col(['GF','GA','GD','TMG']).sum(),\n",
    "    pl.col(['GF','GA','GD','TMG']).mean().round(2).name.suffix('_avg'),\n",
    "    pl.col(['W','L','D']).sum(),\n",
    ").sort(\n",
    "    by='Matches',descending=True\n",
    ").collect()"
   ]
  },
  {
   "cell_type": "code",
   "execution_count": 87,
   "id": "04ade56f-02fd-4435-a85e-03111cee2b5d",
   "metadata": {},
   "outputs": [],
   "source": [
    "away = lf_int_results.select(\n",
    "    [\"Home Team\",'HGF','HGA','HGD','Winner', 'Match_goals']\n",
    ").rename(\n",
    "    {\"Home Team\":'Team','HGF':'GF','HGA':'GA','HGD':'GD', 'Match_goals':'TMG'}\n",
    ").with_columns(\n",
    "    pl.when(pl.col('Team') == pl.col('Winner')).then(1).otherwise(0).alias('W'),\n",
    "    pl.when((pl.col('Team') != pl.col('Winner'))&(pl.col('Winner') != pl.lit('Draw'))).then(1).otherwise(0).alias('L'),\n",
    "    pl.when(pl.col('Winner') == pl.lit('Draw')).then(1).otherwise(0).alias('D'),\n",
    ").group_by(\n",
    "    'Team'\n",
    ").agg(\n",
    "    pl.len().alias('Matches'),\n",
    "    pl.col(['GF','GA','GD','TMG']).sum(),\n",
    "    pl.col(['GF','GA','GD','TMG']).mean().round(2).name.suffix('_avg'),\n",
    "    pl.col(['W','L','D']).sum(),\n",
    ").sort(\n",
    "    by='Matches',descending=True\n",
    ").collect()"
   ]
  },
  {
   "cell_type": "code",
   "execution_count": 90,
   "id": "14e335e4-bd02-442b-8913-4be239c80e6a",
   "metadata": {},
   "outputs": [],
   "source": [
    "lf_internation_records_all = pl.LazyFrame(\n",
    "    pl.concat([home, away])\n",
    "        .group_by(\n",
    "        'Team'\n",
    "        ).agg(\n",
    "        pl.col(['Matches','GF','GA','GD','TMG','W','L','D']).sum(),\n",
    "        pl.col(['GF_avg', 'GA_avg', 'GD_avg','TMG_avg']).mean().round(2),\n",
    "        )\n",
    ").with_columns(\n",
    "    ((pl.col('W')/pl.col('Matches'))*100).alias('win_perc'),\n",
    ").sort(\n",
    "    by=pl.col('W'), descending=True\n",
    ")"
   ]
  },
  {
   "cell_type": "code",
   "execution_count": 93,
   "id": "13ad19bd-f805-4b06-a51f-e76cf1b2a2b1",
   "metadata": {},
   "outputs": [
    {
     "data": {
      "text/html": [
       "<div><style>\n",
       ".dataframe > thead > tr,\n",
       ".dataframe > tbody > tr {\n",
       "  text-align: right;\n",
       "  white-space: pre-wrap;\n",
       "}\n",
       "</style>\n",
       "<small>shape: (6, 14)</small><table border=\"1\" class=\"dataframe\"><thead><tr><th>Team</th><th>Matches</th><th>GF</th><th>GA</th><th>GD</th><th>TMG</th><th>W</th><th>L</th><th>D</th><th>GF_avg</th><th>GA_avg</th><th>GD_avg</th><th>TMG_avg</th><th>win_perc</th></tr><tr><td>str</td><td>u32</td><td>i64</td><td>i64</td><td>i64</td><td>i64</td><td>i32</td><td>i32</td><td>i32</td><td>f64</td><td>f64</td><td>f64</td><td>f64</td><td>f64</td></tr></thead><tbody><tr><td>&quot;France&quot;</td><td>922</td><td>1854</td><td>990</td><td>864</td><td>2844</td><td>532</td><td>200</td><td>190</td><td>2.01</td><td>1.07</td><td>0.94</td><td>3.08</td><td>57.700651</td></tr><tr><td>&quot;Denmark&quot;</td><td>826</td><td>1782</td><td>988</td><td>794</td><td>2770</td><td>454</td><td>208</td><td>164</td><td>2.16</td><td>1.2</td><td>0.96</td><td>3.35</td><td>54.96368</td></tr><tr><td>&quot;Belgium&quot;</td><td>806</td><td>1668</td><td>1066</td><td>602</td><td>2734</td><td>430</td><td>220</td><td>156</td><td>2.07</td><td>1.32</td><td>0.75</td><td>3.39</td><td>53.349876</td></tr><tr><td>&quot;Japan&quot;</td><td>782</td><td>1498</td><td>852</td><td>646</td><td>2350</td><td>416</td><td>186</td><td>180</td><td>1.92</td><td>1.09</td><td>0.83</td><td>3.01</td><td>53.196931</td></tr><tr><td>&quot;Poland&quot;</td><td>772</td><td>1518</td><td>846</td><td>672</td><td>2364</td><td>394</td><td>182</td><td>196</td><td>1.97</td><td>1.1</td><td>0.87</td><td>3.06</td><td>51.036269</td></tr><tr><td>&quot;Switzerland&quot;</td><td>820</td><td>1408</td><td>1128</td><td>280</td><td>2536</td><td>366</td><td>270</td><td>184</td><td>1.72</td><td>1.38</td><td>0.34</td><td>3.09</td><td>44.634146</td></tr></tbody></table></div>"
      ],
      "text/plain": [
       "shape: (6, 14)\n",
       "┌─────────────┬─────────┬──────┬──────┬───┬────────┬────────┬─────────┬───────────┐\n",
       "│ Team        ┆ Matches ┆ GF   ┆ GA   ┆ … ┆ GA_avg ┆ GD_avg ┆ TMG_avg ┆ win_perc  │\n",
       "│ ---         ┆ ---     ┆ ---  ┆ ---  ┆   ┆ ---    ┆ ---    ┆ ---     ┆ ---       │\n",
       "│ str         ┆ u32     ┆ i64  ┆ i64  ┆   ┆ f64    ┆ f64    ┆ f64     ┆ f64       │\n",
       "╞═════════════╪═════════╪══════╪══════╪═══╪════════╪════════╪═════════╪═══════════╡\n",
       "│ France      ┆ 922     ┆ 1854 ┆ 990  ┆ … ┆ 1.07   ┆ 0.94   ┆ 3.08    ┆ 57.700651 │\n",
       "│ Denmark     ┆ 826     ┆ 1782 ┆ 988  ┆ … ┆ 1.2    ┆ 0.96   ┆ 3.35    ┆ 54.96368  │\n",
       "│ Belgium     ┆ 806     ┆ 1668 ┆ 1066 ┆ … ┆ 1.32   ┆ 0.75   ┆ 3.39    ┆ 53.349876 │\n",
       "│ Japan       ┆ 782     ┆ 1498 ┆ 852  ┆ … ┆ 1.09   ┆ 0.83   ┆ 3.01    ┆ 53.196931 │\n",
       "│ Poland      ┆ 772     ┆ 1518 ┆ 846  ┆ … ┆ 1.1    ┆ 0.87   ┆ 3.06    ┆ 51.036269 │\n",
       "│ Switzerland ┆ 820     ┆ 1408 ┆ 1128 ┆ … ┆ 1.38   ┆ 0.34   ┆ 3.09    ┆ 44.634146 │\n",
       "└─────────────┴─────────┴──────┴──────┴───┴────────┴────────┴─────────┴───────────┘"
      ]
     },
     "execution_count": 93,
     "metadata": {},
     "output_type": "execute_result"
    }
   ],
   "source": [
    "lf_internation_records_all.collect().filter(\n",
    "    (pl.col('Matches') > 500) &\n",
    "    (pl.col('TMG_avg')>3) & (pl.col('GD_avg').is_between(0, 1))\n",
    ")"
   ]
  },
  {
   "cell_type": "code",
   "execution_count": 94,
   "id": "95f88897-e2c8-4273-b4cc-8f1e381d71cf",
   "metadata": {},
   "outputs": [
    {
     "data": {
      "text/html": [
       "<div><style>\n",
       ".dataframe > thead > tr,\n",
       ".dataframe > tbody > tr {\n",
       "  text-align: right;\n",
       "  white-space: pre-wrap;\n",
       "}\n",
       "</style>\n",
       "<small>shape: (1, 14)</small><table border=\"1\" class=\"dataframe\"><thead><tr><th>Team</th><th>Matches</th><th>GF</th><th>GA</th><th>GD</th><th>TMG</th><th>W</th><th>L</th><th>D</th><th>GF_avg</th><th>GA_avg</th><th>GD_avg</th><th>TMG_avg</th><th>win_perc</th></tr><tr><td>str</td><td>u32</td><td>i64</td><td>i64</td><td>i64</td><td>i64</td><td>i32</td><td>i32</td><td>i32</td><td>f64</td><td>f64</td><td>f64</td><td>f64</td><td>f64</td></tr></thead><tbody><tr><td>&quot;England&quot;</td><td>970</td><td>2290</td><td>868</td><td>1422</td><td>3158</td><td>612</td><td>148</td><td>210</td><td>2.36</td><td>0.89</td><td>1.47</td><td>3.26</td><td>63.092784</td></tr></tbody></table></div>"
      ],
      "text/plain": [
       "shape: (1, 14)\n",
       "┌─────────┬─────────┬──────┬─────┬───┬────────┬────────┬─────────┬───────────┐\n",
       "│ Team    ┆ Matches ┆ GF   ┆ GA  ┆ … ┆ GA_avg ┆ GD_avg ┆ TMG_avg ┆ win_perc  │\n",
       "│ ---     ┆ ---     ┆ ---  ┆ --- ┆   ┆ ---    ┆ ---    ┆ ---     ┆ ---       │\n",
       "│ str     ┆ u32     ┆ i64  ┆ i64 ┆   ┆ f64    ┆ f64    ┆ f64     ┆ f64       │\n",
       "╞═════════╪═════════╪══════╪═════╪═══╪════════╪════════╪═════════╪═══════════╡\n",
       "│ England ┆ 970     ┆ 2290 ┆ 868 ┆ … ┆ 0.89   ┆ 1.47   ┆ 3.26    ┆ 63.092784 │\n",
       "└─────────┴─────────┴──────┴─────┴───┴────────┴────────┴─────────┴───────────┘"
      ]
     },
     "execution_count": 94,
     "metadata": {},
     "output_type": "execute_result"
    }
   ],
   "source": [
    "lf_internation_records_all.collect().filter(\n",
    "    pl.col('Team')=='England' \n",
    ")"
   ]
  },
  {
   "cell_type": "code",
   "execution_count": null,
   "id": "10629f09-cd23-445a-8c46-8fdbeaf62663",
   "metadata": {},
   "outputs": [],
   "source": []
  }
 ],
 "metadata": {
  "kernelspec": {
   "display_name": "Python 3 (ipykernel)",
   "language": "python",
   "name": "python3"
  },
  "language_info": {
   "codemirror_mode": {
    "name": "ipython",
    "version": 3
   },
   "file_extension": ".py",
   "mimetype": "text/x-python",
   "name": "python",
   "nbconvert_exporter": "python",
   "pygments_lexer": "ipython3",
   "version": "3.11.0"
  }
 },
 "nbformat": 4,
 "nbformat_minor": 5
}
