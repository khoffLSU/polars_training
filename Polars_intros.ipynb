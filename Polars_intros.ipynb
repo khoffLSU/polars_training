{
 "cells": [
  {
   "cell_type": "markdown",
   "id": "c562e6cf-fca7-4673-81ee-9e3334ec84f0",
   "metadata": {},
   "source": [
    "# Polars Introductions\n",
    "This will be an attempt to learn the basic concepts and structures of the Polars library.  It has been heralded as a way to accelerate dataframe work.  The Documentation is quite detailed, so this is the starting point without reloading the entire documentation website. \n",
    "\n",
    "[Polars Documentation - Getting Started](https://docs.pola.rs/user-guide/getting-started/)"
   ]
  },
  {
   "cell_type": "code",
   "execution_count": 1,
   "id": "159f84c6-3ad2-4ae4-85d7-eeeb590a23ee",
   "metadata": {},
   "outputs": [],
   "source": [
    "import polars as pl\n",
    "import datetime as dt"
   ]
  },
  {
   "cell_type": "code",
   "execution_count": 2,
   "id": "3cce0ba5-b327-45a5-8071-5c575cd88803",
   "metadata": {},
   "outputs": [
    {
     "data": {
      "text/html": [
       "<i>naive plan: (run <b>LazyFrame.explain(optimized=True)</b> to see the optimized plan)</i>\n",
       "    <p></p>\n",
       "    <div>DF [\"name\", \"birthdate\", \"weight\", \"height\"]; PROJECT */4 COLUMNS</div>"
      ],
      "text/plain": [
       "<LazyFrame at 0x106063E10>"
      ]
     },
     "execution_count": 2,
     "metadata": {},
     "output_type": "execute_result"
    }
   ],
   "source": [
    "lf = pl.LazyFrame(\n",
    "    {\n",
    "        \"name\": [\"Alice Archer\", \"Ben Brown\", \"Chloe Cooper\", \"Daniel Donovan\"],\n",
    "        \"birthdate\": [\n",
    "            dt.date(1997, 1, 10),\n",
    "            dt.date(1985, 2, 15),\n",
    "            dt.date(1983, 3, 22),\n",
    "            dt.date(1981, 4, 30),\n",
    "        ],\n",
    "        \"weight\": [57.9, 72.5, 53.6, 83.1],  # (kg)\n",
    "        \"height\": [1.56, 1.77, 1.65, 1.75],  # (m)\n",
    "    }\n",
    ") # nothing is returned in a Lazy frame without .collect() placed on the end\n",
    "\n",
    "lf"
   ]
  },
  {
   "cell_type": "code",
   "execution_count": 3,
   "id": "7ba2970d-47a4-4dfa-a0f3-5ff177ef81f5",
   "metadata": {},
   "outputs": [
    {
     "data": {
      "text/html": [
       "<div><style>\n",
       ".dataframe > thead > tr,\n",
       ".dataframe > tbody > tr {\n",
       "  text-align: right;\n",
       "  white-space: pre-wrap;\n",
       "}\n",
       "</style>\n",
       "<small>shape: (4, 4)</small><table border=\"1\" class=\"dataframe\"><thead><tr><th>name</th><th>birthdate</th><th>weight</th><th>height</th></tr><tr><td>str</td><td>date</td><td>f64</td><td>f64</td></tr></thead><tbody><tr><td>&quot;Alice Archer&quot;</td><td>1997-01-10</td><td>57.9</td><td>1.56</td></tr><tr><td>&quot;Ben Brown&quot;</td><td>1985-02-15</td><td>72.5</td><td>1.77</td></tr><tr><td>&quot;Chloe Cooper&quot;</td><td>1983-03-22</td><td>53.6</td><td>1.65</td></tr><tr><td>&quot;Daniel Donovan&quot;</td><td>1981-04-30</td><td>83.1</td><td>1.75</td></tr></tbody></table></div>"
      ],
      "text/plain": [
       "shape: (4, 4)\n",
       "┌────────────────┬────────────┬────────┬────────┐\n",
       "│ name           ┆ birthdate  ┆ weight ┆ height │\n",
       "│ ---            ┆ ---        ┆ ---    ┆ ---    │\n",
       "│ str            ┆ date       ┆ f64    ┆ f64    │\n",
       "╞════════════════╪════════════╪════════╪════════╡\n",
       "│ Alice Archer   ┆ 1997-01-10 ┆ 57.9   ┆ 1.56   │\n",
       "│ Ben Brown      ┆ 1985-02-15 ┆ 72.5   ┆ 1.77   │\n",
       "│ Chloe Cooper   ┆ 1983-03-22 ┆ 53.6   ┆ 1.65   │\n",
       "│ Daniel Donovan ┆ 1981-04-30 ┆ 83.1   ┆ 1.75   │\n",
       "└────────────────┴────────────┴────────┴────────┘"
      ]
     },
     "execution_count": 3,
     "metadata": {},
     "output_type": "execute_result"
    }
   ],
   "source": [
    "lf.collect() # this returns a Polars dataframe"
   ]
  },
  {
   "cell_type": "markdown",
   "id": "2d06babc-b9b4-4500-b811-c3da3d8bec29",
   "metadata": {},
   "source": [
    "## Importance of Lazy Frames\n",
    "They allow the entire dataset to be staged without loading it into memory until the collect function is called.  This means you can load the dataset, create all the queries and aggregations needed, and then call collect to only pull down the resultant data into memory.  An example:"
   ]
  },
  {
   "cell_type": "code",
   "execution_count": 4,
   "id": "ee3dd18b-f5b9-473b-a384-3522d08b08ec",
   "metadata": {},
   "outputs": [
    {
     "name": "stdout",
     "output_type": "stream",
     "text": [
      "shape: (2, 4)\n",
      "┌────────────────┬────────────┬────────┬────────┐\n",
      "│ name           ┆ birthdate  ┆ weight ┆ height │\n",
      "│ ---            ┆ ---        ┆ ---    ┆ ---    │\n",
      "│ str            ┆ date       ┆ f64    ┆ f64    │\n",
      "╞════════════════╪════════════╪════════╪════════╡\n",
      "│ Ben Brown      ┆ 1985-02-15 ┆ 72.5   ┆ 1.77   │\n",
      "│ Daniel Donovan ┆ 1981-04-30 ┆ 83.1   ┆ 1.75   │\n",
      "└────────────────┴────────────┴────────┴────────┘\n",
      "shape: (1, 2)\n",
      "┌────────────┬────────────┐\n",
      "│ avg_weight ┆ avg_height │\n",
      "│ ---        ┆ ---        │\n",
      "│ f64        ┆ f64        │\n",
      "╞════════════╪════════════╡\n",
      "│ 66.775     ┆ 1.6825     │\n",
      "└────────────┴────────────┘\n"
     ]
    }
   ],
   "source": [
    "print(lf.filter(pl.col('weight') > 60).collect())\n",
    "print(lf.select(pl.col('weight').mean().name.prefix('avg_'), \n",
    "                pl.col('height').mean().name.prefix('avg_'))\n",
    "    .collect())"
   ]
  },
  {
   "cell_type": "code",
   "execution_count": 5,
   "id": "ab0d5ded-93f9-4579-976c-0a7ad9ab6a7b",
   "metadata": {},
   "outputs": [
    {
     "name": "stdout",
     "output_type": "stream",
     "text": [
      "shape: (4, 4)\n",
      "┌────────────────┬────────────┬────────┬────────┐\n",
      "│ name           ┆ birthdate  ┆ weight ┆ height │\n",
      "│ ---            ┆ ---        ┆ ---    ┆ ---    │\n",
      "│ str            ┆ date       ┆ f64    ┆ f64    │\n",
      "╞════════════════╪════════════╪════════╪════════╡\n",
      "│ Alice Archer   ┆ 1997-01-10 ┆ 57.9   ┆ 1.56   │\n",
      "│ Ben Brown      ┆ 1985-02-15 ┆ 72.5   ┆ 1.77   │\n",
      "│ Chloe Cooper   ┆ 1983-03-22 ┆ 53.6   ┆ 1.65   │\n",
      "│ Daniel Donovan ┆ 1981-04-30 ┆ 83.1   ┆ 1.75   │\n",
      "└────────────────┴────────────┴────────┴────────┘\n"
     ]
    }
   ],
   "source": [
    "df = pl.DataFrame( # Straight to Dataframe\n",
    "    {\n",
    "        \"name\": [\"Alice Archer\", \"Ben Brown\", \"Chloe Cooper\", \"Daniel Donovan\"],\n",
    "        \"birthdate\": [\n",
    "            dt.date(1997, 1, 10),\n",
    "            dt.date(1985, 2, 15),\n",
    "            dt.date(1983, 3, 22),\n",
    "            dt.date(1981, 4, 30),\n",
    "        ],\n",
    "        \"weight\": [57.9, 72.5, 53.6, 83.1],  # (kg)\n",
    "        \"height\": [1.56, 1.77, 1.65, 1.75],  # (m)\n",
    "    }\n",
    ")\n",
    "\n",
    "print(df)"
   ]
  },
  {
   "cell_type": "markdown",
   "id": "ddc0d5e4-14b0-4447-b61a-eed4a520097b",
   "metadata": {},
   "source": [
    "## Standard Read and Write\n",
    "Polars has similar syntax to pandas for the read and write capabilities.\n",
    "\n",
    "- `df.write_csv(\"file_path\")`\n",
    "- `pl.read_scv(\"file_path\")`"
   ]
  },
  {
   "cell_type": "code",
   "execution_count": 6,
   "id": "f46b0b76-9126-4697-b623-037aebc7f25c",
   "metadata": {},
   "outputs": [
    {
     "name": "stdout",
     "output_type": "stream",
     "text": [
      "shape: (4, 4)\n",
      "┌────────────────┬────────────┬────────┬────────┐\n",
      "│ name           ┆ birthdate  ┆ weight ┆ height │\n",
      "│ ---            ┆ ---        ┆ ---    ┆ ---    │\n",
      "│ str            ┆ date       ┆ f64    ┆ f64    │\n",
      "╞════════════════╪════════════╪════════╪════════╡\n",
      "│ Alice Archer   ┆ 1997-01-10 ┆ 57.9   ┆ 1.56   │\n",
      "│ Ben Brown      ┆ 1985-02-15 ┆ 72.5   ┆ 1.77   │\n",
      "│ Chloe Cooper   ┆ 1983-03-22 ┆ 53.6   ┆ 1.65   │\n",
      "│ Daniel Donovan ┆ 1981-04-30 ┆ 83.1   ┆ 1.75   │\n",
      "└────────────────┴────────────┴────────┴────────┘\n"
     ]
    }
   ],
   "source": [
    "df.write_csv(\"output.csv\")\n",
    "df_csv = pl.read_csv(\"output.csv\", try_parse_dates=True,)\n",
    "print(df_csv)"
   ]
  },
  {
   "cell_type": "markdown",
   "id": "e3149281-b872-468d-96e7-a056f9449481",
   "metadata": {},
   "source": [
    "## Expressions and Contexts\n",
    "This is a Polars specific deviation.  Expressions are one of the main strengths of Polars because they provide a modular and flexible way of expressing data transformations.\n",
    "\n",
    "Here is an example of a Polars expression:\n",
    "`pl.col(\"weight\") / (pl.col(\"height\") ** 2)`"
   ]
  },
  {
   "cell_type": "code",
   "execution_count": 7,
   "id": "3e653447-bea4-433d-960f-d72dd5864df8",
   "metadata": {},
   "outputs": [
    {
     "data": {
      "text/html": [
       "[(col(\"weight\")) / (col(\"height\").pow([dyn int: 2]))]"
      ],
      "text/plain": [
       "<Expr ['[(col(\"weight\")) / (col(\"heigh…'] at 0x106080890>"
      ]
     },
     "execution_count": 7,
     "metadata": {},
     "output_type": "execute_result"
    }
   ],
   "source": [
    "pl.col(\"weight\") / (pl.col(\"height\") ** 2) # doesn't work alone, it needs a Polar context then it works"
   ]
  },
  {
   "cell_type": "markdown",
   "id": "af5d1daf-a3a4-4cfb-b6f2-df141628254a",
   "metadata": {},
   "source": [
    "---\n",
    "the four most common contexts that Polars provides1:\n",
    "\n",
    "- select\n",
    "- with_columns\n",
    "- filter\n",
    "- group_by\n",
    "\n",
    "\n",
    "Here is an example of some Polars expressions within a Polars context.  When these are executed they yeild results unlike those above without the context. \n",
    "\n",
    ">**select**: The select expression is essentially focusing the query at the start. The selection context select applies expressions over columns. The context select may produce new columns that are aggregations, combinations of other columns, or literals"
   ]
  },
  {
   "cell_type": "code",
   "execution_count": 8,
   "id": "3d267d3c-8612-4500-99bf-e0039d1b9cb3",
   "metadata": {},
   "outputs": [
    {
     "data": {
      "text/html": [
       "<div><style>\n",
       ".dataframe > thead > tr,\n",
       ".dataframe > tbody > tr {\n",
       "  text-align: right;\n",
       "  white-space: pre-wrap;\n",
       "}\n",
       "</style>\n",
       "<small>shape: (4, 3)</small><table border=\"1\" class=\"dataframe\"><thead><tr><th>name</th><th>birth_year</th><th>bmi</th></tr><tr><td>str</td><td>i32</td><td>f64</td></tr></thead><tbody><tr><td>&quot;Alice Archer&quot;</td><td>1997</td><td>23.791913</td></tr><tr><td>&quot;Ben Brown&quot;</td><td>1985</td><td>23.141498</td></tr><tr><td>&quot;Chloe Cooper&quot;</td><td>1983</td><td>19.687787</td></tr><tr><td>&quot;Daniel Donovan&quot;</td><td>1981</td><td>27.134694</td></tr></tbody></table></div>"
      ],
      "text/plain": [
       "shape: (4, 3)\n",
       "┌────────────────┬────────────┬───────────┐\n",
       "│ name           ┆ birth_year ┆ bmi       │\n",
       "│ ---            ┆ ---        ┆ ---       │\n",
       "│ str            ┆ i32        ┆ f64       │\n",
       "╞════════════════╪════════════╪═══════════╡\n",
       "│ Alice Archer   ┆ 1997       ┆ 23.791913 │\n",
       "│ Ben Brown      ┆ 1985       ┆ 23.141498 │\n",
       "│ Chloe Cooper   ┆ 1983       ┆ 19.687787 │\n",
       "│ Daniel Donovan ┆ 1981       ┆ 27.134694 │\n",
       "└────────────────┴────────────┴───────────┘"
      ]
     },
     "execution_count": 8,
     "metadata": {},
     "output_type": "execute_result"
    }
   ],
   "source": [
    "df.select(\n",
    "    pl.col(\"name\"), \n",
    "    pl.col(\"birthdate\").dt.year().alias(\"birth_year\"),\n",
    "    (pl.col(\"weight\")/(pl.col(\"height\")**2)).alias(\"bmi\"),\n",
    ")"
   ]
  },
  {
   "cell_type": "code",
   "execution_count": 9,
   "id": "1e64d0d5-054a-480d-9060-4230db3aeef2",
   "metadata": {},
   "outputs": [
    {
     "name": "stdout",
     "output_type": "stream",
     "text": [
      "shape: (4, 3)\n",
      "┌────────────────┬───────────┬───────────┐\n",
      "│ name           ┆ weight-5% ┆ height-5% │\n",
      "│ ---            ┆ ---       ┆ ---       │\n",
      "│ str            ┆ f64       ┆ f64       │\n",
      "╞════════════════╪═══════════╪═══════════╡\n",
      "│ Alice Archer   ┆ 55.0      ┆ 1.48      │\n",
      "│ Ben Brown      ┆ 68.88     ┆ 1.68      │\n",
      "│ Chloe Cooper   ┆ 50.92     ┆ 1.57      │\n",
      "│ Daniel Donovan ┆ 78.94     ┆ 1.66      │\n",
      "└────────────────┴───────────┴───────────┘\n"
     ]
    }
   ],
   "source": [
    "print(df.select(\n",
    "    pl.col('name'),\n",
    "    (pl.col('weight','height')*0.95).round(2).name.suffix('-5%'),\n",
    "))"
   ]
  },
  {
   "cell_type": "markdown",
   "id": "3af8a6d1-b5ff-4f81-ab77-fe7550377134",
   "metadata": {},
   "source": [
    ">**with_columns**: This adds columns to the original dataframe rather than filtering as in select.  Sort of like saying add columns versus with_columns, but same difference."
   ]
  },
  {
   "cell_type": "code",
   "execution_count": 10,
   "id": "8d03aa86-95d2-4868-a743-aa61f84dc387",
   "metadata": {},
   "outputs": [
    {
     "name": "stdout",
     "output_type": "stream",
     "text": [
      "shape: (4, 6)\n",
      "┌────────────────┬────────────┬────────┬────────┬────────────┬───────────┐\n",
      "│ name           ┆ birthdate  ┆ weight ┆ height ┆ birth_year ┆ bmi       │\n",
      "│ ---            ┆ ---        ┆ ---    ┆ ---    ┆ ---        ┆ ---       │\n",
      "│ str            ┆ date       ┆ f64    ┆ f64    ┆ i32        ┆ f64       │\n",
      "╞════════════════╪════════════╪════════╪════════╪════════════╪═══════════╡\n",
      "│ Alice Archer   ┆ 1997-01-10 ┆ 57.9   ┆ 1.56   ┆ 1997       ┆ 23.791913 │\n",
      "│ Ben Brown      ┆ 1985-02-15 ┆ 72.5   ┆ 1.77   ┆ 1985       ┆ 23.141498 │\n",
      "│ Chloe Cooper   ┆ 1983-03-22 ┆ 53.6   ┆ 1.65   ┆ 1983       ┆ 19.687787 │\n",
      "│ Daniel Donovan ┆ 1981-04-30 ┆ 83.1   ┆ 1.75   ┆ 1981       ┆ 27.134694 │\n",
      "└────────────────┴────────────┴────────┴────────┴────────────┴───────────┘\n"
     ]
    }
   ],
   "source": [
    "print(\n",
    "    df.with_columns(\n",
    "        birth_year = pl.col(\"birthdate\").dt.year(), # named expressions are an alternate to aliasing\n",
    "        bmi = (pl.col('weight')/pl.col('height')**2),\n",
    "    )\n",
    ")"
   ]
  },
  {
   "cell_type": "markdown",
   "id": "bcc2d3eb-89b2-4b99-a28f-3f79c057023b",
   "metadata": {},
   "source": [
    ">**filter**: Allow expressions to filter the broader frame based on specified criteria"
   ]
  },
  {
   "cell_type": "code",
   "execution_count": 11,
   "id": "d858f62a-06b3-40b3-8b6c-1a046032ee49",
   "metadata": {},
   "outputs": [
    {
     "name": "stdout",
     "output_type": "stream",
     "text": [
      "shape: (3, 4)\n",
      "┌────────────────┬────────────┬────────┬────────┐\n",
      "│ name           ┆ birthdate  ┆ weight ┆ height │\n",
      "│ ---            ┆ ---        ┆ ---    ┆ ---    │\n",
      "│ str            ┆ date       ┆ f64    ┆ f64    │\n",
      "╞════════════════╪════════════╪════════╪════════╡\n",
      "│ Ben Brown      ┆ 1985-02-15 ┆ 72.5   ┆ 1.77   │\n",
      "│ Chloe Cooper   ┆ 1983-03-22 ┆ 53.6   ┆ 1.65   │\n",
      "│ Daniel Donovan ┆ 1981-04-30 ┆ 83.1   ┆ 1.75   │\n",
      "└────────────────┴────────────┴────────┴────────┘\n"
     ]
    }
   ],
   "source": [
    "print(\n",
    "    df.filter(\n",
    "        pl.col('birthdate').dt.year() < 1990\n",
    "    )\n",
    ")"
   ]
  },
  {
   "cell_type": "code",
   "execution_count": 12,
   "id": "7e749576-725d-4901-85cb-9e77ad2a6731",
   "metadata": {},
   "outputs": [
    {
     "name": "stdout",
     "output_type": "stream",
     "text": [
      "shape: (1, 4)\n",
      "┌───────────┬────────────┬────────┬────────┐\n",
      "│ name      ┆ birthdate  ┆ weight ┆ height │\n",
      "│ ---       ┆ ---        ┆ ---    ┆ ---    │\n",
      "│ str       ┆ date       ┆ f64    ┆ f64    │\n",
      "╞═══════════╪════════════╪════════╪════════╡\n",
      "│ Ben Brown ┆ 1985-02-15 ┆ 72.5   ┆ 1.77   │\n",
      "└───────────┴────────────┴────────┴────────┘\n"
     ]
    }
   ],
   "source": [
    "print(\n",
    "    df.filter(\n",
    "        pl.col(\"birthdate\").is_between(dt.date(1982, 12, 31), dt.date(1996, 1, 1)),\n",
    "        pl.col(\"height\") > 1.7,\n",
    "    )\n",
    ")"
   ]
  },
  {
   "cell_type": "markdown",
   "id": "498397ee-99ff-42b3-a9c5-1ebebb54fe7a",
   "metadata": {},
   "source": [
    ">**group_by**: In context the `df.group_by(pl.col('name'))` can aggregate the call dataframe based on the columns specified."
   ]
  },
  {
   "cell_type": "code",
   "execution_count": 13,
   "id": "a201864a-dc4c-48d6-a9bb-2ad14de0b2da",
   "metadata": {},
   "outputs": [
    {
     "name": "stdout",
     "output_type": "stream",
     "text": [
      "shape: (2, 2)\n",
      "┌────────┬─────────────┐\n",
      "│ decade ┆ sample_size │\n",
      "│ ---    ┆ ---         │\n",
      "│ i32    ┆ u32         │\n",
      "╞════════╪═════════════╡\n",
      "│ 1990   ┆ 1           │\n",
      "│ 1980   ┆ 3           │\n",
      "└────────┴─────────────┘\n"
     ]
    }
   ],
   "source": [
    "print(\n",
    "    df.group_by(\n",
    "        decade = (pl.col('birthdate').dt.year()//10*10),\n",
    "        maintain_order=True\n",
    "    ).agg(\n",
    "        pl.len().alias('sample_size')\n",
    "    )\n",
    ")"
   ]
  },
  {
   "cell_type": "code",
   "execution_count": 14,
   "id": "651d7445-4efc-494d-a934-93ba6c5ce7a7",
   "metadata": {},
   "outputs": [
    {
     "name": "stdout",
     "output_type": "stream",
     "text": [
      "shape: (2, 4)\n",
      "┌────────┬─────────────┬────────────┬─────────┐\n",
      "│ decade ┆ sample_size ┆ avg_weight ┆ tallest │\n",
      "│ ---    ┆ ---         ┆ ---        ┆ ---     │\n",
      "│ i32    ┆ u32         ┆ f64        ┆ f64     │\n",
      "╞════════╪═════════════╪════════════╪═════════╡\n",
      "│ 1990   ┆ 1           ┆ 57.9       ┆ 1.56    │\n",
      "│ 1980   ┆ 3           ┆ 69.73      ┆ 1.77    │\n",
      "└────────┴─────────────┴────────────┴─────────┘\n"
     ]
    }
   ],
   "source": [
    "print(\n",
    "    df.group_by(\n",
    "        (pl.col(\"birthdate\").dt.year() // 10 * 10).alias(\"decade\"),\n",
    "        maintain_order=True,\n",
    "    ).agg(\n",
    "        pl.len().alias(\"sample_size\"),\n",
    "        pl.col(\"weight\").mean().round(2).alias(\"avg_weight\"),\n",
    "        pl.col(\"height\").max().alias(\"tallest\"),\n",
    "    )\n",
    "     )"
   ]
  },
  {
   "cell_type": "code",
   "execution_count": 15,
   "id": "810803c4-612a-44e7-8545-d8fedf241a12",
   "metadata": {},
   "outputs": [
    {
     "data": {
      "text/plain": [
       "['name', 'birthdate', 'weight', 'height']"
      ]
     },
     "execution_count": 15,
     "metadata": {},
     "output_type": "execute_result"
    }
   ],
   "source": [
    "df.columns"
   ]
  },
  {
   "cell_type": "markdown",
   "id": "83a452f4-667f-4849-8f7e-fa9f9cdcda8b",
   "metadata": {},
   "source": [
    "# Chaining\n",
    "This is available in pandas as well.  The concept is to pass the output of the last operation to the next step in the pipeline.  Polars is designed to work this way, and has the ability to optimize the processing under the hood to improve performance even if you call for the steps in a less ideal order.  \n",
    "\n",
    ">**NOTE**: You cannot use an assignment in the chain since a positional argument cannot follow a keyword argument."
   ]
  },
  {
   "cell_type": "code",
   "execution_count": 16,
   "id": "747d2097-3748-459c-97c7-50100c8855c7",
   "metadata": {},
   "outputs": [
    {
     "name": "stdout",
     "output_type": "stream",
     "text": [
      "shape: (2, 4)\n",
      "┌────────┬────────────────────────────┬────────────┬────────────┐\n",
      "│ decade ┆ name                       ┆ avg_weight ┆ avg_height │\n",
      "│ ---    ┆ ---                        ┆ ---        ┆ ---        │\n",
      "│ i32    ┆ list[str]                  ┆ f64        ┆ f64        │\n",
      "╞════════╪════════════════════════════╪════════════╪════════════╡\n",
      "│ 1990   ┆ [\"Alice\"]                  ┆ 57.9       ┆ 1.56       │\n",
      "│ 1980   ┆ [\"Ben\", \"Chloe\", \"Daniel\"] ┆ 69.73      ┆ 1.72       │\n",
      "└────────┴────────────────────────────┴────────────┴────────────┘\n"
     ]
    }
   ],
   "source": [
    "print(\n",
    "    df.with_columns(\n",
    "    (pl.col('birthdate').dt.year()//10*10).alias('decade'),\n",
    "    pl.col('name').str.split(\" \").list.first(),\n",
    ").select(\n",
    "    pl.all().exclude('birthdate'),\n",
    ").group_by(\n",
    "    pl.col('decade'),\n",
    "    maintain_order=True,\n",
    ").agg(\n",
    "    pl.col('name'),\n",
    "    pl.col('weight','height').mean().round(2).name.prefix('avg_')\n",
    ")\n",
    ")"
   ]
  },
  {
   "cell_type": "markdown",
   "id": "b2edd07e-3495-4385-8da6-0b985edd1553",
   "metadata": {},
   "source": [
    "## Combining DataFrames\n",
    "Polars has a number of tools to combine two dataframes.  A join and a concatenation call will be shown in this section as an introduction to this topic."
   ]
  },
  {
   "cell_type": "code",
   "execution_count": 17,
   "id": "847fa24b-4c33-4f32-b1e3-1490720f8df7",
   "metadata": {},
   "outputs": [],
   "source": [
    "df2 = pl.DataFrame(\n",
    "    {\n",
    "        \"name\": [\"Ben Brown\", \"Daniel Donovan\", \"Alice Archer\", \"Chloe Cooper\"],\n",
    "        \"parent\": [True, False, False, False],\n",
    "        \"siblings\": [1, 2, 3, 4],\n",
    "    }\n",
    ")"
   ]
  },
  {
   "cell_type": "code",
   "execution_count": 18,
   "id": "f9df1619-bcd2-4bd2-8ad4-df9add50da6d",
   "metadata": {},
   "outputs": [
    {
     "name": "stdout",
     "output_type": "stream",
     "text": [
      "shape: (4, 3)\n",
      "┌────────────────┬────────┬──────────┐\n",
      "│ name           ┆ parent ┆ siblings │\n",
      "│ ---            ┆ ---    ┆ ---      │\n",
      "│ str            ┆ bool   ┆ i64      │\n",
      "╞════════════════╪════════╪══════════╡\n",
      "│ Ben Brown      ┆ true   ┆ 1        │\n",
      "│ Daniel Donovan ┆ false  ┆ 2        │\n",
      "│ Alice Archer   ┆ false  ┆ 3        │\n",
      "│ Chloe Cooper   ┆ false  ┆ 4        │\n",
      "└────────────────┴────────┴──────────┘\n"
     ]
    }
   ],
   "source": [
    "print(df2)"
   ]
  },
  {
   "cell_type": "code",
   "execution_count": 19,
   "id": "46d2576b-20a3-4af9-9ed5-35dd844cce71",
   "metadata": {},
   "outputs": [
    {
     "name": "stdout",
     "output_type": "stream",
     "text": [
      "shape: (4, 6)\n",
      "┌────────────────┬────────────┬────────┬────────┬────────┬──────────┐\n",
      "│ name           ┆ birthdate  ┆ weight ┆ height ┆ parent ┆ siblings │\n",
      "│ ---            ┆ ---        ┆ ---    ┆ ---    ┆ ---    ┆ ---      │\n",
      "│ str            ┆ date       ┆ f64    ┆ f64    ┆ bool   ┆ i64      │\n",
      "╞════════════════╪════════════╪════════╪════════╪════════╪══════════╡\n",
      "│ Alice Archer   ┆ 1997-01-10 ┆ 57.9   ┆ 1.56   ┆ false  ┆ 3        │\n",
      "│ Ben Brown      ┆ 1985-02-15 ┆ 72.5   ┆ 1.77   ┆ true   ┆ 1        │\n",
      "│ Chloe Cooper   ┆ 1983-03-22 ┆ 53.6   ┆ 1.65   ┆ false  ┆ 4        │\n",
      "│ Daniel Donovan ┆ 1981-04-30 ┆ 83.1   ┆ 1.75   ┆ false  ┆ 2        │\n",
      "└────────────────┴────────────┴────────┴────────┴────────┴──────────┘\n"
     ]
    }
   ],
   "source": [
    "print(df.join(df2, on=\"name\", how=\"left\"))"
   ]
  },
  {
   "cell_type": "code",
   "execution_count": 20,
   "id": "06bb9c44-df8f-4f21-939f-9fb3bca58063",
   "metadata": {},
   "outputs": [
    {
     "name": "stdout",
     "output_type": "stream",
     "text": [
      "shape: (4, 4)\n",
      "┌───────────────┬────────────┬────────┬────────┐\n",
      "│ name          ┆ birthdate  ┆ weight ┆ height │\n",
      "│ ---           ┆ ---        ┆ ---    ┆ ---    │\n",
      "│ str           ┆ date       ┆ f64    ┆ f64    │\n",
      "╞═══════════════╪════════════╪════════╪════════╡\n",
      "│ Ethan Edwards ┆ 1977-05-10 ┆ 67.9   ┆ 1.76   │\n",
      "│ Fiona Foster  ┆ 1975-06-23 ┆ 72.5   ┆ 1.6    │\n",
      "│ Grace Gibson  ┆ 1973-07-22 ┆ 57.6   ┆ 1.66   │\n",
      "│ Henry Harris  ┆ 1971-08-03 ┆ 93.1   ┆ 1.8    │\n",
      "└───────────────┴────────────┴────────┴────────┘\n"
     ]
    }
   ],
   "source": [
    "df3 = pl.DataFrame(\n",
    "    {\n",
    "        \"name\": [\"Ethan Edwards\", \"Fiona Foster\", \"Grace Gibson\", \"Henry Harris\"],\n",
    "        \"birthdate\": [\n",
    "            dt.date(1977, 5, 10),\n",
    "            dt.date(1975, 6, 23),\n",
    "            dt.date(1973, 7, 22),\n",
    "            dt.date(1971, 8, 3),\n",
    "        ],\n",
    "        \"weight\": [67.9, 72.5, 57.6, 93.1],  # (kg)\n",
    "        \"height\": [1.76, 1.6, 1.66, 1.8],  # (m)\n",
    "    }\n",
    ")\n",
    "\n",
    "print(df3)"
   ]
  },
  {
   "cell_type": "code",
   "execution_count": 21,
   "id": "7a7b024f-37d0-453e-a888-78dae22fdf97",
   "metadata": {},
   "outputs": [
    {
     "name": "stdout",
     "output_type": "stream",
     "text": [
      "shape: (8, 4)\n",
      "┌────────────────┬────────────┬────────┬────────┐\n",
      "│ name           ┆ birthdate  ┆ weight ┆ height │\n",
      "│ ---            ┆ ---        ┆ ---    ┆ ---    │\n",
      "│ str            ┆ date       ┆ f64    ┆ f64    │\n",
      "╞════════════════╪════════════╪════════╪════════╡\n",
      "│ Alice Archer   ┆ 1997-01-10 ┆ 57.9   ┆ 1.56   │\n",
      "│ Ben Brown      ┆ 1985-02-15 ┆ 72.5   ┆ 1.77   │\n",
      "│ Chloe Cooper   ┆ 1983-03-22 ┆ 53.6   ┆ 1.65   │\n",
      "│ Daniel Donovan ┆ 1981-04-30 ┆ 83.1   ┆ 1.75   │\n",
      "│ Ethan Edwards  ┆ 1977-05-10 ┆ 67.9   ┆ 1.76   │\n",
      "│ Fiona Foster   ┆ 1975-06-23 ┆ 72.5   ┆ 1.6    │\n",
      "│ Grace Gibson   ┆ 1973-07-22 ┆ 57.6   ┆ 1.66   │\n",
      "│ Henry Harris   ┆ 1971-08-03 ┆ 93.1   ┆ 1.8    │\n",
      "└────────────────┴────────────┴────────┴────────┘\n"
     ]
    }
   ],
   "source": [
    "print(pl.concat([df, df3], how=\"vertical\"))"
   ]
  },
  {
   "cell_type": "code",
   "execution_count": 22,
   "id": "b62ca096-7a93-4cad-a17c-ebdd11d848d1",
   "metadata": {},
   "outputs": [],
   "source": [
    "df4 = pl.concat([df, df3], how=\"vertical\")"
   ]
  },
  {
   "cell_type": "code",
   "execution_count": 23,
   "id": "df1acd38-09be-4b20-bbf4-40473cb982aa",
   "metadata": {},
   "outputs": [
    {
     "name": "stdout",
     "output_type": "stream",
     "text": [
      "shape: (5, 4)\n",
      "┌────────────────┬────────────┬────────┬────────┐\n",
      "│ name           ┆ birthdate  ┆ weight ┆ height │\n",
      "│ ---            ┆ ---        ┆ ---    ┆ ---    │\n",
      "│ str            ┆ date       ┆ f64    ┆ f64    │\n",
      "╞════════════════╪════════════╪════════╪════════╡\n",
      "│ Alice Archer   ┆ 1997-01-10 ┆ 57.9   ┆ 1.56   │\n",
      "│ Ben Brown      ┆ 1985-02-15 ┆ 72.5   ┆ 1.77   │\n",
      "│ Chloe Cooper   ┆ 1983-03-22 ┆ 53.6   ┆ 1.65   │\n",
      "│ Daniel Donovan ┆ 1981-04-30 ┆ 83.1   ┆ 1.75   │\n",
      "│ Ethan Edwards  ┆ 1977-05-10 ┆ 67.9   ┆ 1.76   │\n",
      "└────────────────┴────────────┴────────┴────────┘ shape: (5, 4)\n",
      "┌────────────────┬────────────┬────────┬────────┐\n",
      "│ name           ┆ birthdate  ┆ weight ┆ height │\n",
      "│ ---            ┆ ---        ┆ ---    ┆ ---    │\n",
      "│ str            ┆ date       ┆ f64    ┆ f64    │\n",
      "╞════════════════╪════════════╪════════╪════════╡\n",
      "│ Daniel Donovan ┆ 1981-04-30 ┆ 83.1   ┆ 1.75   │\n",
      "│ Ethan Edwards  ┆ 1977-05-10 ┆ 67.9   ┆ 1.76   │\n",
      "│ Fiona Foster   ┆ 1975-06-23 ┆ 72.5   ┆ 1.6    │\n",
      "│ Grace Gibson   ┆ 1973-07-22 ┆ 57.6   ┆ 1.66   │\n",
      "│ Henry Harris   ┆ 1971-08-03 ┆ 93.1   ┆ 1.8    │\n",
      "└────────────────┴────────────┴────────┴────────┘ shape: (2, 4)\n",
      "┌──────────────┬────────────┬────────┬────────┐\n",
      "│ name         ┆ birthdate  ┆ weight ┆ height │\n",
      "│ ---          ┆ ---        ┆ ---    ┆ ---    │\n",
      "│ str          ┆ date       ┆ f64    ┆ f64    │\n",
      "╞══════════════╪════════════╪════════╪════════╡\n",
      "│ Chloe Cooper ┆ 1983-03-22 ┆ 53.6   ┆ 1.65   │\n",
      "│ Grace Gibson ┆ 1973-07-22 ┆ 57.6   ┆ 1.66   │\n",
      "└──────────────┴────────────┴────────┴────────┘\n"
     ]
    }
   ],
   "source": [
    "print(df4.head(), df4.tail(), df4.sample(2))"
   ]
  },
  {
   "cell_type": "code",
   "execution_count": 24,
   "id": "5d41778e-03be-4a34-aae8-755e3dffc666",
   "metadata": {},
   "outputs": [
    {
     "name": "stdout",
     "output_type": "stream",
     "text": [
      "Rows: 8\n",
      "Columns: 4\n",
      "$ name       <str> 'Alice Archer', 'Ben Brown', 'Chloe Cooper', 'Daniel Donovan', 'Ethan Edwards', 'Fiona Foster', 'Grace Gibson', 'Henry Harris'\n",
      "$ birthdate <date> 1997-01-10, 1985-02-15, 1983-03-22, 1981-04-30, 1977-05-10, 1975-06-23, 1973-07-22, 1971-08-03\n",
      "$ weight     <f64> 57.9, 72.5, 53.6, 83.1, 67.9, 72.5, 57.6, 93.1\n",
      "$ height     <f64> 1.56, 1.77, 1.65, 1.75, 1.76, 1.6, 1.66, 1.8\n",
      "\n"
     ]
    }
   ],
   "source": [
    "df4.glimpse()"
   ]
  },
  {
   "cell_type": "code",
   "execution_count": 25,
   "id": "014f74fd-c872-4c5a-8145-7a8dc29f4b0a",
   "metadata": {},
   "outputs": [
    {
     "name": "stdout",
     "output_type": "stream",
     "text": [
      "shape: (9, 5)\n",
      "┌────────────┬──────────────┬─────────────────────┬───────────┬──────────┐\n",
      "│ statistic  ┆ name         ┆ birthdate           ┆ weight    ┆ height   │\n",
      "│ ---        ┆ ---          ┆ ---                 ┆ ---       ┆ ---      │\n",
      "│ str        ┆ str          ┆ str                 ┆ f64       ┆ f64      │\n",
      "╞════════════╪══════════════╪═════════════════════╪═══════════╪══════════╡\n",
      "│ count      ┆ 8            ┆ 8                   ┆ 8.0       ┆ 8.0      │\n",
      "│ null_count ┆ 0            ┆ 0                   ┆ 0.0       ┆ 0.0      │\n",
      "│ mean       ┆ null         ┆ 1980-08-01 06:00:00 ┆ 69.775    ┆ 1.69375  │\n",
      "│ std        ┆ null         ┆ null                ┆ 13.579685 ┆ 0.088146 │\n",
      "│ min        ┆ Alice Archer ┆ 1971-08-03          ┆ 53.6      ┆ 1.56     │\n",
      "│ 25%        ┆ null         ┆ 1975-06-23          ┆ 57.9      ┆ 1.65     │\n",
      "│ 50%        ┆ null         ┆ 1981-04-30          ┆ 72.5      ┆ 1.75     │\n",
      "│ 75%        ┆ null         ┆ 1983-03-22          ┆ 72.5      ┆ 1.76     │\n",
      "│ max        ┆ Henry Harris ┆ 1997-01-10          ┆ 93.1      ┆ 1.8      │\n",
      "└────────────┴──────────────┴─────────────────────┴───────────┴──────────┘\n"
     ]
    }
   ],
   "source": [
    "print(df4.describe())"
   ]
  },
  {
   "cell_type": "code",
   "execution_count": 26,
   "id": "7d25c0d1-5fd9-48f9-8149-e6846de6b0d3",
   "metadata": {},
   "outputs": [
    {
     "name": "stdout",
     "output_type": "stream",
     "text": [
      "Schema([('name', String), ('birthdate', Date), ('weight', Float64), ('height', Float64)])\n"
     ]
    }
   ],
   "source": [
    "print(df4.schema)"
   ]
  },
  {
   "cell_type": "code",
   "execution_count": 27,
   "id": "07798009-1a3a-4c15-81cc-64421ca31f10",
   "metadata": {},
   "outputs": [
    {
     "name": "stdout",
     "output_type": "stream",
     "text": [
      "shape: (4, 2)\n",
      "┌────────┬─────┐\n",
      "│ name   ┆ age │\n",
      "│ ---    ┆ --- │\n",
      "│ str    ┆ u8  │\n",
      "╞════════╪═════╡\n",
      "│ Alice  ┆ 27  │\n",
      "│ Ben    ┆ 39  │\n",
      "│ Chloe  ┆ 41  │\n",
      "│ Daniel ┆ 43  │\n",
      "└────────┴─────┘\n"
     ]
    }
   ],
   "source": [
    "df = pl.DataFrame(\n",
    "    {\n",
    "        \"name\": [\"Alice\", \"Ben\", \"Chloe\", \"Daniel\"],\n",
    "        \"age\": [27, 39, 41, 43],\n",
    "    },\n",
    "    schema={\"name\": None, \"age\": pl.UInt8}, # specified to override age data type\n",
    ")\n",
    "\n",
    "print(df)"
   ]
  },
  {
   "cell_type": "markdown",
   "id": "e1d89bba-1d29-42af-bcd8-de12bf4b8e89",
   "metadata": {},
   "source": [
    "# Playing with data\n",
    "Basica operations ranges from arithmatic to conditionals, and is the bread and butter of data wrangling.  Here a example world cup results will be leveraged to analyze some sample data.  The entire data processing recipe is designed with a lazy frame to reduce the load when actually processing the data.  In this instance, dtypes are modified and new columns are added.  "
   ]
  },
  {
   "cell_type": "code",
   "execution_count": 28,
   "id": "4bf4006c-5956-457b-83e4-5cdc01ecfef6",
   "metadata": {},
   "outputs": [],
   "source": [
    "lf_wc_results = pl.LazyFrame(\n",
    "    pl.read_csv('./World+Cup/world_cup_matches.csv').with_columns(\n",
    "        pl.col('Date').str.to_datetime('%Y-%m-%d', time_unit=None),\n",
    "        pl.col('Year').cast(pl.Int16),\n",
    "        pl.col('Stage').cast(pl.Categorical),\n",
    "        pl.col('Home Goals').cast(pl.Int8).alias('HGF'),\n",
    "        pl.col('Away Goals').cast(pl.Int8).alias('AGF'),\n",
    "        pl.col('Home Goals').cast(pl.Int8).alias('AGA'),\n",
    "        pl.col('Away Goals').cast(pl.Int8).alias('HGA'),\n",
    "        (pl.col('Home Goals') - pl.col('Away Goals')).cast(pl.Int8).alias('HGD'),\n",
    "        (pl.col('Away Goals') - pl.col('Home Goals')).cast(pl.Int8).alias('AGD'),\n",
    "        pl.when(pl.col('Home Goals') > pl.col('Away Goals'))\n",
    "            .then(pl.col('Home Team'))\n",
    "            .when(pl.col('Away Goals') > pl.col('Home Goals'))\n",
    "            .then(pl.col('Away Team'))\n",
    "            .when(pl.col('Home Goals') == pl.col('Away Goals'))\n",
    "            .then(pl.lit('Draw'))\n",
    "            .alias('Winner'),\n",
    "    )\n",
    ")"
   ]
  },
  {
   "cell_type": "code",
   "execution_count": 29,
   "id": "ebda1bd5-15c4-4a28-9c4d-7767e25eeb8e",
   "metadata": {},
   "outputs": [
    {
     "data": {
      "text/html": [
       "<div><style>\n",
       ".dataframe > thead > tr,\n",
       ".dataframe > tbody > tr {\n",
       "  text-align: right;\n",
       "  white-space: pre-wrap;\n",
       "}\n",
       "</style>\n",
       "<small>shape: (5, 17)</small><table border=\"1\" class=\"dataframe\"><thead><tr><th>ID</th><th>Year</th><th>Date</th><th>Stage</th><th>Home Team</th><th>Home Goals</th><th>Away Goals</th><th>Away Team</th><th>Win Conditions</th><th>Host Team</th><th>HGF</th><th>AGF</th><th>AGA</th><th>HGA</th><th>HGD</th><th>AGD</th><th>Winner</th></tr><tr><td>i64</td><td>i16</td><td>datetime[μs]</td><td>cat</td><td>str</td><td>i64</td><td>i64</td><td>str</td><td>str</td><td>bool</td><td>i8</td><td>i8</td><td>i8</td><td>i8</td><td>i8</td><td>i8</td><td>str</td></tr></thead><tbody><tr><td>1</td><td>1930</td><td>1930-07-13 00:00:00</td><td>&quot;Group stage&quot;</td><td>&quot;France&quot;</td><td>4</td><td>1</td><td>&quot;Mexico&quot;</td><td>null</td><td>false</td><td>4</td><td>1</td><td>4</td><td>1</td><td>3</td><td>-3</td><td>&quot;France&quot;</td></tr><tr><td>2</td><td>1930</td><td>1930-07-13 00:00:00</td><td>&quot;Group stage&quot;</td><td>&quot;United States&quot;</td><td>3</td><td>0</td><td>&quot;Belgium&quot;</td><td>null</td><td>false</td><td>3</td><td>0</td><td>3</td><td>0</td><td>3</td><td>-3</td><td>&quot;United States&quot;</td></tr><tr><td>3</td><td>1930</td><td>1930-07-14 00:00:00</td><td>&quot;Group stage&quot;</td><td>&quot;Yugoslavia&quot;</td><td>2</td><td>1</td><td>&quot;Brazil&quot;</td><td>null</td><td>false</td><td>2</td><td>1</td><td>2</td><td>1</td><td>1</td><td>-1</td><td>&quot;Yugoslavia&quot;</td></tr><tr><td>4</td><td>1930</td><td>1930-07-14 00:00:00</td><td>&quot;Group stage&quot;</td><td>&quot;Romania&quot;</td><td>3</td><td>1</td><td>&quot;Peru&quot;</td><td>null</td><td>false</td><td>3</td><td>1</td><td>3</td><td>1</td><td>2</td><td>-2</td><td>&quot;Romania&quot;</td></tr><tr><td>5</td><td>1930</td><td>1930-07-15 00:00:00</td><td>&quot;Group stage&quot;</td><td>&quot;Argentina&quot;</td><td>1</td><td>0</td><td>&quot;France&quot;</td><td>null</td><td>false</td><td>1</td><td>0</td><td>1</td><td>0</td><td>1</td><td>-1</td><td>&quot;Argentina&quot;</td></tr></tbody></table></div>"
      ],
      "text/plain": [
       "shape: (5, 17)\n",
       "┌─────┬──────┬─────────────────────┬─────────────┬───┬─────┬─────┬─────┬───────────────┐\n",
       "│ ID  ┆ Year ┆ Date                ┆ Stage       ┆ … ┆ HGA ┆ HGD ┆ AGD ┆ Winner        │\n",
       "│ --- ┆ ---  ┆ ---                 ┆ ---         ┆   ┆ --- ┆ --- ┆ --- ┆ ---           │\n",
       "│ i64 ┆ i16  ┆ datetime[μs]        ┆ cat         ┆   ┆ i8  ┆ i8  ┆ i8  ┆ str           │\n",
       "╞═════╪══════╪═════════════════════╪═════════════╪═══╪═════╪═════╪═════╪═══════════════╡\n",
       "│ 1   ┆ 1930 ┆ 1930-07-13 00:00:00 ┆ Group stage ┆ … ┆ 1   ┆ 3   ┆ -3  ┆ France        │\n",
       "│ 2   ┆ 1930 ┆ 1930-07-13 00:00:00 ┆ Group stage ┆ … ┆ 0   ┆ 3   ┆ -3  ┆ United States │\n",
       "│ 3   ┆ 1930 ┆ 1930-07-14 00:00:00 ┆ Group stage ┆ … ┆ 1   ┆ 1   ┆ -1  ┆ Yugoslavia    │\n",
       "│ 4   ┆ 1930 ┆ 1930-07-14 00:00:00 ┆ Group stage ┆ … ┆ 1   ┆ 2   ┆ -2  ┆ Romania       │\n",
       "│ 5   ┆ 1930 ┆ 1930-07-15 00:00:00 ┆ Group stage ┆ … ┆ 0   ┆ 1   ┆ -1  ┆ Argentina     │\n",
       "└─────┴──────┴─────────────────────┴─────────────┴───┴─────┴─────┴─────┴───────────────┘"
      ]
     },
     "execution_count": 29,
     "metadata": {},
     "output_type": "execute_result"
    }
   ],
   "source": [
    "lf_wc_results.collect().head()"
   ]
  },
  {
   "cell_type": "markdown",
   "id": "3952e914-d2b2-4b9f-a311-e1f1544280cd",
   "metadata": {},
   "source": [
    "### Winners\n",
    "Here the data is groupped by the Winning team, and aggregated.  Because Polars can optimize across processes the Lazy frame filter out unused data to improve the analysis."
   ]
  },
  {
   "cell_type": "code",
   "execution_count": 30,
   "id": "ced8036e-aa89-448d-8e91-9a1807914190",
   "metadata": {},
   "outputs": [
    {
     "data": {
      "text/html": [
       "<div><style>\n",
       ".dataframe > thead > tr,\n",
       ".dataframe > tbody > tr {\n",
       "  text-align: right;\n",
       "  white-space: pre-wrap;\n",
       "}\n",
       "</style>\n",
       "<small>shape: (5, 4)</small><table border=\"1\" class=\"dataframe\"><thead><tr><th>Winner</th><th>wins</th><th>HGF_avg</th><th>HGA_avg</th></tr><tr><td>str</td><td>u32</td><td>f64</td><td>f64</td></tr></thead><tbody><tr><td>&quot;Draw&quot;</td><td>199</td><td>0.894472</td><td>0.894472</td></tr><tr><td>&quot;Brazil&quot;</td><td>73</td><td>2.410959</td><td>1.068493</td></tr><tr><td>&quot;Germany&quot;</td><td>67</td><td>2.373134</td><td>1.029851</td></tr><tr><td>&quot;Italy&quot;</td><td>45</td><td>1.888889</td><td>0.955556</td></tr><tr><td>&quot;Argentina&quot;</td><td>43</td><td>2.418605</td><td>0.697674</td></tr></tbody></table></div>"
      ],
      "text/plain": [
       "shape: (5, 4)\n",
       "┌───────────┬──────┬──────────┬──────────┐\n",
       "│ Winner    ┆ wins ┆ HGF_avg  ┆ HGA_avg  │\n",
       "│ ---       ┆ ---  ┆ ---      ┆ ---      │\n",
       "│ str       ┆ u32  ┆ f64      ┆ f64      │\n",
       "╞═══════════╪══════╪══════════╪══════════╡\n",
       "│ Draw      ┆ 199  ┆ 0.894472 ┆ 0.894472 │\n",
       "│ Brazil    ┆ 73   ┆ 2.410959 ┆ 1.068493 │\n",
       "│ Germany   ┆ 67   ┆ 2.373134 ┆ 1.029851 │\n",
       "│ Italy     ┆ 45   ┆ 1.888889 ┆ 0.955556 │\n",
       "│ Argentina ┆ 43   ┆ 2.418605 ┆ 0.697674 │\n",
       "└───────────┴──────┴──────────┴──────────┘"
      ]
     },
     "execution_count": 30,
     "metadata": {},
     "output_type": "execute_result"
    }
   ],
   "source": [
    "lf_wc_results.collect().group_by(pl.col('Winner')).agg(\n",
    "    pl.len().alias('wins'),\n",
    "    pl.col('HGF').mean().name.suffix('_avg'),\n",
    "    pl.col('HGA').mean().name.suffix('_avg'),\n",
    ").sort(pl.col('wins'),descending=True).top_k(by=pl.col('wins'),k=5)"
   ]
  },
  {
   "cell_type": "markdown",
   "id": "281ebaf1-d2e4-4454-9ba4-77772c8d728e",
   "metadata": {},
   "source": [
    "### Extracting records and stats\n",
    "To extract the records for each team across numerous world cups their is a need to groupby the Home and Away team.  This will create to seperate groupings which need to be combined to achieve one continuous record view for all teams."
   ]
  },
  {
   "cell_type": "code",
   "execution_count": 31,
   "id": "8e1d1d89-8cdf-4a58-b39a-9f90a4f26cd2",
   "metadata": {},
   "outputs": [],
   "source": [
    "home = lf_wc_results.select(\n",
    "    [\"Home Team\",'HGF','HGA','HGD','Winner']\n",
    ").rename(\n",
    "    {\"Home Team\":'Team','HGF':'GF','HGA':'GA','HGD':'GD'}\n",
    ").with_columns(\n",
    "    pl.when(pl.col('Team') == pl.col('Winner')).then(1).otherwise(0).alias('W'),\n",
    "    pl.when((pl.col('Team') != pl.col('Winner'))&(pl.col('Winner') != pl.lit('Draw'))).then(1).otherwise(0).alias('L'),\n",
    "    pl.when(pl.col('Winner') == pl.lit('Draw')).then(1).otherwise(0).alias('D'),\n",
    ").group_by(\n",
    "    'Team'\n",
    ").agg(\n",
    "    pl.len().alias('Matches'),\n",
    "    pl.col(['GF','GA','GD']).sum(),\n",
    "    pl.col(['GF','GA','GD']).mean().round(2).name.suffix('_avg'),\n",
    "    pl.col(['W','L','D']).sum(),\n",
    ").sort(\n",
    "    by='Matches',descending=True\n",
    ").collect()"
   ]
  },
  {
   "cell_type": "code",
   "execution_count": 32,
   "id": "1da42880-d289-4d86-9a8c-37e111efa66b",
   "metadata": {},
   "outputs": [],
   "source": [
    "away = lf_wc_results.select(\n",
    "    [\"Away Team\",'AGF','AGA','AGD','Winner']\n",
    ").rename(\n",
    "    {\"Away Team\":'Team','AGF':'GF','AGA':'GA','AGD':'GD'}\n",
    ").with_columns(\n",
    "    pl.when(pl.col('Team') == pl.col('Winner')).then(1).otherwise(0).alias('W'),\n",
    "    pl.when((pl.col('Team') != pl.col('Winner'))&(pl.col('Winner') != pl.lit('Draw'))).then(1).otherwise(0).alias('L'),\n",
    "    pl.when(pl.col('Winner') == pl.lit('Draw')).then(1).otherwise(0).alias('D'),\n",
    ").group_by(\n",
    "    'Team'\n",
    ").agg(\n",
    "    pl.len().alias('Matches'),\n",
    "    pl.col(['GF','GA','GD']).sum(),\n",
    "    pl.col(['GF','GA','GD']).mean().round(2).name.suffix('_avg'),\n",
    "    pl.col(['W','L','D']).sum(),\n",
    ").sort(\n",
    "    by='Matches',descending=True\n",
    ").collect()"
   ]
  },
  {
   "cell_type": "code",
   "execution_count": 33,
   "id": "6b242459-1d17-4c59-8ed4-34f80f0b7269",
   "metadata": {},
   "outputs": [
    {
     "name": "stdout",
     "output_type": "stream",
     "text": [
      "shape: (20, 11)\n",
      "┌───────────────┬─────────┬─────┬─────┬─────┬─────┬─────┬─────┬────────┬────────┬────────┐\n",
      "│ Team          ┆ Matches ┆ GF  ┆ GA  ┆ GD  ┆ W   ┆ L   ┆ D   ┆ GF_avg ┆ GA_avg ┆ GD_avg │\n",
      "│ ---           ┆ ---     ┆ --- ┆ --- ┆ --- ┆ --- ┆ --- ┆ --- ┆ ---    ┆ ---    ┆ ---    │\n",
      "│ str           ┆ u32     ┆ i64 ┆ i64 ┆ i64 ┆ i32 ┆ i32 ┆ i32 ┆ f64    ┆ f64    ┆ f64    │\n",
      "╞═══════════════╪═════════╪═════╪═════╪═════╪═════╪═════╪═════╪════════╪════════╪════════╡\n",
      "│ Brazil        ┆ 109     ┆ 229 ┆ 105 ┆ 124 ┆ 73  ┆ 18  ┆ 18  ┆ 2.0    ┆ 1.1    ┆ 0.9    │\n",
      "│ Germany       ┆ 109     ┆ 226 ┆ 125 ┆ 101 ┆ 67  ┆ 22  ┆ 20  ┆ 1.98   ┆ 1.36   ┆ 0.62   │\n",
      "│ Italy         ┆ 83      ┆ 128 ┆ 77  ┆ 51  ┆ 45  ┆ 17  ┆ 21  ┆ 1.48   ┆ 1.0    ┆ 0.48   │\n",
      "│ Argentina     ┆ 81      ┆ 137 ┆ 93  ┆ 44  ┆ 43  ┆ 23  ┆ 15  ┆ 1.52   ┆ 1.29   ┆ 0.23   │\n",
      "│ England       ┆ 69      ┆ 91  ┆ 64  ┆ 27  ┆ 29  ┆ 19  ┆ 21  ┆ 1.31   ┆ 0.94   ┆ 0.36   │\n",
      "│ France        ┆ 66      ┆ 120 ┆ 77  ┆ 43  ┆ 34  ┆ 19  ┆ 13  ┆ 1.78   ┆ 1.18   ┆ 0.6    │\n",
      "│ Spain         ┆ 63      ┆ 99  ┆ 72  ┆ 27  ┆ 30  ┆ 18  ┆ 15  ┆ 1.57   ┆ 1.14   ┆ 0.43   │\n",
      "│ Mexico        ┆ 57      ┆ 60  ┆ 98  ┆ -38 ┆ 16  ┆ 27  ┆ 14  ┆ 1.09   ┆ 1.54   ┆ -0.46  │\n",
      "│ Uruguay       ┆ 56      ┆ 87  ┆ 74  ┆ 13  ┆ 24  ┆ 20  ┆ 12  ┆ 1.49   ┆ 1.36   ┆ 0.13   │\n",
      "│ Sweden        ┆ 51      ┆ 80  ┆ 73  ┆ 7   ┆ 19  ┆ 19  ┆ 13  ┆ 1.5    ┆ 1.54   ┆ -0.04  │\n",
      "│ Netherlands   ┆ 50      ┆ 86  ┆ 48  ┆ 38  ┆ 27  ┆ 11  ┆ 12  ┆ 1.72   ┆ 1.0    ┆ 0.72   │\n",
      "│ Belgium       ┆ 48      ┆ 68  ┆ 72  ┆ -4  ┆ 20  ┆ 19  ┆ 9   ┆ 1.48   ┆ 1.4    ┆ 0.07   │\n",
      "│ Russia        ┆ 45      ┆ 77  ┆ 54  ┆ 23  ┆ 19  ┆ 16  ┆ 10  ┆ 1.58   ┆ 1.23   ┆ 0.35   │\n",
      "│ Switzerland   ┆ 37      ┆ 50  ┆ 64  ┆ -14 ┆ 12  ┆ 17  ┆ 8   ┆ 1.44   ┆ 1.74   ┆ -0.3   │\n",
      "│ Yugoslavia    ┆ 37      ┆ 60  ┆ 46  ┆ 14  ┆ 16  ┆ 13  ┆ 8   ┆ 1.74   ┆ 1.15   ┆ 0.6    │\n",
      "│ South Korea   ┆ 34      ┆ 34  ┆ 70  ┆ -36 ┆ 6   ┆ 19  ┆ 9   ┆ 0.98   ┆ 2.16   ┆ -1.18  │\n",
      "│ Poland        ┆ 34      ┆ 46  ┆ 45  ┆ 1   ┆ 16  ┆ 13  ┆ 5   ┆ 1.36   ┆ 1.33   ┆ 0.03   │\n",
      "│ United States ┆ 33      ┆ 37  ┆ 62  ┆ -25 ┆ 8   ┆ 19  ┆ 6   ┆ 1.12   ┆ 1.86   ┆ -0.74  │\n",
      "│ Chile         ┆ 33      ┆ 40  ┆ 49  ┆ -9  ┆ 11  ┆ 15  ┆ 7   ┆ 1.23   ┆ 1.47   ┆ -0.25  │\n",
      "│ Hungary       ┆ 32      ┆ 87  ┆ 57  ┆ 30  ┆ 15  ┆ 14  ┆ 3   ┆ 2.53   ┆ 1.88   ┆ 0.64   │\n",
      "└───────────────┴─────────┴─────┴─────┴─────┴─────┴─────┴─────┴────────┴────────┴────────┘\n"
     ]
    }
   ],
   "source": [
    "# Just for this display\n",
    "with pl.Config(tbl_rows=-1, tbl_cols=-1):\n",
    "    print(pl.LazyFrame(\n",
    "        pl.concat([home, away])\n",
    "        .group_by(\n",
    "            'Team'\n",
    "        ).agg(\n",
    "            pl.col(['Matches','GF','GA','GD','W','L','D']).sum(),\n",
    "            pl.col(['GF_avg', 'GA_avg', 'GD_avg']).mean().round(2),\n",
    "        )\n",
    "    ).sort(\n",
    "        by=pl.col('Matches'), descending=True\n",
    "    ).top_k(\n",
    "        by=pl.col('Matches'),k=20\n",
    "    ).collect()\n",
    "         )"
   ]
  },
  {
   "cell_type": "code",
   "execution_count": null,
   "id": "36813ee6-ea14-4d5e-b7c7-41aa3f117132",
   "metadata": {},
   "outputs": [],
   "source": []
  },
  {
   "cell_type": "code",
   "execution_count": null,
   "id": "9d9510c1-b714-48c8-9aa7-9f8892386e15",
   "metadata": {},
   "outputs": [],
   "source": []
  },
  {
   "cell_type": "code",
   "execution_count": null,
   "id": "0e597490-87d5-401c-a2c0-b0c2f4e2f544",
   "metadata": {},
   "outputs": [],
   "source": []
  }
 ],
 "metadata": {
  "kernelspec": {
   "display_name": "Python 3 (ipykernel)",
   "language": "python",
   "name": "python3"
  },
  "language_info": {
   "codemirror_mode": {
    "name": "ipython",
    "version": 3
   },
   "file_extension": ".py",
   "mimetype": "text/x-python",
   "name": "python",
   "nbconvert_exporter": "python",
   "pygments_lexer": "ipython3",
   "version": "3.11.0"
  }
 },
 "nbformat": 4,
 "nbformat_minor": 5
}
